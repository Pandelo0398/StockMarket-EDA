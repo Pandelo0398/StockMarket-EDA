{
 "cells": [
  {
   "cell_type": "markdown",
   "metadata": {},
   "source": [
    "***Importar las librerias necesarias, así como definir las funciones necesarias para representar los dataframes***"
   ]
  },
  {
   "cell_type": "code",
   "execution_count": 1,
   "metadata": {},
   "outputs": [],
   "source": [
    "import pandas as pd\n",
    "import numpy as np\n",
    "import ssl\n",
    "ssl._create_default_https_context = ssl._create_unverified_context\n",
    "from pandas_datareader import data as pdr\n",
    "import yfinance as yf\n",
    "import datetime\n",
    "import plotly.graph_objects as go\n",
    "import matplotlib.pyplot as plt"
   ]
  },
  {
   "cell_type": "code",
   "execution_count": 2,
   "metadata": {},
   "outputs": [],
   "source": [
    "#Funcion para obtener un grafico de Velas \n",
    "\n",
    "def candle_plot(df):\n",
    "    fig = go.Figure(data=[go.Candlestick(x=df['Date'],\n",
    "                open=df['Open'],\n",
    "                high=df['High'],\n",
    "                low=df['Low'],\n",
    "                close=df['Close'])])\n",
    "\n",
    "    fig.show()"
   ]
  },
  {
   "cell_type": "code",
   "execution_count": 70,
   "metadata": {},
   "outputs": [],
   "source": []
  },
  {
   "cell_type": "code",
   "execution_count": 3,
   "metadata": {},
   "outputs": [],
   "source": [
    "#La función que extrae los datos de la API de YahooFinance para poder trabajar el dataframe \n",
    "def data_reader(empresa):\n",
    "    data = yf.download(\n",
    "        tickers= empresa,\n",
    "        period=\"4y\",\n",
    "        interval=\"1d\",\n",
    "        keepna= False,\n",
    "        group_by=\"column\",\n",
    "        rounding=True)\n",
    "    #Obtengo el df, y establezco el indice, el tipo de objeto de cada dataframe\n",
    "    data.columns = data.columns.str.replace('Adj Close', 'Adj_Close')\n",
    "    data = data.reset_index()\n",
    "    data.Date = pd.to_datetime(data.Date, utc=True)\n",
    "    #Obtengo el retorno diario de la acción \n",
    "    returns = ((data['Adj_Close']/data['Adj_Close'].shift(1))-1)\n",
    "    log_returns = np.log(1 + data['Adj_Close'].pct_change())\n",
    "    data['Retorno']=returns\n",
    "    data['Retorno_log']=log_returns\n",
    "    data['Codigo empresa'] = empresa\n",
    "    data = data.fillna(0)\n",
    "    data.to_csv(\"/Users/josemanuel/Desktop/EDA Mercados Bursatiles del IBEX/Bancos/\"+empresa+\".csv\")\n",
    "\n",
    "    '''\n",
    "    Aquí se utiliza la API de Yahoo finance, la cual se comprende de:\n",
    "    el ticker: Que es el código con el que se la empresa se identifica en la pagina. \n",
    "    el periodo, el cual es el intervalo de tiempo que quieres extraer \n",
    "    el keepna, que sirve para eliminar los valores nulos \n",
    "    como quiere ser agrupado \n",
    "    y si se quiere hacer un redondeo\n",
    "\n",
    "    Se le cambia los nombres a varias columnas para que estas puedan manejarse mejor, y se trabaja mejor el \n",
    "    dataframe\n",
    "\n",
    "    se utiliza numpy para realizar operaciones matemáticas como obtener los retornos \n",
    "    y el Fillna porque cuando sacas los retornos, el primer valor que te aparecerá será un Nan que puede ser sustituido por un 0 \n",
    "    luego los datos de la empresa se guardan en un CSV.\n",
    "    '''"
   ]
  },
  {
   "cell_type": "code",
   "execution_count": 4,
   "metadata": {},
   "outputs": [],
   "source": [
    "#Función que lee los CSV uno por uno, los guarda en una concatena los dataframes hacia abajo \n",
    "\n",
    "def concatenador(x):\n",
    "    import glob\n",
    "    import os\n",
    "\n",
    "    carpeta_csv ='/Users/josemanuel/Desktop/EDA Mercados Bursatiles del IBEX/Bancos' # utiliza tu propia ruta \n",
    "    todo_csv = glob.glob(os.path.join(carpeta_csv , \"*.csv\"))\n",
    "#DEBES DE UTILIZAR UNA RUTA PERSONAL PARA EXTRAER LOS CSVs \n",
    "    lista = []\n",
    "\n",
    "    for el_csv in todo_csv:\n",
    "        the_data_base = pd.read_csv(el_csv, header=1)\n",
    "        lista.append(the_data_base)\n",
    "\n",
    "    bancos = pd.concat(lista, axis=0, ignore_index=False)"
   ]
  },
  {
   "cell_type": "code",
   "execution_count": 2,
   "metadata": {},
   "outputs": [],
   "source": [
    "def grafica_creator(df):\n",
    "    # Initialize figure\n",
    "    fig = go.Figure()\n",
    "    name = str(df['Codigo empresa'].unique())\n",
    "# Agregar las diferentes graficas\n",
    "\n",
    "    fig.add_trace(\n",
    "            go.Scatter(x=list(df.index),\n",
    "               y=list(df.High),\n",
    "               name=\"High\",\n",
    "               line=dict(color=\"#33CFA5\")))\n",
    "\n",
    "    fig.add_trace(\n",
    "            go.Scatter(x=list(df.index),\n",
    "               y=[df.High.mean()] * len(df.index),\n",
    "               name=\"High Average\",\n",
    "               visible=False,\n",
    "               line=dict(color=\"#33CFA5\", dash=\"dash\")))\n",
    "\n",
    "    fig.add_trace(\n",
    "            go.Scatter(x=list(df.index),\n",
    "               y=list(df.Low),\n",
    "               name=\"Low\",\n",
    "               line=dict(color=\"#F06A6A\")))\n",
    "\n",
    "    fig.add_trace(\n",
    "            go.Scatter(x=list(df.index),\n",
    "               y=[df.Low.mean()] * len(df.index),\n",
    "               name=\"Low Average\",\n",
    "               visible=False,\n",
    "               line=dict(color=\"#F06A6A\", dash=\"dash\")))\n",
    "\n",
    "# Se agregan las anotaciones, y se crean los botones para cada una de las tablas \n",
    "    high_annotations = [dict(x=\"2019-01-01\",\n",
    "                         y=df.High.mean(),\n",
    "                         xref=\"x\", yref=\"y\",\n",
    "                         text=\"High Average:<br> %.3f\" % df.High.mean(),\n",
    "                         ax=0, ay=-40),\n",
    "                    dict(x=df.High.idxmax(),\n",
    "                         y=df.High.max(),\n",
    "                         xref=\"x\", yref=\"y\",\n",
    "                         text=\"High Max:<br> %.3f\" % df.High.max(),\n",
    "                         ax=0, ay=-40)]\n",
    "    low_annotations = [dict(x=\"2019-01-01\",\n",
    "                        y=df.Low.mean(),\n",
    "                        xref=\"x\", yref=\"y\",\n",
    "                        text=\"Low Average:<br> %.3f\" % df.Low.mean(),\n",
    "                        ax=0, ay=40),\n",
    "                   dict(x=df.High.idxmin(),\n",
    "                        y=df.Low.min(),\n",
    "                        xref=\"x\", yref=\"y\",\n",
    "                        text=\"Low Min:<br> %.3f\" % df.Low.min(),\n",
    "                        ax=0, ay=40)]\n",
    "\n",
    "    fig.update_layout(\n",
    "        updatemenus=[\n",
    "            dict(\n",
    "                active=0,\n",
    "                buttons=list([\n",
    "                    dict(label=\"None\",\n",
    "                        method=\"update\",\n",
    "                        args=[{\"visible\": [True, False, True, False]},\n",
    "                           {\"title\": name,\n",
    "                            \"annotations\": []}]),\n",
    "                dict(label=\"High\",\n",
    "                     method=\"update\",\n",
    "                     args=[{\"visible\": [True, True, False, False]},\n",
    "                           {\"title\": name,\n",
    "                            \"annotations\": high_annotations}]),\n",
    "                dict(label=\"Low\",\n",
    "                     method=\"update\",\n",
    "                     args=[{\"visible\": [False, False, True, True]},\n",
    "                           {\"title\": name ,\n",
    "                            \"annotations\": low_annotations}]),\n",
    "                dict(label=\"Both\",\n",
    "                     method=\"update\",\n",
    "                     args=[{\"visible\": [True, True, True, True]},\n",
    "                           {\"title\": name,\n",
    "                            \"annotations\": high_annotations + low_annotations}]),\n",
    "            ]),\n",
    "        )\n",
    "    ])\n",
    "\n",
    "     \n",
    "\n",
    "# Set title\n",
    "    fig.update_layout(title_text=name)\n",
    "\n",
    "    fig.show()"
   ]
  },
  {
   "cell_type": "markdown",
   "metadata": {},
   "source": [
    "***Inicia creando una lista con los valores de las empresas que quieres recopilar los datos***"
   ]
  },
  {
   "cell_type": "code",
   "execution_count": 5,
   "metadata": {},
   "outputs": [],
   "source": [
    "empresas = ['SAB.MC','BKT.MC','CABK.MC','BBVA.MC','SAN.MC']\n",
    "#Aqui se gurada una lista con los tickers para que sea más facil conseguir los datos "
   ]
  },
  {
   "cell_type": "code",
   "execution_count": null,
   "metadata": {},
   "outputs": [],
   "source": []
  },
  {
   "cell_type": "code",
   "execution_count": 6,
   "metadata": {},
   "outputs": [
    {
     "name": "stdout",
     "output_type": "stream",
     "text": [
      "[*********************100%***********************]  1 of 1 completed\n",
      "[*********************100%***********************]  1 of 1 completed\n",
      "[*********************100%***********************]  1 of 1 completed\n",
      "[*********************100%***********************]  1 of 1 completed\n",
      "[*********************100%***********************]  1 of 1 completed\n"
     ]
    }
   ],
   "source": [
    "#Bucle for que me itera los elementos de la lista y me los pasa por la función para obtener los datos\n",
    "for x in empresas:\n",
    "    data_reader(x)"
   ]
  },
  {
   "cell_type": "code",
   "execution_count": 3,
   "metadata": {},
   "outputs": [],
   "source": [
    "caixa = pd.read_csv('/Users/josemanuel/Desktop/EDA Mercados Bursatiles del IBEX/Bancos/CABK.MC.csv')"
   ]
  },
  {
   "cell_type": "code",
   "execution_count": 4,
   "metadata": {},
   "outputs": [],
   "source": [
    "caixa.Date = pd.to_datetime(caixa['Date'], utc = True)"
   ]
  },
  {
   "cell_type": "code",
   "execution_count": 5,
   "metadata": {},
   "outputs": [],
   "source": [
    "del caixa['Unnamed: 0']\n",
    "caixa.set_index('Date', inplace=True)\n",
    "caixa_mensual = caixa.resample(\"BM\").mean()"
   ]
  },
  {
   "cell_type": "code",
   "execution_count": 6,
   "metadata": {},
   "outputs": [],
   "source": [
    "caixa_mensual = caixa.resample(\"BM\").mean()\n",
    "caixa_mensual['Codigo empresa'] = 'CABK.MC'"
   ]
  },
  {
   "cell_type": "code",
   "execution_count": 7,
   "metadata": {},
   "outputs": [
    {
     "data": {
      "image/png": "[encoded data removed]",
      "text/plain": [
       "<Figure size 1500x600 with 1 Axes>"
      ]
     },
     "metadata": {},
     "output_type": "display_data"
    }
   ],
   "source": [
    "caixa_mensual\n",
    "caixa_mensual['Retorno'].plot(figsize=(15,6))\n",
    "caixa_mensual['Retorno_log'].plot(figsize=(15,6))\n",
    "plt.show()"
   ]
  },
  {
   "cell_type": "code",
   "execution_count": 8,
   "metadata": {},
   "outputs": [],
   "source": [
    "santander = pd.read_csv('/Users/josemanuel/Desktop/EDA Mercados Bursatiles del IBEX/Bancos/SAN.MC.csv')\n"
   ]
  },
  {
   "cell_type": "code",
   "execution_count": 9,
   "metadata": {},
   "outputs": [],
   "source": [
    "del santander['Unnamed: 0']\n",
    "santander.Date = pd.to_datetime(santander['Date'], utc = True)\n",
    "santander.set_index('Date', inplace=True)\n",
    "santander_mensual = santander.resample(\"BM\").mean()\n",
    "santander_mensual['Codigo empresa']='SAN.MC'"
   ]
  },
  {
   "cell_type": "code",
   "execution_count": 10,
   "metadata": {},
   "outputs": [],
   "source": [
    "df = pd.concat([caixa, santander], axis = 0)"
   ]
  },
  {
   "cell_type": "code",
   "execution_count": 11,
   "metadata": {},
   "outputs": [],
   "source": [
    "bbva = pd.read_csv('/Users/josemanuel/Desktop/EDA Mercados Bursatiles del IBEX/Bancos/BBVA.MC.csv')\n",
    "del bbva['Unnamed: 0']\n",
    "bbva.Date = pd.to_datetime(bbva['Date'], utc = True)\n",
    "bbva.set_index('Date', inplace=True)\n",
    "bbva_mensual = bbva.resample(\"BM\").mean()\n",
    "bbva_mensual['Codigo empresa']='BBVA.MC'"
   ]
  },
  {
   "cell_type": "code",
   "execution_count": 12,
   "metadata": {},
   "outputs": [],
   "source": [
    "bankinter = pd.read_csv('/Users/josemanuel/Desktop/EDA Mercados Bursatiles del IBEX/Bancos/BKT.MC.csv')\n",
    "del bankinter['Unnamed: 0']\n",
    "bankinter.Date = pd.to_datetime(bankinter['Date'], utc = True)\n",
    "bankinter.set_index('Date', inplace=True)\n",
    "bankinter_mensual = bankinter.resample(\"BM\").mean()\n",
    "bankinter_mensual['Codigo empresa']='BKT.MC'"
   ]
  },
  {
   "cell_type": "code",
   "execution_count": 13,
   "metadata": {},
   "outputs": [],
   "source": [
    "sabadell = pd.read_csv('/Users/josemanuel/Desktop/EDA Mercados Bursatiles del IBEX/Bancos/SAB.MC.csv')\n",
    "del sabadell['Unnamed: 0']\n",
    "sabadell.Date = pd.to_datetime(sabadell['Date'], utc = True)\n",
    "sabadell.set_index('Date', inplace=True)\n",
    "sabadell_mensual = sabadell.resample(\"BM\").mean()\n",
    "sabadell_mensual['Codigo empresa'] = 'SAB.MC'"
   ]
  },
  {
   "cell_type": "code",
   "execution_count": 14,
   "metadata": {},
   "outputs": [],
   "source": [
    "df = pd.concat([caixa, santander, bbva, bankinter,sabadell], axis = 0)"
   ]
  },
  {
   "cell_type": "code",
   "execution_count": 15,
   "metadata": {},
   "outputs": [],
   "source": [
    "df1 = pd.concat([caixa_mensual, santander_mensual, bbva_mensual, bankinter_mensual, sabadell_mensual], axis=0)"
   ]
  },
  {
   "cell_type": "code",
   "execution_count": 19,
   "metadata": {},
   "outputs": [
    {
     "data": {
      "text/html": [
       "<div>\n",
       "<style scoped>\n",
       "    .dataframe tbody tr th:only-of-type {\n",
       "        vertical-align: middle;\n",
       "    }\n",
       "\n",
       "    .dataframe tbody tr th {\n",
       "        vertical-align: top;\n",
       "    }\n",
       "\n",
       "    .dataframe thead th {\n",
       "        text-align: right;\n",
       "    }\n",
       "</style>\n",
       "<table border=\"1\" class=\"dataframe\">\n",
       "  <thead>\n",
       "    <tr style=\"text-align: right;\">\n",
       "      <th></th>\n",
       "      <th>Open</th>\n",
       "      <th>High</th>\n",
       "      <th>Low</th>\n",
       "      <th>Close</th>\n",
       "      <th>Adj_Close</th>\n",
       "      <th>Volume</th>\n",
       "      <th>Retorno</th>\n",
       "      <th>Retorno_log</th>\n",
       "      <th>Codigo empresa</th>\n",
       "    </tr>\n",
       "    <tr>\n",
       "      <th>Date</th>\n",
       "      <th></th>\n",
       "      <th></th>\n",
       "      <th></th>\n",
       "      <th></th>\n",
       "      <th></th>\n",
       "      <th></th>\n",
       "      <th></th>\n",
       "      <th></th>\n",
       "      <th></th>\n",
       "    </tr>\n",
       "  </thead>\n",
       "  <tbody>\n",
       "    <tr>\n",
       "      <th>2018-11-30 00:00:00+00:00</th>\n",
       "      <td>3.681417</td>\n",
       "      <td>3.706750</td>\n",
       "      <td>3.637667</td>\n",
       "      <td>3.666000</td>\n",
       "      <td>3.209317</td>\n",
       "      <td>1.285128e+07</td>\n",
       "      <td>-0.001974</td>\n",
       "      <td>-0.002038</td>\n",
       "      <td>CABK.MC</td>\n",
       "    </tr>\n",
       "    <tr>\n",
       "      <th>2018-12-31 00:00:00+00:00</th>\n",
       "      <td>3.340526</td>\n",
       "      <td>3.373579</td>\n",
       "      <td>3.292895</td>\n",
       "      <td>3.316737</td>\n",
       "      <td>2.903568</td>\n",
       "      <td>1.373718e+07</td>\n",
       "      <td>-0.007108</td>\n",
       "      <td>-0.007303</td>\n",
       "      <td>CABK.MC</td>\n",
       "    </tr>\n",
       "    <tr>\n",
       "      <th>2019-01-31 00:00:00+00:00</th>\n",
       "      <td>3.267478</td>\n",
       "      <td>3.308435</td>\n",
       "      <td>3.231522</td>\n",
       "      <td>3.273174</td>\n",
       "      <td>2.865426</td>\n",
       "      <td>1.642768e+07</td>\n",
       "      <td>-0.001203</td>\n",
       "      <td>-0.001454</td>\n",
       "      <td>CABK.MC</td>\n",
       "    </tr>\n",
       "    <tr>\n",
       "      <th>2019-02-28 00:00:00+00:00</th>\n",
       "      <td>2.999800</td>\n",
       "      <td>3.029600</td>\n",
       "      <td>2.961500</td>\n",
       "      <td>2.997700</td>\n",
       "      <td>2.624265</td>\n",
       "      <td>1.883823e+07</td>\n",
       "      <td>0.000842</td>\n",
       "      <td>0.000713</td>\n",
       "      <td>CABK.MC</td>\n",
       "    </tr>\n",
       "    <tr>\n",
       "      <th>2019-03-29 00:00:00+00:00</th>\n",
       "      <td>2.941750</td>\n",
       "      <td>2.969050</td>\n",
       "      <td>2.900100</td>\n",
       "      <td>2.923250</td>\n",
       "      <td>2.559100</td>\n",
       "      <td>1.597695e+07</td>\n",
       "      <td>-0.005284</td>\n",
       "      <td>-0.005439</td>\n",
       "      <td>CABK.MC</td>\n",
       "    </tr>\n",
       "    <tr>\n",
       "      <th>...</th>\n",
       "      <td>...</td>\n",
       "      <td>...</td>\n",
       "      <td>...</td>\n",
       "      <td>...</td>\n",
       "      <td>...</td>\n",
       "      <td>...</td>\n",
       "      <td>...</td>\n",
       "      <td>...</td>\n",
       "      <td>...</td>\n",
       "    </tr>\n",
       "    <tr>\n",
       "      <th>2022-07-29 00:00:00+00:00</th>\n",
       "      <td>0.658850</td>\n",
       "      <td>0.672680</td>\n",
       "      <td>0.633870</td>\n",
       "      <td>0.649850</td>\n",
       "      <td>0.649850</td>\n",
       "      <td>4.466109e+07</td>\n",
       "      <td>-0.009058</td>\n",
       "      <td>-0.009837</td>\n",
       "      <td>SAB.MC</td>\n",
       "    </tr>\n",
       "    <tr>\n",
       "      <th>2022-08-31 00:00:00+00:00</th>\n",
       "      <td>0.657350</td>\n",
       "      <td>0.668433</td>\n",
       "      <td>0.648733</td>\n",
       "      <td>0.658692</td>\n",
       "      <td>0.658692</td>\n",
       "      <td>2.336608e+07</td>\n",
       "      <td>0.003069</td>\n",
       "      <td>0.002886</td>\n",
       "      <td>SAB.MC</td>\n",
       "    </tr>\n",
       "    <tr>\n",
       "      <th>2022-09-30 00:00:00+00:00</th>\n",
       "      <td>0.730286</td>\n",
       "      <td>0.746143</td>\n",
       "      <td>0.715495</td>\n",
       "      <td>0.731610</td>\n",
       "      <td>0.731610</td>\n",
       "      <td>3.883716e+07</td>\n",
       "      <td>0.001805</td>\n",
       "      <td>0.001333</td>\n",
       "      <td>SAB.MC</td>\n",
       "    </tr>\n",
       "    <tr>\n",
       "      <th>2022-10-31 00:00:00+00:00</th>\n",
       "      <td>0.749400</td>\n",
       "      <td>0.762945</td>\n",
       "      <td>0.737482</td>\n",
       "      <td>0.752745</td>\n",
       "      <td>0.752745</td>\n",
       "      <td>2.938024e+07</td>\n",
       "      <td>0.007786</td>\n",
       "      <td>0.007607</td>\n",
       "      <td>SAB.MC</td>\n",
       "    </tr>\n",
       "    <tr>\n",
       "      <th>2022-11-30 00:00:00+00:00</th>\n",
       "      <td>0.805080</td>\n",
       "      <td>0.816620</td>\n",
       "      <td>0.793680</td>\n",
       "      <td>0.803240</td>\n",
       "      <td>0.803240</td>\n",
       "      <td>2.800426e+07</td>\n",
       "      <td>-0.000508</td>\n",
       "      <td>-0.000592</td>\n",
       "      <td>SAB.MC</td>\n",
       "    </tr>\n",
       "  </tbody>\n",
       "</table>\n",
       "<p>245 rows × 9 columns</p>\n",
       "</div>"
      ],
      "text/plain": [
       "                               Open      High       Low     Close  Adj_Close  \\\n",
       "Date                                                                           \n",
       "2018-11-30 00:00:00+00:00  3.681417  3.706750  3.637667  3.666000   3.209317   \n",
       "2018-12-31 00:00:00+00:00  3.340526  3.373579  3.292895  3.316737   2.903568   \n",
       "2019-01-31 00:00:00+00:00  3.267478  3.308435  3.231522  3.273174   2.865426   \n",
       "2019-02-28 00:00:00+00:00  2.999800  3.029600  2.961500  2.997700   2.624265   \n",
       "2019-03-29 00:00:00+00:00  2.941750  2.969050  2.900100  2.923250   2.559100   \n",
       "...                             ...       ...       ...       ...        ...   \n",
       "2022-07-29 00:00:00+00:00  0.658850  0.672680  0.633870  0.649850   0.649850   \n",
       "2022-08-31 00:00:00+00:00  0.657350  0.668433  0.648733  0.658692   0.658692   \n",
       "2022-09-30 00:00:00+00:00  0.730286  0.746143  0.715495  0.731610   0.731610   \n",
       "2022-10-31 00:00:00+00:00  0.749400  0.762945  0.737482  0.752745   0.752745   \n",
       "2022-11-30 00:00:00+00:00  0.805080  0.816620  0.793680  0.803240   0.803240   \n",
       "\n",
       "                                 Volume   Retorno  Retorno_log Codigo empresa  \n",
       "Date                                                                           \n",
       "2018-11-30 00:00:00+00:00  1.285128e+07 -0.001974    -0.002038        CABK.MC  \n",
       "2018-12-31 00:00:00+00:00  1.373718e+07 -0.007108    -0.007303        CABK.MC  \n",
       "2019-01-31 00:00:00+00:00  1.642768e+07 -0.001203    -0.001454        CABK.MC  \n",
       "2019-02-28 00:00:00+00:00  1.883823e+07  0.000842     0.000713        CABK.MC  \n",
       "2019-03-29 00:00:00+00:00  1.597695e+07 -0.005284    -0.005439        CABK.MC  \n",
       "...                                 ...       ...          ...            ...  \n",
       "2022-07-29 00:00:00+00:00  4.466109e+07 -0.009058    -0.009837         SAB.MC  \n",
       "2022-08-31 00:00:00+00:00  2.336608e+07  0.003069     0.002886         SAB.MC  \n",
       "2022-09-30 00:00:00+00:00  3.883716e+07  0.001805     0.001333         SAB.MC  \n",
       "2022-10-31 00:00:00+00:00  2.938024e+07  0.007786     0.007607         SAB.MC  \n",
       "2022-11-30 00:00:00+00:00  2.800426e+07 -0.000508    -0.000592         SAB.MC  \n",
       "\n",
       "[245 rows x 9 columns]"
      ]
     },
     "execution_count": 19,
     "metadata": {},
     "output_type": "execute_result"
    }
   ],
   "source": [
    "df1"
   ]
  },
  {
   "cell_type": "code",
   "execution_count": 20,
   "metadata": {},
   "outputs": [
    {
     "data": {
      "text/html": [
       "<div>\n",
       "<style scoped>\n",
       "    .dataframe tbody tr th:only-of-type {\n",
       "        vertical-align: middle;\n",
       "    }\n",
       "\n",
       "    .dataframe tbody tr th {\n",
       "        vertical-align: top;\n",
       "    }\n",
       "\n",
       "    .dataframe thead th {\n",
       "        text-align: right;\n",
       "    }\n",
       "</style>\n",
       "<table border=\"1\" class=\"dataframe\">\n",
       "  <thead>\n",
       "    <tr style=\"text-align: right;\">\n",
       "      <th></th>\n",
       "      <th>Open</th>\n",
       "      <th>High</th>\n",
       "      <th>Low</th>\n",
       "      <th>Close</th>\n",
       "      <th>Adj_Close</th>\n",
       "      <th>Volume</th>\n",
       "      <th>Retorno</th>\n",
       "      <th>Retorno_log</th>\n",
       "      <th>Codigo empresa</th>\n",
       "    </tr>\n",
       "    <tr>\n",
       "      <th>Date</th>\n",
       "      <th></th>\n",
       "      <th></th>\n",
       "      <th></th>\n",
       "      <th></th>\n",
       "      <th></th>\n",
       "      <th></th>\n",
       "      <th></th>\n",
       "      <th></th>\n",
       "      <th></th>\n",
       "    </tr>\n",
       "  </thead>\n",
       "  <tbody>\n",
       "    <tr>\n",
       "      <th>2018-11-14 23:00:00+00:00</th>\n",
       "      <td>3.7300</td>\n",
       "      <td>3.7640</td>\n",
       "      <td>3.6800</td>\n",
       "      <td>3.7250</td>\n",
       "      <td>3.2610</td>\n",
       "      <td>12995101</td>\n",
       "      <td>0.000000</td>\n",
       "      <td>0.000000</td>\n",
       "      <td>CABK.MC</td>\n",
       "    </tr>\n",
       "    <tr>\n",
       "      <th>2018-11-15 23:00:00+00:00</th>\n",
       "      <td>3.7400</td>\n",
       "      <td>3.7780</td>\n",
       "      <td>3.7050</td>\n",
       "      <td>3.7270</td>\n",
       "      <td>3.2627</td>\n",
       "      <td>16795348</td>\n",
       "      <td>0.000521</td>\n",
       "      <td>0.000521</td>\n",
       "      <td>CABK.MC</td>\n",
       "    </tr>\n",
       "    <tr>\n",
       "      <th>2018-11-18 23:00:00+00:00</th>\n",
       "      <td>3.7390</td>\n",
       "      <td>3.7720</td>\n",
       "      <td>3.7110</td>\n",
       "      <td>3.7110</td>\n",
       "      <td>3.2487</td>\n",
       "      <td>10812519</td>\n",
       "      <td>-0.004291</td>\n",
       "      <td>-0.004300</td>\n",
       "      <td>CABK.MC</td>\n",
       "    </tr>\n",
       "    <tr>\n",
       "      <th>2018-11-19 23:00:00+00:00</th>\n",
       "      <td>3.6900</td>\n",
       "      <td>3.7010</td>\n",
       "      <td>3.6380</td>\n",
       "      <td>3.6600</td>\n",
       "      <td>3.2041</td>\n",
       "      <td>10453011</td>\n",
       "      <td>-0.013729</td>\n",
       "      <td>-0.013824</td>\n",
       "      <td>CABK.MC</td>\n",
       "    </tr>\n",
       "    <tr>\n",
       "      <th>2018-11-20 23:00:00+00:00</th>\n",
       "      <td>3.6800</td>\n",
       "      <td>3.7080</td>\n",
       "      <td>3.6550</td>\n",
       "      <td>3.6830</td>\n",
       "      <td>3.2242</td>\n",
       "      <td>9664031</td>\n",
       "      <td>0.006273</td>\n",
       "      <td>0.006254</td>\n",
       "      <td>CABK.MC</td>\n",
       "    </tr>\n",
       "    <tr>\n",
       "      <th>...</th>\n",
       "      <td>...</td>\n",
       "      <td>...</td>\n",
       "      <td>...</td>\n",
       "      <td>...</td>\n",
       "      <td>...</td>\n",
       "      <td>...</td>\n",
       "      <td>...</td>\n",
       "      <td>...</td>\n",
       "      <td>...</td>\n",
       "    </tr>\n",
       "    <tr>\n",
       "      <th>2022-11-08 23:00:00+00:00</th>\n",
       "      <td>0.8122</td>\n",
       "      <td>0.8230</td>\n",
       "      <td>0.8030</td>\n",
       "      <td>0.8106</td>\n",
       "      <td>0.8106</td>\n",
       "      <td>34927331</td>\n",
       "      <td>-0.002461</td>\n",
       "      <td>-0.002464</td>\n",
       "      <td>SAB.MC</td>\n",
       "    </tr>\n",
       "    <tr>\n",
       "      <th>2022-11-09 23:00:00+00:00</th>\n",
       "      <td>0.8108</td>\n",
       "      <td>0.8250</td>\n",
       "      <td>0.7794</td>\n",
       "      <td>0.7928</td>\n",
       "      <td>0.7928</td>\n",
       "      <td>52750072</td>\n",
       "      <td>-0.021959</td>\n",
       "      <td>-0.022204</td>\n",
       "      <td>SAB.MC</td>\n",
       "    </tr>\n",
       "    <tr>\n",
       "      <th>2022-11-10 23:00:00+00:00</th>\n",
       "      <td>0.7958</td>\n",
       "      <td>0.8048</td>\n",
       "      <td>0.7782</td>\n",
       "      <td>0.7854</td>\n",
       "      <td>0.7854</td>\n",
       "      <td>37260303</td>\n",
       "      <td>-0.009334</td>\n",
       "      <td>-0.009378</td>\n",
       "      <td>SAB.MC</td>\n",
       "    </tr>\n",
       "    <tr>\n",
       "      <th>2022-11-13 23:00:00+00:00</th>\n",
       "      <td>0.7820</td>\n",
       "      <td>0.7930</td>\n",
       "      <td>0.7774</td>\n",
       "      <td>0.7884</td>\n",
       "      <td>0.7884</td>\n",
       "      <td>22634226</td>\n",
       "      <td>0.003820</td>\n",
       "      <td>0.003812</td>\n",
       "      <td>SAB.MC</td>\n",
       "    </tr>\n",
       "    <tr>\n",
       "      <th>2022-11-14 23:00:00+00:00</th>\n",
       "      <td>0.7942</td>\n",
       "      <td>0.8160</td>\n",
       "      <td>0.7938</td>\n",
       "      <td>0.8090</td>\n",
       "      <td>0.8090</td>\n",
       "      <td>10408976</td>\n",
       "      <td>0.026129</td>\n",
       "      <td>0.025793</td>\n",
       "      <td>SAB.MC</td>\n",
       "    </tr>\n",
       "  </tbody>\n",
       "</table>\n",
       "<p>5125 rows × 9 columns</p>\n",
       "</div>"
      ],
      "text/plain": [
       "                             Open    High     Low   Close  Adj_Close  \\\n",
       "Date                                                                   \n",
       "2018-11-14 23:00:00+00:00  3.7300  3.7640  3.6800  3.7250     3.2610   \n",
       "2018-11-15 23:00:00+00:00  3.7400  3.7780  3.7050  3.7270     3.2627   \n",
       "2018-11-18 23:00:00+00:00  3.7390  3.7720  3.7110  3.7110     3.2487   \n",
       "2018-11-19 23:00:00+00:00  3.6900  3.7010  3.6380  3.6600     3.2041   \n",
       "2018-11-20 23:00:00+00:00  3.6800  3.7080  3.6550  3.6830     3.2242   \n",
       "...                           ...     ...     ...     ...        ...   \n",
       "2022-11-08 23:00:00+00:00  0.8122  0.8230  0.8030  0.8106     0.8106   \n",
       "2022-11-09 23:00:00+00:00  0.8108  0.8250  0.7794  0.7928     0.7928   \n",
       "2022-11-10 23:00:00+00:00  0.7958  0.8048  0.7782  0.7854     0.7854   \n",
       "2022-11-13 23:00:00+00:00  0.7820  0.7930  0.7774  0.7884     0.7884   \n",
       "2022-11-14 23:00:00+00:00  0.7942  0.8160  0.7938  0.8090     0.8090   \n",
       "\n",
       "                             Volume   Retorno  Retorno_log Codigo empresa  \n",
       "Date                                                                       \n",
       "2018-11-14 23:00:00+00:00  12995101  0.000000     0.000000        CABK.MC  \n",
       "2018-11-15 23:00:00+00:00  16795348  0.000521     0.000521        CABK.MC  \n",
       "2018-11-18 23:00:00+00:00  10812519 -0.004291    -0.004300        CABK.MC  \n",
       "2018-11-19 23:00:00+00:00  10453011 -0.013729    -0.013824        CABK.MC  \n",
       "2018-11-20 23:00:00+00:00   9664031  0.006273     0.006254        CABK.MC  \n",
       "...                             ...       ...          ...            ...  \n",
       "2022-11-08 23:00:00+00:00  34927331 -0.002461    -0.002464         SAB.MC  \n",
       "2022-11-09 23:00:00+00:00  52750072 -0.021959    -0.022204         SAB.MC  \n",
       "2022-11-10 23:00:00+00:00  37260303 -0.009334    -0.009378         SAB.MC  \n",
       "2022-11-13 23:00:00+00:00  22634226  0.003820     0.003812         SAB.MC  \n",
       "2022-11-14 23:00:00+00:00  10408976  0.026129     0.025793         SAB.MC  \n",
       "\n",
       "[5125 rows x 9 columns]"
      ]
     },
     "execution_count": 20,
     "metadata": {},
     "output_type": "execute_result"
    }
   ],
   "source": [
    "df"
   ]
  },
  {
   "cell_type": "code",
   "execution_count": 16,
   "metadata": {},
   "outputs": [],
   "source": [
    "import seaborn as sns"
   ]
  },
  {
   "cell_type": "code",
   "execution_count": 54,
   "metadata": {},
   "outputs": [
    {
     "data": {
      "image/png": "[encoded data removed]",
      "text/plain": [
       "<Figure size 640x480 with 1 Axes>"
      ]
     },
     "metadata": {},
     "output_type": "display_data"
    }
   ],
   "source": [
    "sns.lineplot(data=df1, x=\"Date\", y=\"Retorno_log\", hue='Codigo empresa')\n",
    "y = [-0.2,-0.1,0,0.1,0.2]\n",
    "plt.yticks(y)\n",
    "plt.xticks(rotation=-45);\n"
   ]
  },
  {
   "cell_type": "code",
   "execution_count": 52,
   "metadata": {},
   "outputs": [
    {
     "data": {
      "image/png": "[encoded data removed]",
      "text/plain": [
       "<Figure size 640x480 with 1 Axes>"
      ]
     },
     "metadata": {},
     "output_type": "display_data"
    }
   ],
   "source": [
    "sns.lineplot(data=df1, x=\"Date\", y=\"Volume\", hue='Codigo empresa')\n",
    "plt.xticks(rotation=-45);"
   ]
  },
  {
   "cell_type": "code",
   "execution_count": 28,
   "metadata": {},
   "outputs": [
    {
     "data": {
      "text/plain": [
       "array(['CABK.MC', 'SAN.MC', 'BBVA.MC', 'BKT.MC', 'SAB.MC'], dtype=object)"
      ]
     },
     "execution_count": 28,
     "metadata": {},
     "output_type": "execute_result"
    }
   ],
   "source": [
    "df1['Codigo empresa'].unique()"
   ]
  },
  {
   "cell_type": "code",
   "execution_count": 25,
   "metadata": {},
   "outputs": [
    {
     "data": {
      "text/plain": [
       "\"['CABK.MC']\""
      ]
     },
     "execution_count": 25,
     "metadata": {},
     "output_type": "execute_result"
    }
   ],
   "source": [
    "name = str(caixa['Codigo empresa'].unique())\n",
    "name"
   ]
  },
  {
   "cell_type": "code",
   "execution_count": 125,
   "metadata": {},
   "outputs": [
    {
     "data": {
      "application/vnd.plotly.v1+json": {
       "config": {
        "plotlyServerURL": "https://plot.ly"
       },
       "data": [
        {
         "line": {
          "color": "#33CFA5"
         },
         "name": "High",
         "type": "scatter",
         "x": [
          "2018-11-30T00:00:00+00:00",
          "2018-12-31T00:00:00+00:00",
          "2019-01-31T00:00:00+00:00",
          "2019-02-28T00:00:00+00:00",
          "2019-03-29T00:00:00+00:00",
          "2019-04-30T00:00:00+00:00",
          "2019-05-31T00:00:00+00:00",
          "2019-06-28T00:00:00+00:00",
          "2019-07-31T00:00:00+00:00",
          "2019-08-30T00:00:00+00:00",
          "2019-09-30T00:00:00+00:00",
          "2019-10-31T00:00:00+00:00",
          "2019-11-29T00:00:00+00:00",
          "2019-12-31T00:00:00+00:00",
          "2020-01-31T00:00:00+00:00",
          "2020-02-28T00:00:00+00:00",
          "2020-03-31T00:00:00+00:00",
          "2020-04-30T00:00:00+00:00",
          "2020-05-29T00:00:00+00:00",
          "2020-06-30T00:00:00+00:00",
          "2020-07-31T00:00:00+00:00",
          "2020-08-31T00:00:00+00:00",
          "2020-09-30T00:00:00+00:00",
          "2020-10-30T00:00:00+00:00",
          "2020-11-30T00:00:00+00:00",
          "2020-12-31T00:00:00+00:00",
          "2021-01-29T00:00:00+00:00",
          "2021-02-26T00:00:00+00:00",
          "2021-03-31T00:00:00+00:00",
          "2021-04-30T00:00:00+00:00",
          "2021-05-31T00:00:00+00:00",
          "2021-06-30T00:00:00+00:00",
          "2021-07-30T00:00:00+00:00",
          "2021-08-31T00:00:00+00:00",
          "2021-09-30T00:00:00+00:00",
          "2021-10-29T00:00:00+00:00",
          "2021-11-30T00:00:00+00:00",
          "2021-12-31T00:00:00+00:00",
          "2022-01-31T00:00:00+00:00",
          "2022-02-28T00:00:00+00:00",
          "2022-03-31T00:00:00+00:00",
          "2022-04-29T00:00:00+00:00",
          "2022-05-31T00:00:00+00:00",
          "2022-06-30T00:00:00+00:00",
          "2022-07-29T00:00:00+00:00",
          "2022-08-31T00:00:00+00:00",
          "2022-09-30T00:00:00+00:00",
          "2022-10-31T00:00:00+00:00",
          "2022-11-30T00:00:00+00:00"
         ],
         "y": [
          5.003333333333333,
          4.7642105263157895,
          5.105217391304348,
          5.2615,
          5.335,
          5.474,
          5.155909090909091,
          4.9775,
          4.942916666666666,
          4.395238095238095,
          4.691818181818181,
          4.769130434782609,
          4.875500000000001,
          4.965238095238095,
          4.878181818181818,
          5.064,
          3.4482608695652175,
          2.8636842105263156,
          2.7664999999999997,
          3.22,
          3.1799999999999997,
          2.6163636363636367,
          2.44,
          2.428095238095238,
          3.3468181818181817,
          4.127142857142857,
          4.1545000000000005,
          4.452,
          4.655,
          4.525263157894737,
          5.0227272727272725,
          5.356363636363636,
          5.3185714285714285,
          5.724347826086956,
          5.655454545454545,
          5.861,
          5.729565217391304,
          5.146,
          5.658181818181818,
          5.7755,
          5.242608695652174,
          5.062222222222222,
          4.9165217391304346,
          4.572727272727272,
          4.281499999999999,
          4.67,
          4.805714285714286,
          4.972727272727273,
          5.356
         ]
        },
        {
         "line": {
          "color": "#33CFA5",
          "dash": "dash"
         },
         "name": "High Average",
         "type": "scatter",
         "visible": false,
         "x": [
          "2018-11-30T00:00:00+00:00",
          "2018-12-31T00:00:00+00:00",
          "2019-01-31T00:00:00+00:00",
          "2019-02-28T00:00:00+00:00",
          "2019-03-29T00:00:00+00:00",
          "2019-04-30T00:00:00+00:00",
          "2019-05-31T00:00:00+00:00",
          "2019-06-28T00:00:00+00:00",
          "2019-07-31T00:00:00+00:00",
          "2019-08-30T00:00:00+00:00",
          "2019-09-30T00:00:00+00:00",
          "2019-10-31T00:00:00+00:00",
          "2019-11-29T00:00:00+00:00",
          "2019-12-31T00:00:00+00:00",
          "2020-01-31T00:00:00+00:00",
          "2020-02-28T00:00:00+00:00",
          "2020-03-31T00:00:00+00:00",
          "2020-04-30T00:00:00+00:00",
          "2020-05-29T00:00:00+00:00",
          "2020-06-30T00:00:00+00:00",
          "2020-07-31T00:00:00+00:00",
          "2020-08-31T00:00:00+00:00",
          "2020-09-30T00:00:00+00:00",
          "2020-10-30T00:00:00+00:00",
          "2020-11-30T00:00:00+00:00",
          "2020-12-31T00:00:00+00:00",
          "2021-01-29T00:00:00+00:00",
          "2021-02-26T00:00:00+00:00",
          "2021-03-31T00:00:00+00:00",
          "2021-04-30T00:00:00+00:00",
          "2021-05-31T00:00:00+00:00",
          "2021-06-30T00:00:00+00:00",
          "2021-07-30T00:00:00+00:00",
          "2021-08-31T00:00:00+00:00",
          "2021-09-30T00:00:00+00:00",
          "2021-10-29T00:00:00+00:00",
          "2021-11-30T00:00:00+00:00",
          "2021-12-31T00:00:00+00:00",
          "2022-01-31T00:00:00+00:00",
          "2022-02-28T00:00:00+00:00",
          "2022-03-31T00:00:00+00:00",
          "2022-04-29T00:00:00+00:00",
          "2022-05-31T00:00:00+00:00",
          "2022-06-30T00:00:00+00:00",
          "2022-07-29T00:00:00+00:00",
          "2022-08-31T00:00:00+00:00",
          "2022-09-30T00:00:00+00:00",
          "2022-10-31T00:00:00+00:00",
          "2022-11-30T00:00:00+00:00"
         ],
         "y": [
          4.6328582656764254,
          4.6328582656764254,
          4.6328582656764254,
          4.6328582656764254,
          4.6328582656764254,
          4.6328582656764254,
          4.6328582656764254,
          4.6328582656764254,
          4.6328582656764254,
          4.6328582656764254,
          4.6328582656764254,
          4.6328582656764254,
          4.6328582656764254,
          4.6328582656764254,
          4.6328582656764254,
          4.6328582656764254,
          4.6328582656764254,
          4.6328582656764254,
          4.6328582656764254,
          4.6328582656764254,
          4.6328582656764254,
          4.6328582656764254,
          4.6328582656764254,
          4.6328582656764254,
          4.6328582656764254,
          4.6328582656764254,
          4.6328582656764254,
          4.6328582656764254,
          4.6328582656764254,
          4.6328582656764254,
          4.6328582656764254,
          4.6328582656764254,
          4.6328582656764254,
          4.6328582656764254,
          4.6328582656764254,
          4.6328582656764254,
          4.6328582656764254,
          4.6328582656764254,
          4.6328582656764254,
          4.6328582656764254,
          4.6328582656764254,
          4.6328582656764254,
          4.6328582656764254,
          4.6328582656764254,
          4.6328582656764254,
          4.6328582656764254,
          4.6328582656764254,
          4.6328582656764254,
          4.6328582656764254
         ]
        },
        {
         "line": {
          "color": "#F06A6A"
         },
         "name": "Low",
         "type": "scatter",
         "x": [
          "2018-11-30T00:00:00+00:00",
          "2018-12-31T00:00:00+00:00",
          "2019-01-31T00:00:00+00:00",
          "2019-02-28T00:00:00+00:00",
          "2019-03-29T00:00:00+00:00",
          "2019-04-30T00:00:00+00:00",
          "2019-05-31T00:00:00+00:00",
          "2019-06-28T00:00:00+00:00",
          "2019-07-31T00:00:00+00:00",
          "2019-08-30T00:00:00+00:00",
          "2019-09-30T00:00:00+00:00",
          "2019-10-31T00:00:00+00:00",
          "2019-11-29T00:00:00+00:00",
          "2019-12-31T00:00:00+00:00",
          "2020-01-31T00:00:00+00:00",
          "2020-02-28T00:00:00+00:00",
          "2020-03-31T00:00:00+00:00",
          "2020-04-30T00:00:00+00:00",
          "2020-05-29T00:00:00+00:00",
          "2020-06-30T00:00:00+00:00",
          "2020-07-31T00:00:00+00:00",
          "2020-08-31T00:00:00+00:00",
          "2020-09-30T00:00:00+00:00",
          "2020-10-30T00:00:00+00:00",
          "2020-11-30T00:00:00+00:00",
          "2020-12-31T00:00:00+00:00",
          "2021-01-29T00:00:00+00:00",
          "2021-02-26T00:00:00+00:00",
          "2021-03-31T00:00:00+00:00",
          "2021-04-30T00:00:00+00:00",
          "2021-05-31T00:00:00+00:00",
          "2021-06-30T00:00:00+00:00",
          "2021-07-30T00:00:00+00:00",
          "2021-08-31T00:00:00+00:00",
          "2021-09-30T00:00:00+00:00",
          "2021-10-29T00:00:00+00:00",
          "2021-11-30T00:00:00+00:00",
          "2021-12-31T00:00:00+00:00",
          "2022-01-31T00:00:00+00:00",
          "2022-02-28T00:00:00+00:00",
          "2022-03-31T00:00:00+00:00",
          "2022-04-29T00:00:00+00:00",
          "2022-05-31T00:00:00+00:00",
          "2022-06-30T00:00:00+00:00",
          "2022-07-29T00:00:00+00:00",
          "2022-08-31T00:00:00+00:00",
          "2022-09-30T00:00:00+00:00",
          "2022-10-31T00:00:00+00:00",
          "2022-11-30T00:00:00+00:00"
         ],
         "y": [
          4.903333333333333,
          4.656315789473684,
          4.989565217391305,
          5.152,
          5.211,
          5.359,
          5.052727272727273,
          4.8805,
          4.83875,
          4.288571428571428,
          4.580909090909091,
          4.651304347826087,
          4.786,
          4.881904761904762,
          4.783636363636363,
          4.9399999999999995,
          3.181739130434783,
          2.701578947368421,
          2.636,
          3.069565217391304,
          3.0650000000000004,
          2.5127272727272727,
          2.3422727272727273,
          2.3333333333333335,
          3.190909090909091,
          4.008095238095239,
          4.029999999999999,
          4.309,
          4.527083333333334,
          4.38,
          4.913181818181818,
          5.24,
          5.168095238095238,
          5.605217391304348,
          5.516818181818182,
          5.6975,
          5.570434782608696,
          5.021,
          5.54,
          5.59,
          5.0426086956521745,
          4.911111111111111,
          4.784782608695652,
          4.432727272727273,
          4.139,
          4.56375,
          4.67,
          4.839090909090909,
          5.257
         ]
        },
        {
         "line": {
          "color": "#F06A6A",
          "dash": "dash"
         },
         "name": "Low Average",
         "type": "scatter",
         "visible": false,
         "x": [
          "2018-11-30T00:00:00+00:00",
          "2018-12-31T00:00:00+00:00",
          "2019-01-31T00:00:00+00:00",
          "2019-02-28T00:00:00+00:00",
          "2019-03-29T00:00:00+00:00",
          "2019-04-30T00:00:00+00:00",
          "2019-05-31T00:00:00+00:00",
          "2019-06-28T00:00:00+00:00",
          "2019-07-31T00:00:00+00:00",
          "2019-08-30T00:00:00+00:00",
          "2019-09-30T00:00:00+00:00",
          "2019-10-31T00:00:00+00:00",
          "2019-11-29T00:00:00+00:00",
          "2019-12-31T00:00:00+00:00",
          "2020-01-31T00:00:00+00:00",
          "2020-02-28T00:00:00+00:00",
          "2020-03-31T00:00:00+00:00",
          "2020-04-30T00:00:00+00:00",
          "2020-05-29T00:00:00+00:00",
          "2020-06-30T00:00:00+00:00",
          "2020-07-31T00:00:00+00:00",
          "2020-08-31T00:00:00+00:00",
          "2020-09-30T00:00:00+00:00",
          "2020-10-30T00:00:00+00:00",
          "2020-11-30T00:00:00+00:00",
          "2020-12-31T00:00:00+00:00",
          "2021-01-29T00:00:00+00:00",
          "2021-02-26T00:00:00+00:00",
          "2021-03-31T00:00:00+00:00",
          "2021-04-30T00:00:00+00:00",
          "2021-05-31T00:00:00+00:00",
          "2021-06-30T00:00:00+00:00",
          "2021-07-30T00:00:00+00:00",
          "2021-08-31T00:00:00+00:00",
          "2021-09-30T00:00:00+00:00",
          "2021-10-29T00:00:00+00:00",
          "2021-11-30T00:00:00+00:00",
          "2021-12-31T00:00:00+00:00",
          "2022-01-31T00:00:00+00:00",
          "2022-02-28T00:00:00+00:00",
          "2022-03-31T00:00:00+00:00",
          "2022-04-29T00:00:00+00:00",
          "2022-05-31T00:00:00+00:00",
          "2022-06-30T00:00:00+00:00",
          "2022-07-29T00:00:00+00:00",
          "2022-08-31T00:00:00+00:00",
          "2022-09-30T00:00:00+00:00",
          "2022-10-31T00:00:00+00:00",
          "2022-11-30T00:00:00+00:00"
         ],
         "y": [
          4.505002855222942,
          4.505002855222942,
          4.505002855222942,
          4.505002855222942,
          4.505002855222942,
          4.505002855222942,
          4.505002855222942,
          4.505002855222942,
          4.505002855222942,
          4.505002855222942,
          4.505002855222942,
          4.505002855222942,
          4.505002855222942,
          4.505002855222942,
          4.505002855222942,
          4.505002855222942,
          4.505002855222942,
          4.505002855222942,
          4.505002855222942,
          4.505002855222942,
          4.505002855222942,
          4.505002855222942,
          4.505002855222942,
          4.505002855222942,
          4.505002855222942,
          4.505002855222942,
          4.505002855222942,
          4.505002855222942,
          4.505002855222942,
          4.505002855222942,
          4.505002855222942,
          4.505002855222942,
          4.505002855222942,
          4.505002855222942,
          4.505002855222942,
          4.505002855222942,
          4.505002855222942,
          4.505002855222942,
          4.505002855222942,
          4.505002855222942,
          4.505002855222942,
          4.505002855222942,
          4.505002855222942,
          4.505002855222942,
          4.505002855222942,
          4.505002855222942,
          4.505002855222942,
          4.505002855222942,
          4.505002855222942
         ]
        }
       ],
       "layout": {
        "template": {
         "data": {
          "bar": [
           {
            "error_x": {
             "color": "#2a3f5f"
            },
            "error_y": {
             "color": "#2a3f5f"
            },
            "marker": {
             "line": {
              "color": "#E5ECF6",
              "width": 0.5
             },
             "pattern": {
              "fillmode": "overlay",
              "size": 10,
              "solidity": 0.2
             }
            },
            "type": "bar"
           }
          ],
          "barpolar": [
           {
            "marker": {
             "line": {
              "color": "#E5ECF6",
              "width": 0.5
             },
             "pattern": {
              "fillmode": "overlay",
              "size": 10,
              "solidity": 0.2
             }
            },
            "type": "barpolar"
           }
          ],
          "carpet": [
           {
            "aaxis": {
             "endlinecolor": "#2a3f5f",
             "gridcolor": "white",
             "linecolor": "white",
             "minorgridcolor": "white",
             "startlinecolor": "#2a3f5f"
            },
            "baxis": {
             "endlinecolor": "#2a3f5f",
             "gridcolor": "white",
             "linecolor": "white",
             "minorgridcolor": "white",
             "startlinecolor": "#2a3f5f"
            },
            "type": "carpet"
           }
          ],
          "choropleth": [
           {
            "colorbar": {
             "outlinewidth": 0,
             "ticks": ""
            },
            "type": "choropleth"
           }
          ],
          "contour": [
           {
            "colorbar": {
             "outlinewidth": 0,
             "ticks": ""
            },
            "colorscale": [
             [
              0,
              "#0d0887"
             ],
             [
              0.1111111111111111,
              "#46039f"
             ],
             [
              0.2222222222222222,
              "#7201a8"
             ],
             [
              0.3333333333333333,
              "#9c179e"
             ],
             [
              0.4444444444444444,
              "#bd3786"
             ],
             [
              0.5555555555555556,
              "#d8576b"
             ],
             [
              0.6666666666666666,
              "#ed7953"
             ],
             [
              0.7777777777777778,
              "#fb9f3a"
             ],
             [
              0.8888888888888888,
              "#fdca26"
             ],
             [
              1,
              "#f0f921"
             ]
            ],
            "type": "contour"
           }
          ],
          "contourcarpet": [
           {
            "colorbar": {
             "outlinewidth": 0,
             "ticks": ""
            },
            "type": "contourcarpet"
           }
          ],
          "heatmap": [
           {
            "colorbar": {
             "outlinewidth": 0,
             "ticks": ""
            },
            "colorscale": [
             [
              0,
              "#0d0887"
             ],
             [
              0.1111111111111111,
              "#46039f"
             ],
             [
              0.2222222222222222,
              "#7201a8"
             ],
             [
              0.3333333333333333,
              "#9c179e"
             ],
             [
              0.4444444444444444,
              "#bd3786"
             ],
             [
              0.5555555555555556,
              "#d8576b"
             ],
             [
              0.6666666666666666,
              "#ed7953"
             ],
             [
              0.7777777777777778,
              "#fb9f3a"
             ],
             [
              0.8888888888888888,
              "#fdca26"
             ],
             [
              1,
              "#f0f921"
             ]
            ],
            "type": "heatmap"
           }
          ],
          "heatmapgl": [
           {
            "colorbar": {
             "outlinewidth": 0,
             "ticks": ""
            },
            "colorscale": [
             [
              0,
              "#0d0887"
             ],
             [
              0.1111111111111111,
              "#46039f"
             ],
             [
              0.2222222222222222,
              "#7201a8"
             ],
             [
              0.3333333333333333,
              "#9c179e"
             ],
             [
              0.4444444444444444,
              "#bd3786"
             ],
             [
              0.5555555555555556,
              "#d8576b"
             ],
             [
              0.6666666666666666,
              "#ed7953"
             ],
             [
              0.7777777777777778,
              "#fb9f3a"
             ],
             [
              0.8888888888888888,
              "#fdca26"
             ],
             [
              1,
              "#f0f921"
             ]
            ],
            "type": "heatmapgl"
           }
          ],
          "histogram": [
           {
            "marker": {
             "pattern": {
              "fillmode": "overlay",
              "size": 10,
              "solidity": 0.2
             }
            },
            "type": "histogram"
           }
          ],
          "histogram2d": [
           {
            "colorbar": {
             "outlinewidth": 0,
             "ticks": ""
            },
            "colorscale": [
             [
              0,
              "#0d0887"
             ],
             [
              0.1111111111111111,
              "#46039f"
             ],
             [
              0.2222222222222222,
              "#7201a8"
             ],
             [
              0.3333333333333333,
              "#9c179e"
             ],
             [
              0.4444444444444444,
              "#bd3786"
             ],
             [
              0.5555555555555556,
              "#d8576b"
             ],
             [
              0.6666666666666666,
              "#ed7953"
             ],
             [
              0.7777777777777778,
              "#fb9f3a"
             ],
             [
              0.8888888888888888,
              "#fdca26"
             ],
             [
              1,
              "#f0f921"
             ]
            ],
            "type": "histogram2d"
           }
          ],
          "histogram2dcontour": [
           {
            "colorbar": {
             "outlinewidth": 0,
             "ticks": ""
            },
            "colorscale": [
             [
              0,
              "#0d0887"
             ],
             [
              0.1111111111111111,
              "#46039f"
             ],
             [
              0.2222222222222222,
              "#7201a8"
             ],
             [
              0.3333333333333333,
              "#9c179e"
             ],
             [
              0.4444444444444444,
              "#bd3786"
             ],
             [
              0.5555555555555556,
              "#d8576b"
             ],
             [
              0.6666666666666666,
              "#ed7953"
             ],
             [
              0.7777777777777778,
              "#fb9f3a"
             ],
             [
              0.8888888888888888,
              "#fdca26"
             ],
             [
              1,
              "#f0f921"
             ]
            ],
            "type": "histogram2dcontour"
           }
          ],
          "mesh3d": [
           {
            "colorbar": {
             "outlinewidth": 0,
             "ticks": ""
            },
            "type": "mesh3d"
           }
          ],
          "parcoords": [
           {
            "line": {
             "colorbar": {
              "outlinewidth": 0,
              "ticks": ""
             }
            },
            "type": "parcoords"
           }
          ],
          "pie": [
           {
            "automargin": true,
            "type": "pie"
           }
          ],
          "scatter": [
           {
            "fillpattern": {
             "fillmode": "overlay",
             "size": 10,
             "solidity": 0.2
            },
            "type": "scatter"
           }
          ],
          "scatter3d": [
           {
            "line": {
             "colorbar": {
              "outlinewidth": 0,
              "ticks": ""
             }
            },
            "marker": {
             "colorbar": {
              "outlinewidth": 0,
              "ticks": ""
             }
            },
            "type": "scatter3d"
           }
          ],
          "scattercarpet": [
           {
            "marker": {
             "colorbar": {
              "outlinewidth": 0,
              "ticks": ""
             }
            },
            "type": "scattercarpet"
           }
          ],
          "scattergeo": [
           {
            "marker": {
             "colorbar": {
              "outlinewidth": 0,
              "ticks": ""
             }
            },
            "type": "scattergeo"
           }
          ],
          "scattergl": [
           {
            "marker": {
             "colorbar": {
              "outlinewidth": 0,
              "ticks": ""
             }
            },
            "type": "scattergl"
           }
          ],
          "scattermapbox": [
           {
            "marker": {
             "colorbar": {
              "outlinewidth": 0,
              "ticks": ""
             }
            },
            "type": "scattermapbox"
           }
          ],
          "scatterpolar": [
           {
            "marker": {
             "colorbar": {
              "outlinewidth": 0,
              "ticks": ""
             }
            },
            "type": "scatterpolar"
           }
          ],
          "scatterpolargl": [
           {
            "marker": {
             "colorbar": {
              "outlinewidth": 0,
              "ticks": ""
             }
            },
            "type": "scatterpolargl"
           }
          ],
          "scatterternary": [
           {
            "marker": {
             "colorbar": {
              "outlinewidth": 0,
              "ticks": ""
             }
            },
            "type": "scatterternary"
           }
          ],
          "surface": [
           {
            "colorbar": {
             "outlinewidth": 0,
             "ticks": ""
            },
            "colorscale": [
             [
              0,
              "#0d0887"
             ],
             [
              0.1111111111111111,
              "#46039f"
             ],
             [
              0.2222222222222222,
              "#7201a8"
             ],
             [
              0.3333333333333333,
              "#9c179e"
             ],
             [
              0.4444444444444444,
              "#bd3786"
             ],
             [
              0.5555555555555556,
              "#d8576b"
             ],
             [
              0.6666666666666666,
              "#ed7953"
             ],
             [
              0.7777777777777778,
              "#fb9f3a"
             ],
             [
              0.8888888888888888,
              "#fdca26"
             ],
             [
              1,
              "#f0f921"
             ]
            ],
            "type": "surface"
           }
          ],
          "table": [
           {
            "cells": {
             "fill": {
              "color": "#EBF0F8"
             },
             "line": {
              "color": "white"
             }
            },
            "header": {
             "fill": {
              "color": "#C8D4E3"
             },
             "line": {
              "color": "white"
             }
            },
            "type": "table"
           }
          ]
         },
         "layout": {
          "annotationdefaults": {
           "arrowcolor": "#2a3f5f",
           "arrowhead": 0,
           "arrowwidth": 1
          },
          "autotypenumbers": "strict",
          "coloraxis": {
           "colorbar": {
            "outlinewidth": 0,
            "ticks": ""
           }
          },
          "colorscale": {
           "diverging": [
            [
             0,
             "#8e0152"
            ],
            [
             0.1,
             "#c51b7d"
            ],
            [
             0.2,
             "#de77ae"
            ],
            [
             0.3,
             "#f1b6da"
            ],
            [
             0.4,
             "#fde0ef"
            ],
            [
             0.5,
             "#f7f7f7"
            ],
            [
             0.6,
             "#e6f5d0"
            ],
            [
             0.7,
             "#b8e186"
            ],
            [
             0.8,
             "#7fbc41"
            ],
            [
             0.9,
             "#4d9221"
            ],
            [
             1,
             "#276419"
            ]
           ],
           "sequential": [
            [
             0,
             "#0d0887"
            ],
            [
             0.1111111111111111,
             "#46039f"
            ],
            [
             0.2222222222222222,
             "#7201a8"
            ],
            [
             0.3333333333333333,
             "#9c179e"
            ],
            [
             0.4444444444444444,
             "#bd3786"
            ],
            [
             0.5555555555555556,
             "#d8576b"
            ],
            [
             0.6666666666666666,
             "#ed7953"
            ],
            [
             0.7777777777777778,
             "#fb9f3a"
            ],
            [
             0.8888888888888888,
             "#fdca26"
            ],
            [
             1,
             "#f0f921"
            ]
           ],
           "sequentialminus": [
            [
             0,
             "#0d0887"
            ],
            [
             0.1111111111111111,
             "#46039f"
            ],
            [
             0.2222222222222222,
             "#7201a8"
            ],
            [
             0.3333333333333333,
             "#9c179e"
            ],
            [
             0.4444444444444444,
             "#bd3786"
            ],
            [
             0.5555555555555556,
             "#d8576b"
            ],
            [
             0.6666666666666666,
             "#ed7953"
            ],
            [
             0.7777777777777778,
             "#fb9f3a"
            ],
            [
             0.8888888888888888,
             "#fdca26"
            ],
            [
             1,
             "#f0f921"
            ]
           ]
          },
          "colorway": [
           "#636efa",
           "#EF553B",
           "#00cc96",
           "#ab63fa",
           "#FFA15A",
           "#19d3f3",
           "#FF6692",
           "#B6E880",
           "#FF97FF",
           "#FECB52"
          ],
          "font": {
           "color": "#2a3f5f"
          },
          "geo": {
           "bgcolor": "white",
           "lakecolor": "white",
           "landcolor": "#E5ECF6",
           "showlakes": true,
           "showland": true,
           "subunitcolor": "white"
          },
          "hoverlabel": {
           "align": "left"
          },
          "hovermode": "closest",
          "mapbox": {
           "style": "light"
          },
          "paper_bgcolor": "white",
          "plot_bgcolor": "#E5ECF6",
          "polar": {
           "angularaxis": {
            "gridcolor": "white",
            "linecolor": "white",
            "ticks": ""
           },
           "bgcolor": "#E5ECF6",
           "radialaxis": {
            "gridcolor": "white",
            "linecolor": "white",
            "ticks": ""
           }
          },
          "scene": {
           "xaxis": {
            "backgroundcolor": "#E5ECF6",
            "gridcolor": "white",
            "gridwidth": 2,
            "linecolor": "white",
            "showbackground": true,
            "ticks": "",
            "zerolinecolor": "white"
           },
           "yaxis": {
            "backgroundcolor": "#E5ECF6",
            "gridcolor": "white",
            "gridwidth": 2,
            "linecolor": "white",
            "showbackground": true,
            "ticks": "",
            "zerolinecolor": "white"
           },
           "zaxis": {
            "backgroundcolor": "#E5ECF6",
            "gridcolor": "white",
            "gridwidth": 2,
            "linecolor": "white",
            "showbackground": true,
            "ticks": "",
            "zerolinecolor": "white"
           }
          },
          "shapedefaults": {
           "line": {
            "color": "#2a3f5f"
           }
          },
          "ternary": {
           "aaxis": {
            "gridcolor": "white",
            "linecolor": "white",
            "ticks": ""
           },
           "baxis": {
            "gridcolor": "white",
            "linecolor": "white",
            "ticks": ""
           },
           "bgcolor": "#E5ECF6",
           "caxis": {
            "gridcolor": "white",
            "linecolor": "white",
            "ticks": ""
           }
          },
          "title": {
           "x": 0.05
          },
          "xaxis": {
           "automargin": true,
           "gridcolor": "white",
           "linecolor": "white",
           "ticks": "",
           "title": {
            "standoff": 15
           },
           "zerolinecolor": "white",
           "zerolinewidth": 2
          },
          "yaxis": {
           "automargin": true,
           "gridcolor": "white",
           "linecolor": "white",
           "ticks": "",
           "title": {
            "standoff": 15
           },
           "zerolinecolor": "white",
           "zerolinewidth": 2
          }
         }
        },
        "title": {
         "text": "['BBVA.MC']"
        },
        "updatemenus": [
         {
          "active": 0,
          "buttons": [
           {
            "args": [
             {
              "visible": [
               true,
               false,
               true,
               false
              ]
             },
             {
              "annotations": [],
              "title": "['BBVA.MC']"
             }
            ],
            "label": "None",
            "method": "update"
           },
           {
            "args": [
             {
              "visible": [
               true,
               true,
               false,
               false
              ]
             },
             {
              "annotations": [
               {
                "ax": 0,
                "ay": -40,
                "text": "High Average:<br> 4.633",
                "x": "2019-01-01",
                "xref": "x",
                "y": 4.6328582656764254,
                "yref": "y"
               },
               {
                "ax": 0,
                "ay": -40,
                "text": "High Max:<br> 5.861",
                "x": "2021-10-29T00:00:00+00:00",
                "xref": "x",
                "y": 5.861,
                "yref": "y"
               }
              ],
              "title": "['BBVA.MC']"
             }
            ],
            "label": "High",
            "method": "update"
           },
           {
            "args": [
             {
              "visible": [
               false,
               false,
               true,
               true
              ]
             },
             {
              "annotations": [
               {
                "ax": 0,
                "ay": 40,
                "text": "Low Average:<br> 4.505",
                "x": "2019-01-01",
                "xref": "x",
                "y": 4.505002855222942,
                "yref": "y"
               },
               {
                "ax": 0,
                "ay": 40,
                "text": "Low Min:<br> 2.333",
                "x": "2020-10-30T00:00:00+00:00",
                "xref": "x",
                "y": 2.3333333333333335,
                "yref": "y"
               }
              ],
              "title": "['BBVA.MC']"
             }
            ],
            "label": "Low",
            "method": "update"
           },
           {
            "args": [
             {
              "visible": [
               true,
               true,
               true,
               true
              ]
             },
             {
              "annotations": [
               {
                "ax": 0,
                "ay": -40,
                "text": "High Average:<br> 4.633",
                "x": "2019-01-01",
                "xref": "x",
                "y": 4.6328582656764254,
                "yref": "y"
               },
               {
                "ax": 0,
                "ay": -40,
                "text": "High Max:<br> 5.861",
                "x": "2021-10-29T00:00:00+00:00",
                "xref": "x",
                "y": 5.861,
                "yref": "y"
               },
               {
                "ax": 0,
                "ay": 40,
                "text": "Low Average:<br> 4.505",
                "x": "2019-01-01",
                "xref": "x",
                "y": 4.505002855222942,
                "yref": "y"
               },
               {
                "ax": 0,
                "ay": 40,
                "text": "Low Min:<br> 2.333",
                "x": "2020-10-30T00:00:00+00:00",
                "xref": "x",
                "y": 2.3333333333333335,
                "yref": "y"
               }
              ],
              "title": "['BBVA.MC']"
             }
            ],
            "label": "Both",
            "method": "update"
           }
          ]
         }
        ]
       }
      }
     },
     "metadata": {},
     "output_type": "display_data"
    }
   ],
   "source": [
    "grafica_creator(bbva_mensual)"
   ]
  },
  {
   "cell_type": "code",
   "execution_count": 43,
   "metadata": {},
   "outputs": [
    {
     "data": {
      "text/plain": [
       "1.5740992197369555e-05"
      ]
     },
     "execution_count": 43,
     "metadata": {},
     "output_type": "execute_result"
    }
   ],
   "source": [
    "santander_mensual['Retorno'].mean()"
   ]
  },
  {
   "cell_type": "code",
   "execution_count": 29,
   "metadata": {},
   "outputs": [],
   "source": [
    "#Obteniendo valores especificos para la memoria, rentabilidad promedio, anualizada, \n",
    "df3=df1[['Retorno', 'Retorno_log', 'Codigo empresa']]"
   ]
  },
  {
   "cell_type": "code",
   "execution_count": 30,
   "metadata": {},
   "outputs": [
    {
     "data": {
      "text/html": [
       "<div>\n",
       "<style scoped>\n",
       "    .dataframe tbody tr th:only-of-type {\n",
       "        vertical-align: middle;\n",
       "    }\n",
       "\n",
       "    .dataframe tbody tr th {\n",
       "        vertical-align: top;\n",
       "    }\n",
       "\n",
       "    .dataframe thead th {\n",
       "        text-align: right;\n",
       "    }\n",
       "</style>\n",
       "<table border=\"1\" class=\"dataframe\">\n",
       "  <thead>\n",
       "    <tr style=\"text-align: right;\">\n",
       "      <th></th>\n",
       "      <th>Retorno</th>\n",
       "      <th>Retorno_log</th>\n",
       "      <th>Codigo empresa</th>\n",
       "    </tr>\n",
       "    <tr>\n",
       "      <th>Date</th>\n",
       "      <th></th>\n",
       "      <th></th>\n",
       "      <th></th>\n",
       "    </tr>\n",
       "  </thead>\n",
       "  <tbody>\n",
       "    <tr>\n",
       "      <th>2018-11-30 00:00:00+00:00</th>\n",
       "      <td>-0.001974</td>\n",
       "      <td>-0.002038</td>\n",
       "      <td>CABK.MC</td>\n",
       "    </tr>\n",
       "    <tr>\n",
       "      <th>2018-12-31 00:00:00+00:00</th>\n",
       "      <td>-0.007108</td>\n",
       "      <td>-0.007303</td>\n",
       "      <td>CABK.MC</td>\n",
       "    </tr>\n",
       "    <tr>\n",
       "      <th>2019-01-31 00:00:00+00:00</th>\n",
       "      <td>-0.001203</td>\n",
       "      <td>-0.001454</td>\n",
       "      <td>CABK.MC</td>\n",
       "    </tr>\n",
       "    <tr>\n",
       "      <th>2019-02-28 00:00:00+00:00</th>\n",
       "      <td>0.000842</td>\n",
       "      <td>0.000713</td>\n",
       "      <td>CABK.MC</td>\n",
       "    </tr>\n",
       "    <tr>\n",
       "      <th>2019-03-29 00:00:00+00:00</th>\n",
       "      <td>-0.005284</td>\n",
       "      <td>-0.005439</td>\n",
       "      <td>CABK.MC</td>\n",
       "    </tr>\n",
       "    <tr>\n",
       "      <th>...</th>\n",
       "      <td>...</td>\n",
       "      <td>...</td>\n",
       "      <td>...</td>\n",
       "    </tr>\n",
       "    <tr>\n",
       "      <th>2022-07-29 00:00:00+00:00</th>\n",
       "      <td>-0.009058</td>\n",
       "      <td>-0.009837</td>\n",
       "      <td>SAB.MC</td>\n",
       "    </tr>\n",
       "    <tr>\n",
       "      <th>2022-08-31 00:00:00+00:00</th>\n",
       "      <td>0.003069</td>\n",
       "      <td>0.002886</td>\n",
       "      <td>SAB.MC</td>\n",
       "    </tr>\n",
       "    <tr>\n",
       "      <th>2022-09-30 00:00:00+00:00</th>\n",
       "      <td>0.001805</td>\n",
       "      <td>0.001333</td>\n",
       "      <td>SAB.MC</td>\n",
       "    </tr>\n",
       "    <tr>\n",
       "      <th>2022-10-31 00:00:00+00:00</th>\n",
       "      <td>0.007786</td>\n",
       "      <td>0.007607</td>\n",
       "      <td>SAB.MC</td>\n",
       "    </tr>\n",
       "    <tr>\n",
       "      <th>2022-11-30 00:00:00+00:00</th>\n",
       "      <td>-0.000508</td>\n",
       "      <td>-0.000592</td>\n",
       "      <td>SAB.MC</td>\n",
       "    </tr>\n",
       "  </tbody>\n",
       "</table>\n",
       "<p>245 rows × 3 columns</p>\n",
       "</div>"
      ],
      "text/plain": [
       "                            Retorno  Retorno_log Codigo empresa\n",
       "Date                                                           \n",
       "2018-11-30 00:00:00+00:00 -0.001974    -0.002038        CABK.MC\n",
       "2018-12-31 00:00:00+00:00 -0.007108    -0.007303        CABK.MC\n",
       "2019-01-31 00:00:00+00:00 -0.001203    -0.001454        CABK.MC\n",
       "2019-02-28 00:00:00+00:00  0.000842     0.000713        CABK.MC\n",
       "2019-03-29 00:00:00+00:00 -0.005284    -0.005439        CABK.MC\n",
       "...                             ...          ...            ...\n",
       "2022-07-29 00:00:00+00:00 -0.009058    -0.009837         SAB.MC\n",
       "2022-08-31 00:00:00+00:00  0.003069     0.002886         SAB.MC\n",
       "2022-09-30 00:00:00+00:00  0.001805     0.001333         SAB.MC\n",
       "2022-10-31 00:00:00+00:00  0.007786     0.007607         SAB.MC\n",
       "2022-11-30 00:00:00+00:00 -0.000508    -0.000592         SAB.MC\n",
       "\n",
       "[245 rows x 3 columns]"
      ]
     },
     "execution_count": 30,
     "metadata": {},
     "output_type": "execute_result"
    }
   ],
   "source": [
    "df3"
   ]
  },
  {
   "cell_type": "code",
   "execution_count": null,
   "metadata": {},
   "outputs": [],
   "source": []
  },
  {
   "cell_type": "code",
   "execution_count": 52,
   "metadata": {},
   "outputs": [
    {
     "data": {
      "text/html": [
       "<div>\n",
       "<style scoped>\n",
       "    .dataframe tbody tr th:only-of-type {\n",
       "        vertical-align: middle;\n",
       "    }\n",
       "\n",
       "    .dataframe tbody tr th {\n",
       "        vertical-align: top;\n",
       "    }\n",
       "\n",
       "    .dataframe thead th {\n",
       "        text-align: right;\n",
       "    }\n",
       "</style>\n",
       "<table border=\"1\" class=\"dataframe\">\n",
       "  <thead>\n",
       "    <tr style=\"text-align: right;\">\n",
       "      <th></th>\n",
       "      <th>Retorno</th>\n",
       "      <th>Retorno_log</th>\n",
       "    </tr>\n",
       "    <tr>\n",
       "      <th>Date</th>\n",
       "      <th></th>\n",
       "      <th></th>\n",
       "    </tr>\n",
       "  </thead>\n",
       "  <tbody>\n",
       "    <tr>\n",
       "      <th>2018</th>\n",
       "      <td>-0.002784</td>\n",
       "      <td>-0.002904</td>\n",
       "    </tr>\n",
       "    <tr>\n",
       "      <th>2019</th>\n",
       "      <td>0.000250</td>\n",
       "      <td>0.000086</td>\n",
       "    </tr>\n",
       "    <tr>\n",
       "      <th>2020</th>\n",
       "      <td>-0.001077</td>\n",
       "      <td>-0.001840</td>\n",
       "    </tr>\n",
       "    <tr>\n",
       "      <th>2021</th>\n",
       "      <td>0.001499</td>\n",
       "      <td>0.001276</td>\n",
       "    </tr>\n",
       "    <tr>\n",
       "      <th>2022</th>\n",
       "      <td>0.000836</td>\n",
       "      <td>0.000522</td>\n",
       "    </tr>\n",
       "  </tbody>\n",
       "</table>\n",
       "</div>"
      ],
      "text/plain": [
       "       Retorno  Retorno_log\n",
       "Date                       \n",
       "2018 -0.002784    -0.002904\n",
       "2019  0.000250     0.000086\n",
       "2020 -0.001077    -0.001840\n",
       "2021  0.001499     0.001276\n",
       "2022  0.000836     0.000522"
      ]
     },
     "execution_count": 52,
     "metadata": {},
     "output_type": "execute_result"
    }
   ],
   "source": [
    "df5 = df3.reset_index()\n",
    "df5 = df5.set_index('Codigo empresa')\n",
    "df5.groupby(df5['Date'].dt.year).mean()\n",
    "#df5.groupby(df5['Codigo empresa','Date'].dt.year).mean()"
   ]
  },
  {
   "cell_type": "markdown",
   "metadata": {},
   "source": [
    "**Aquí se toman los DF y se pasan a años para poder ver la rentabilidad Anualizada**\n"
   ]
  },
  {
   "cell_type": "code",
   "execution_count": 55,
   "metadata": {},
   "outputs": [
    {
     "data": {
      "text/html": [
       "<div>\n",
       "<style scoped>\n",
       "    .dataframe tbody tr th:only-of-type {\n",
       "        vertical-align: middle;\n",
       "    }\n",
       "\n",
       "    .dataframe tbody tr th {\n",
       "        vertical-align: top;\n",
       "    }\n",
       "\n",
       "    .dataframe thead th {\n",
       "        text-align: right;\n",
       "    }\n",
       "</style>\n",
       "<table border=\"1\" class=\"dataframe\">\n",
       "  <thead>\n",
       "    <tr style=\"text-align: right;\">\n",
       "      <th></th>\n",
       "      <th>Retorno</th>\n",
       "      <th>Retorno_log</th>\n",
       "    </tr>\n",
       "    <tr>\n",
       "      <th>Date</th>\n",
       "      <th></th>\n",
       "      <th></th>\n",
       "    </tr>\n",
       "  </thead>\n",
       "  <tbody>\n",
       "    <tr>\n",
       "      <th>2018-12-31 00:00:00+00:00</th>\n",
       "      <td>-0.005121</td>\n",
       "      <td>-0.005265</td>\n",
       "    </tr>\n",
       "    <tr>\n",
       "      <th>2019-12-31 00:00:00+00:00</th>\n",
       "      <td>-0.000148</td>\n",
       "      <td>-0.000342</td>\n",
       "    </tr>\n",
       "    <tr>\n",
       "      <th>2020-12-31 00:00:00+00:00</th>\n",
       "      <td>-0.000408</td>\n",
       "      <td>-0.000958</td>\n",
       "    </tr>\n",
       "    <tr>\n",
       "      <th>2021-12-31 00:00:00+00:00</th>\n",
       "      <td>0.000747</td>\n",
       "      <td>0.000580</td>\n",
       "    </tr>\n",
       "    <tr>\n",
       "      <th>2022-12-30 00:00:00+00:00</th>\n",
       "      <td>0.001764</td>\n",
       "      <td>0.001450</td>\n",
       "    </tr>\n",
       "  </tbody>\n",
       "</table>\n",
       "</div>"
      ],
      "text/plain": [
       "                            Retorno  Retorno_log\n",
       "Date                                            \n",
       "2018-12-31 00:00:00+00:00 -0.005121    -0.005265\n",
       "2019-12-31 00:00:00+00:00 -0.000148    -0.000342\n",
       "2020-12-31 00:00:00+00:00 -0.000408    -0.000958\n",
       "2021-12-31 00:00:00+00:00  0.000747     0.000580\n",
       "2022-12-30 00:00:00+00:00  0.001764     0.001450"
      ]
     },
     "execution_count": 55,
     "metadata": {},
     "output_type": "execute_result"
    }
   ],
   "source": [
    "caixa[['Retorno', 'Retorno_log',]].resample('BY').mean()\n",
    "#Caixa estuvo 3 años con una rentabilidad negativa, pero con \n",
    "#la compra de Bankia pudo engrosar sus cuentas y aumentar su valor de mercado"
   ]
  },
  {
   "cell_type": "code",
   "execution_count": 56,
   "metadata": {},
   "outputs": [
    {
     "data": {
      "text/html": [
       "<div>\n",
       "<style scoped>\n",
       "    .dataframe tbody tr th:only-of-type {\n",
       "        vertical-align: middle;\n",
       "    }\n",
       "\n",
       "    .dataframe tbody tr th {\n",
       "        vertical-align: top;\n",
       "    }\n",
       "\n",
       "    .dataframe thead th {\n",
       "        text-align: right;\n",
       "    }\n",
       "</style>\n",
       "<table border=\"1\" class=\"dataframe\">\n",
       "  <thead>\n",
       "    <tr style=\"text-align: right;\">\n",
       "      <th></th>\n",
       "      <th>Retorno</th>\n",
       "      <th>Retorno_log</th>\n",
       "    </tr>\n",
       "    <tr>\n",
       "      <th>Date</th>\n",
       "      <th></th>\n",
       "      <th></th>\n",
       "    </tr>\n",
       "  </thead>\n",
       "  <tbody>\n",
       "    <tr>\n",
       "      <th>2018-12-31 00:00:00+00:00</th>\n",
       "      <td>-0.002166</td>\n",
       "      <td>-0.002305</td>\n",
       "    </tr>\n",
       "    <tr>\n",
       "      <th>2019-12-31 00:00:00+00:00</th>\n",
       "      <td>0.000600</td>\n",
       "      <td>0.000485</td>\n",
       "    </tr>\n",
       "    <tr>\n",
       "      <th>2020-12-31 00:00:00+00:00</th>\n",
       "      <td>0.000091</td>\n",
       "      <td>-0.000609</td>\n",
       "    </tr>\n",
       "    <tr>\n",
       "      <th>2021-12-31 00:00:00+00:00</th>\n",
       "      <td>0.001359</td>\n",
       "      <td>0.001132</td>\n",
       "    </tr>\n",
       "    <tr>\n",
       "      <th>2022-12-30 00:00:00+00:00</th>\n",
       "      <td>0.000681</td>\n",
       "      <td>0.000433</td>\n",
       "    </tr>\n",
       "  </tbody>\n",
       "</table>\n",
       "</div>"
      ],
      "text/plain": [
       "                            Retorno  Retorno_log\n",
       "Date                                            \n",
       "2018-12-31 00:00:00+00:00 -0.002166    -0.002305\n",
       "2019-12-31 00:00:00+00:00  0.000600     0.000485\n",
       "2020-12-31 00:00:00+00:00  0.000091    -0.000609\n",
       "2021-12-31 00:00:00+00:00  0.001359     0.001132\n",
       "2022-12-30 00:00:00+00:00  0.000681     0.000433"
      ]
     },
     "execution_count": 56,
     "metadata": {},
     "output_type": "execute_result"
    }
   ],
   "source": [
    "bbva[['Retorno', 'Retorno_log',]].resample('BY').mean()\n",
    "#BBVA tuvo rentabilidad e incluso el año 2020 fue el que dentro de las perdidas el\n",
    "#que menos dinero perdió "
   ]
  },
  {
   "cell_type": "code",
   "execution_count": 57,
   "metadata": {},
   "outputs": [
    {
     "data": {
      "text/html": [
       "<div>\n",
       "<style scoped>\n",
       "    .dataframe tbody tr th:only-of-type {\n",
       "        vertical-align: middle;\n",
       "    }\n",
       "\n",
       "    .dataframe tbody tr th {\n",
       "        vertical-align: top;\n",
       "    }\n",
       "\n",
       "    .dataframe thead th {\n",
       "        text-align: right;\n",
       "    }\n",
       "</style>\n",
       "<table border=\"1\" class=\"dataframe\">\n",
       "  <thead>\n",
       "    <tr style=\"text-align: right;\">\n",
       "      <th></th>\n",
       "      <th>Retorno</th>\n",
       "      <th>Retorno_log</th>\n",
       "    </tr>\n",
       "    <tr>\n",
       "      <th>Date</th>\n",
       "      <th></th>\n",
       "      <th></th>\n",
       "    </tr>\n",
       "  </thead>\n",
       "  <tbody>\n",
       "    <tr>\n",
       "      <th>2018-12-31 00:00:00+00:00</th>\n",
       "      <td>-0.001898</td>\n",
       "      <td>-0.002034</td>\n",
       "    </tr>\n",
       "    <tr>\n",
       "      <th>2019-12-31 00:00:00+00:00</th>\n",
       "      <td>0.000087</td>\n",
       "      <td>-0.000031</td>\n",
       "    </tr>\n",
       "    <tr>\n",
       "      <th>2020-12-31 00:00:00+00:00</th>\n",
       "      <td>-0.000491</td>\n",
       "      <td>-0.001140</td>\n",
       "    </tr>\n",
       "    <tr>\n",
       "      <th>2021-12-31 00:00:00+00:00</th>\n",
       "      <td>0.000851</td>\n",
       "      <td>0.000667</td>\n",
       "    </tr>\n",
       "    <tr>\n",
       "      <th>2022-12-30 00:00:00+00:00</th>\n",
       "      <td>-0.000118</td>\n",
       "      <td>-0.000382</td>\n",
       "    </tr>\n",
       "  </tbody>\n",
       "</table>\n",
       "</div>"
      ],
      "text/plain": [
       "                            Retorno  Retorno_log\n",
       "Date                                            \n",
       "2018-12-31 00:00:00+00:00 -0.001898    -0.002034\n",
       "2019-12-31 00:00:00+00:00  0.000087    -0.000031\n",
       "2020-12-31 00:00:00+00:00 -0.000491    -0.001140\n",
       "2021-12-31 00:00:00+00:00  0.000851     0.000667\n",
       "2022-12-30 00:00:00+00:00 -0.000118    -0.000382"
      ]
     },
     "execution_count": 57,
     "metadata": {},
     "output_type": "execute_result"
    }
   ],
   "source": [
    "santander[['Retorno', 'Retorno_log',]].resample('BY').mean()\n",
    "#Salvo un minimo repunte en el 2019 el Santander ha estado en una tendencia \n",
    "#bajista desde antes de la pandemia "
   ]
  },
  {
   "cell_type": "code",
   "execution_count": 58,
   "metadata": {},
   "outputs": [
    {
     "data": {
      "text/html": [
       "<div>\n",
       "<style scoped>\n",
       "    .dataframe tbody tr th:only-of-type {\n",
       "        vertical-align: middle;\n",
       "    }\n",
       "\n",
       "    .dataframe tbody tr th {\n",
       "        vertical-align: top;\n",
       "    }\n",
       "\n",
       "    .dataframe thead th {\n",
       "        text-align: right;\n",
       "    }\n",
       "</style>\n",
       "<table border=\"1\" class=\"dataframe\">\n",
       "  <thead>\n",
       "    <tr style=\"text-align: right;\">\n",
       "      <th></th>\n",
       "      <th>Retorno</th>\n",
       "      <th>Retorno_log</th>\n",
       "    </tr>\n",
       "    <tr>\n",
       "      <th>Date</th>\n",
       "      <th></th>\n",
       "      <th></th>\n",
       "    </tr>\n",
       "  </thead>\n",
       "  <tbody>\n",
       "    <tr>\n",
       "      <th>2018-12-31 00:00:00+00:00</th>\n",
       "      <td>-0.002096</td>\n",
       "      <td>-0.002190</td>\n",
       "    </tr>\n",
       "    <tr>\n",
       "      <th>2019-12-31 00:00:00+00:00</th>\n",
       "      <td>0.000032</td>\n",
       "      <td>-0.000099</td>\n",
       "    </tr>\n",
       "    <tr>\n",
       "      <th>2020-12-31 00:00:00+00:00</th>\n",
       "      <td>-0.001864</td>\n",
       "      <td>-0.002677</td>\n",
       "    </tr>\n",
       "    <tr>\n",
       "      <th>2021-12-31 00:00:00+00:00</th>\n",
       "      <td>0.001721</td>\n",
       "      <td>0.001544</td>\n",
       "    </tr>\n",
       "    <tr>\n",
       "      <th>2022-12-30 00:00:00+00:00</th>\n",
       "      <td>0.001425</td>\n",
       "      <td>0.001123</td>\n",
       "    </tr>\n",
       "  </tbody>\n",
       "</table>\n",
       "</div>"
      ],
      "text/plain": [
       "                            Retorno  Retorno_log\n",
       "Date                                            \n",
       "2018-12-31 00:00:00+00:00 -0.002096    -0.002190\n",
       "2019-12-31 00:00:00+00:00  0.000032    -0.000099\n",
       "2020-12-31 00:00:00+00:00 -0.001864    -0.002677\n",
       "2021-12-31 00:00:00+00:00  0.001721     0.001544\n",
       "2022-12-30 00:00:00+00:00  0.001425     0.001123"
      ]
     },
     "execution_count": 58,
     "metadata": {},
     "output_type": "execute_result"
    }
   ],
   "source": [
    "bankinter[['Retorno', 'Retorno_log',]].resample('BY').mean()\n",
    "#Una tendencia bajista que se ha ido recuperando, incluso puede mejorar su pico pre pandemico "
   ]
  },
  {
   "cell_type": "code",
   "execution_count": 59,
   "metadata": {},
   "outputs": [
    {
     "data": {
      "text/html": [
       "<div>\n",
       "<style scoped>\n",
       "    .dataframe tbody tr th:only-of-type {\n",
       "        vertical-align: middle;\n",
       "    }\n",
       "\n",
       "    .dataframe tbody tr th {\n",
       "        vertical-align: top;\n",
       "    }\n",
       "\n",
       "    .dataframe thead th {\n",
       "        text-align: right;\n",
       "    }\n",
       "</style>\n",
       "<table border=\"1\" class=\"dataframe\">\n",
       "  <thead>\n",
       "    <tr style=\"text-align: right;\">\n",
       "      <th></th>\n",
       "      <th>Retorno</th>\n",
       "      <th>Retorno_log</th>\n",
       "    </tr>\n",
       "    <tr>\n",
       "      <th>Date</th>\n",
       "      <th></th>\n",
       "      <th></th>\n",
       "    </tr>\n",
       "  </thead>\n",
       "  <tbody>\n",
       "    <tr>\n",
       "      <th>2018-12-31 00:00:00+00:00</th>\n",
       "      <td>-0.004180</td>\n",
       "      <td>-0.004313</td>\n",
       "    </tr>\n",
       "    <tr>\n",
       "      <th>2019-12-31 00:00:00+00:00</th>\n",
       "      <td>0.000593</td>\n",
       "      <td>0.000324</td>\n",
       "    </tr>\n",
       "    <tr>\n",
       "      <th>2020-12-31 00:00:00+00:00</th>\n",
       "      <td>-0.002874</td>\n",
       "      <td>-0.004023</td>\n",
       "    </tr>\n",
       "    <tr>\n",
       "      <th>2021-12-31 00:00:00+00:00</th>\n",
       "      <td>0.002358</td>\n",
       "      <td>0.002007</td>\n",
       "    </tr>\n",
       "    <tr>\n",
       "      <th>2022-12-30 00:00:00+00:00</th>\n",
       "      <td>0.002030</td>\n",
       "      <td>0.001559</td>\n",
       "    </tr>\n",
       "  </tbody>\n",
       "</table>\n",
       "</div>"
      ],
      "text/plain": [
       "                            Retorno  Retorno_log\n",
       "Date                                            \n",
       "2018-12-31 00:00:00+00:00 -0.004180    -0.004313\n",
       "2019-12-31 00:00:00+00:00  0.000593     0.000324\n",
       "2020-12-31 00:00:00+00:00 -0.002874    -0.004023\n",
       "2021-12-31 00:00:00+00:00  0.002358     0.002007\n",
       "2022-12-30 00:00:00+00:00  0.002030     0.001559"
      ]
     },
     "execution_count": 59,
     "metadata": {},
     "output_type": "execute_result"
    }
   ],
   "source": [
    "sabadell[['Retorno', 'Retorno_log',]].resample('BY').mean()\n",
    "#Rentabilidad más alta en relación a los demas bancos "
   ]
  },
  {
   "cell_type": "code",
   "execution_count": 70,
   "metadata": {},
   "outputs": [],
   "source": [
    "df3_1=df3.groupby(df3['Codigo empresa']).median()"
   ]
  },
  {
   "cell_type": "code",
   "execution_count": 120,
   "metadata": {},
   "outputs": [],
   "source": [
    "df3_2= df3.groupby(df3['Codigo empresa']).mean()"
   ]
  },
  {
   "cell_type": "code",
   "execution_count": 121,
   "metadata": {},
   "outputs": [
    {
     "data": {
      "text/html": [
       "<div>\n",
       "<style scoped>\n",
       "    .dataframe tbody tr th:only-of-type {\n",
       "        vertical-align: middle;\n",
       "    }\n",
       "\n",
       "    .dataframe tbody tr th {\n",
       "        vertical-align: top;\n",
       "    }\n",
       "\n",
       "    .dataframe thead th {\n",
       "        text-align: right;\n",
       "    }\n",
       "</style>\n",
       "<table border=\"1\" class=\"dataframe\">\n",
       "  <thead>\n",
       "    <tr style=\"text-align: right;\">\n",
       "      <th></th>\n",
       "      <th>Retorno</th>\n",
       "      <th>Retorno_log</th>\n",
       "    </tr>\n",
       "    <tr>\n",
       "      <th>Codigo empresa</th>\n",
       "      <th></th>\n",
       "      <th></th>\n",
       "    </tr>\n",
       "  </thead>\n",
       "  <tbody>\n",
       "    <tr>\n",
       "      <th>BBVA.MC</th>\n",
       "      <td>0.000667</td>\n",
       "      <td>0.000355</td>\n",
       "    </tr>\n",
       "    <tr>\n",
       "      <th>BKT.MC</th>\n",
       "      <td>0.000102</td>\n",
       "      <td>-0.000246</td>\n",
       "    </tr>\n",
       "    <tr>\n",
       "      <th>CABK.MC</th>\n",
       "      <td>0.000155</td>\n",
       "      <td>-0.000141</td>\n",
       "    </tr>\n",
       "    <tr>\n",
       "      <th>SAB.MC</th>\n",
       "      <td>0.000254</td>\n",
       "      <td>-0.000280</td>\n",
       "    </tr>\n",
       "    <tr>\n",
       "      <th>SAN.MC</th>\n",
       "      <td>0.000016</td>\n",
       "      <td>-0.000278</td>\n",
       "    </tr>\n",
       "  </tbody>\n",
       "</table>\n",
       "</div>"
      ],
      "text/plain": [
       "                 Retorno  Retorno_log\n",
       "Codigo empresa                       \n",
       "BBVA.MC         0.000667     0.000355\n",
       "BKT.MC          0.000102    -0.000246\n",
       "CABK.MC         0.000155    -0.000141\n",
       "SAB.MC          0.000254    -0.000280\n",
       "SAN.MC          0.000016    -0.000278"
      ]
     },
     "execution_count": 121,
     "metadata": {},
     "output_type": "execute_result"
    }
   ],
   "source": [
    "df3_2"
   ]
  },
  {
   "cell_type": "markdown",
   "metadata": {},
   "source": [
    "*Los bancos en los ultimos 5 años han tenido una tendencia de bajada pre pandemica, y salvo el BBVA que a los ultimos 5 años ha mantenido una rentabilidad positiva.*"
   ]
  },
  {
   "cell_type": "code",
   "execution_count": 118,
   "metadata": {},
   "outputs": [],
   "source": [
    "df4 = df1[['Codigo empresa','Volume']]"
   ]
  },
  {
   "cell_type": "code",
   "execution_count": 119,
   "metadata": {},
   "outputs": [
    {
     "data": {
      "text/html": [
       "<div>\n",
       "<style scoped>\n",
       "    .dataframe tbody tr th:only-of-type {\n",
       "        vertical-align: middle;\n",
       "    }\n",
       "\n",
       "    .dataframe tbody tr th {\n",
       "        vertical-align: top;\n",
       "    }\n",
       "\n",
       "    .dataframe thead th {\n",
       "        text-align: right;\n",
       "    }\n",
       "</style>\n",
       "<table border=\"1\" class=\"dataframe\">\n",
       "  <thead>\n",
       "    <tr style=\"text-align: right;\">\n",
       "      <th></th>\n",
       "      <th>Codigo empresa</th>\n",
       "      <th>Volume</th>\n",
       "    </tr>\n",
       "    <tr>\n",
       "      <th>Date</th>\n",
       "      <th></th>\n",
       "      <th></th>\n",
       "    </tr>\n",
       "  </thead>\n",
       "  <tbody>\n",
       "    <tr>\n",
       "      <th>2018-11-30 00:00:00+00:00</th>\n",
       "      <td>CABK.MC</td>\n",
       "      <td>1.285128e+07</td>\n",
       "    </tr>\n",
       "    <tr>\n",
       "      <th>2018-12-31 00:00:00+00:00</th>\n",
       "      <td>CABK.MC</td>\n",
       "      <td>1.373718e+07</td>\n",
       "    </tr>\n",
       "    <tr>\n",
       "      <th>2019-01-31 00:00:00+00:00</th>\n",
       "      <td>CABK.MC</td>\n",
       "      <td>1.642768e+07</td>\n",
       "    </tr>\n",
       "    <tr>\n",
       "      <th>2019-02-28 00:00:00+00:00</th>\n",
       "      <td>CABK.MC</td>\n",
       "      <td>1.883823e+07</td>\n",
       "    </tr>\n",
       "    <tr>\n",
       "      <th>2019-03-29 00:00:00+00:00</th>\n",
       "      <td>CABK.MC</td>\n",
       "      <td>1.597695e+07</td>\n",
       "    </tr>\n",
       "    <tr>\n",
       "      <th>...</th>\n",
       "      <td>...</td>\n",
       "      <td>...</td>\n",
       "    </tr>\n",
       "    <tr>\n",
       "      <th>2022-07-29 00:00:00+00:00</th>\n",
       "      <td>SAB.MC</td>\n",
       "      <td>4.466109e+07</td>\n",
       "    </tr>\n",
       "    <tr>\n",
       "      <th>2022-08-31 00:00:00+00:00</th>\n",
       "      <td>SAB.MC</td>\n",
       "      <td>2.336608e+07</td>\n",
       "    </tr>\n",
       "    <tr>\n",
       "      <th>2022-09-30 00:00:00+00:00</th>\n",
       "      <td>SAB.MC</td>\n",
       "      <td>3.883716e+07</td>\n",
       "    </tr>\n",
       "    <tr>\n",
       "      <th>2022-10-31 00:00:00+00:00</th>\n",
       "      <td>SAB.MC</td>\n",
       "      <td>2.938024e+07</td>\n",
       "    </tr>\n",
       "    <tr>\n",
       "      <th>2022-11-30 00:00:00+00:00</th>\n",
       "      <td>SAB.MC</td>\n",
       "      <td>2.800426e+07</td>\n",
       "    </tr>\n",
       "  </tbody>\n",
       "</table>\n",
       "<p>245 rows × 2 columns</p>\n",
       "</div>"
      ],
      "text/plain": [
       "                          Codigo empresa        Volume\n",
       "Date                                                  \n",
       "2018-11-30 00:00:00+00:00        CABK.MC  1.285128e+07\n",
       "2018-12-31 00:00:00+00:00        CABK.MC  1.373718e+07\n",
       "2019-01-31 00:00:00+00:00        CABK.MC  1.642768e+07\n",
       "2019-02-28 00:00:00+00:00        CABK.MC  1.883823e+07\n",
       "2019-03-29 00:00:00+00:00        CABK.MC  1.597695e+07\n",
       "...                                  ...           ...\n",
       "2022-07-29 00:00:00+00:00         SAB.MC  4.466109e+07\n",
       "2022-08-31 00:00:00+00:00         SAB.MC  2.336608e+07\n",
       "2022-09-30 00:00:00+00:00         SAB.MC  3.883716e+07\n",
       "2022-10-31 00:00:00+00:00         SAB.MC  2.938024e+07\n",
       "2022-11-30 00:00:00+00:00         SAB.MC  2.800426e+07\n",
       "\n",
       "[245 rows x 2 columns]"
      ]
     },
     "execution_count": 119,
     "metadata": {},
     "output_type": "execute_result"
    }
   ],
   "source": [
    "df4"
   ]
  },
  {
   "cell_type": "code",
   "execution_count": 83,
   "metadata": {},
   "outputs": [],
   "source": [
    "df5= df4.groupby(df4['Codigo empresa']).tail(1)"
   ]
  },
  {
   "cell_type": "code",
   "execution_count": 84,
   "metadata": {},
   "outputs": [
    {
     "data": {
      "application/vnd.plotly.v1+json": {
       "config": {
        "plotlyServerURL": "https://plot.ly"
       },
       "data": [
        {
         "hole": 0.3,
         "labels": [
          "CABK.MC",
          "SAN.MC",
          "BBVA.MC",
          "BKT.MC",
          "SAB.MC"
         ],
         "type": "pie",
         "values": [
          12040963.4,
          62432897.9,
          11847108,
          3040516.3,
          28004256.4
         ]
        }
       ],
       "layout": {
        "template": {
         "data": {
          "bar": [
           {
            "error_x": {
             "color": "#2a3f5f"
            },
            "error_y": {
             "color": "#2a3f5f"
            },
            "marker": {
             "line": {
              "color": "#E5ECF6",
              "width": 0.5
             },
             "pattern": {
              "fillmode": "overlay",
              "size": 10,
              "solidity": 0.2
             }
            },
            "type": "bar"
           }
          ],
          "barpolar": [
           {
            "marker": {
             "line": {
              "color": "#E5ECF6",
              "width": 0.5
             },
             "pattern": {
              "fillmode": "overlay",
              "size": 10,
              "solidity": 0.2
             }
            },
            "type": "barpolar"
           }
          ],
          "carpet": [
           {
            "aaxis": {
             "endlinecolor": "#2a3f5f",
             "gridcolor": "white",
             "linecolor": "white",
             "minorgridcolor": "white",
             "startlinecolor": "#2a3f5f"
            },
            "baxis": {
             "endlinecolor": "#2a3f5f",
             "gridcolor": "white",
             "linecolor": "white",
             "minorgridcolor": "white",
             "startlinecolor": "#2a3f5f"
            },
            "type": "carpet"
           }
          ],
          "choropleth": [
           {
            "colorbar": {
             "outlinewidth": 0,
             "ticks": ""
            },
            "type": "choropleth"
           }
          ],
          "contour": [
           {
            "colorbar": {
             "outlinewidth": 0,
             "ticks": ""
            },
            "colorscale": [
             [
              0,
              "#0d0887"
             ],
             [
              0.1111111111111111,
              "#46039f"
             ],
             [
              0.2222222222222222,
              "#7201a8"
             ],
             [
              0.3333333333333333,
              "#9c179e"
             ],
             [
              0.4444444444444444,
              "#bd3786"
             ],
             [
              0.5555555555555556,
              "#d8576b"
             ],
             [
              0.6666666666666666,
              "#ed7953"
             ],
             [
              0.7777777777777778,
              "#fb9f3a"
             ],
             [
              0.8888888888888888,
              "#fdca26"
             ],
             [
              1,
              "#f0f921"
             ]
            ],
            "type": "contour"
           }
          ],
          "contourcarpet": [
           {
            "colorbar": {
             "outlinewidth": 0,
             "ticks": ""
            },
            "type": "contourcarpet"
           }
          ],
          "heatmap": [
           {
            "colorbar": {
             "outlinewidth": 0,
             "ticks": ""
            },
            "colorscale": [
             [
              0,
              "#0d0887"
             ],
             [
              0.1111111111111111,
              "#46039f"
             ],
             [
              0.2222222222222222,
              "#7201a8"
             ],
             [
              0.3333333333333333,
              "#9c179e"
             ],
             [
              0.4444444444444444,
              "#bd3786"
             ],
             [
              0.5555555555555556,
              "#d8576b"
             ],
             [
              0.6666666666666666,
              "#ed7953"
             ],
             [
              0.7777777777777778,
              "#fb9f3a"
             ],
             [
              0.8888888888888888,
              "#fdca26"
             ],
             [
              1,
              "#f0f921"
             ]
            ],
            "type": "heatmap"
           }
          ],
          "heatmapgl": [
           {
            "colorbar": {
             "outlinewidth": 0,
             "ticks": ""
            },
            "colorscale": [
             [
              0,
              "#0d0887"
             ],
             [
              0.1111111111111111,
              "#46039f"
             ],
             [
              0.2222222222222222,
              "#7201a8"
             ],
             [
              0.3333333333333333,
              "#9c179e"
             ],
             [
              0.4444444444444444,
              "#bd3786"
             ],
             [
              0.5555555555555556,
              "#d8576b"
             ],
             [
              0.6666666666666666,
              "#ed7953"
             ],
             [
              0.7777777777777778,
              "#fb9f3a"
             ],
             [
              0.8888888888888888,
              "#fdca26"
             ],
             [
              1,
              "#f0f921"
             ]
            ],
            "type": "heatmapgl"
           }
          ],
          "histogram": [
           {
            "marker": {
             "pattern": {
              "fillmode": "overlay",
              "size": 10,
              "solidity": 0.2
             }
            },
            "type": "histogram"
           }
          ],
          "histogram2d": [
           {
            "colorbar": {
             "outlinewidth": 0,
             "ticks": ""
            },
            "colorscale": [
             [
              0,
              "#0d0887"
             ],
             [
              0.1111111111111111,
              "#46039f"
             ],
             [
              0.2222222222222222,
              "#7201a8"
             ],
             [
              0.3333333333333333,
              "#9c179e"
             ],
             [
              0.4444444444444444,
              "#bd3786"
             ],
             [
              0.5555555555555556,
              "#d8576b"
             ],
             [
              0.6666666666666666,
              "#ed7953"
             ],
             [
              0.7777777777777778,
              "#fb9f3a"
             ],
             [
              0.8888888888888888,
              "#fdca26"
             ],
             [
              1,
              "#f0f921"
             ]
            ],
            "type": "histogram2d"
           }
          ],
          "histogram2dcontour": [
           {
            "colorbar": {
             "outlinewidth": 0,
             "ticks": ""
            },
            "colorscale": [
             [
              0,
              "#0d0887"
             ],
             [
              0.1111111111111111,
              "#46039f"
             ],
             [
              0.2222222222222222,
              "#7201a8"
             ],
             [
              0.3333333333333333,
              "#9c179e"
             ],
             [
              0.4444444444444444,
              "#bd3786"
             ],
             [
              0.5555555555555556,
              "#d8576b"
             ],
             [
              0.6666666666666666,
              "#ed7953"
             ],
             [
              0.7777777777777778,
              "#fb9f3a"
             ],
             [
              0.8888888888888888,
              "#fdca26"
             ],
             [
              1,
              "#f0f921"
             ]
            ],
            "type": "histogram2dcontour"
           }
          ],
          "mesh3d": [
           {
            "colorbar": {
             "outlinewidth": 0,
             "ticks": ""
            },
            "type": "mesh3d"
           }
          ],
          "parcoords": [
           {
            "line": {
             "colorbar": {
              "outlinewidth": 0,
              "ticks": ""
             }
            },
            "type": "parcoords"
           }
          ],
          "pie": [
           {
            "automargin": true,
            "type": "pie"
           }
          ],
          "scatter": [
           {
            "fillpattern": {
             "fillmode": "overlay",
             "size": 10,
             "solidity": 0.2
            },
            "type": "scatter"
           }
          ],
          "scatter3d": [
           {
            "line": {
             "colorbar": {
              "outlinewidth": 0,
              "ticks": ""
             }
            },
            "marker": {
             "colorbar": {
              "outlinewidth": 0,
              "ticks": ""
             }
            },
            "type": "scatter3d"
           }
          ],
          "scattercarpet": [
           {
            "marker": {
             "colorbar": {
              "outlinewidth": 0,
              "ticks": ""
             }
            },
            "type": "scattercarpet"
           }
          ],
          "scattergeo": [
           {
            "marker": {
             "colorbar": {
              "outlinewidth": 0,
              "ticks": ""
             }
            },
            "type": "scattergeo"
           }
          ],
          "scattergl": [
           {
            "marker": {
             "colorbar": {
              "outlinewidth": 0,
              "ticks": ""
             }
            },
            "type": "scattergl"
           }
          ],
          "scattermapbox": [
           {
            "marker": {
             "colorbar": {
              "outlinewidth": 0,
              "ticks": ""
             }
            },
            "type": "scattermapbox"
           }
          ],
          "scatterpolar": [
           {
            "marker": {
             "colorbar": {
              "outlinewidth": 0,
              "ticks": ""
             }
            },
            "type": "scatterpolar"
           }
          ],
          "scatterpolargl": [
           {
            "marker": {
             "colorbar": {
              "outlinewidth": 0,
              "ticks": ""
             }
            },
            "type": "scatterpolargl"
           }
          ],
          "scatterternary": [
           {
            "marker": {
             "colorbar": {
              "outlinewidth": 0,
              "ticks": ""
             }
            },
            "type": "scatterternary"
           }
          ],
          "surface": [
           {
            "colorbar": {
             "outlinewidth": 0,
             "ticks": ""
            },
            "colorscale": [
             [
              0,
              "#0d0887"
             ],
             [
              0.1111111111111111,
              "#46039f"
             ],
             [
              0.2222222222222222,
              "#7201a8"
             ],
             [
              0.3333333333333333,
              "#9c179e"
             ],
             [
              0.4444444444444444,
              "#bd3786"
             ],
             [
              0.5555555555555556,
              "#d8576b"
             ],
             [
              0.6666666666666666,
              "#ed7953"
             ],
             [
              0.7777777777777778,
              "#fb9f3a"
             ],
             [
              0.8888888888888888,
              "#fdca26"
             ],
             [
              1,
              "#f0f921"
             ]
            ],
            "type": "surface"
           }
          ],
          "table": [
           {
            "cells": {
             "fill": {
              "color": "#EBF0F8"
             },
             "line": {
              "color": "white"
             }
            },
            "header": {
             "fill": {
              "color": "#C8D4E3"
             },
             "line": {
              "color": "white"
             }
            },
            "type": "table"
           }
          ]
         },
         "layout": {
          "annotationdefaults": {
           "arrowcolor": "#2a3f5f",
           "arrowhead": 0,
           "arrowwidth": 1
          },
          "autotypenumbers": "strict",
          "coloraxis": {
           "colorbar": {
            "outlinewidth": 0,
            "ticks": ""
           }
          },
          "colorscale": {
           "diverging": [
            [
             0,
             "#8e0152"
            ],
            [
             0.1,
             "#c51b7d"
            ],
            [
             0.2,
             "#de77ae"
            ],
            [
             0.3,
             "#f1b6da"
            ],
            [
             0.4,
             "#fde0ef"
            ],
            [
             0.5,
             "#f7f7f7"
            ],
            [
             0.6,
             "#e6f5d0"
            ],
            [
             0.7,
             "#b8e186"
            ],
            [
             0.8,
             "#7fbc41"
            ],
            [
             0.9,
             "#4d9221"
            ],
            [
             1,
             "#276419"
            ]
           ],
           "sequential": [
            [
             0,
             "#0d0887"
            ],
            [
             0.1111111111111111,
             "#46039f"
            ],
            [
             0.2222222222222222,
             "#7201a8"
            ],
            [
             0.3333333333333333,
             "#9c179e"
            ],
            [
             0.4444444444444444,
             "#bd3786"
            ],
            [
             0.5555555555555556,
             "#d8576b"
            ],
            [
             0.6666666666666666,
             "#ed7953"
            ],
            [
             0.7777777777777778,
             "#fb9f3a"
            ],
            [
             0.8888888888888888,
             "#fdca26"
            ],
            [
             1,
             "#f0f921"
            ]
           ],
           "sequentialminus": [
            [
             0,
             "#0d0887"
            ],
            [
             0.1111111111111111,
             "#46039f"
            ],
            [
             0.2222222222222222,
             "#7201a8"
            ],
            [
             0.3333333333333333,
             "#9c179e"
            ],
            [
             0.4444444444444444,
             "#bd3786"
            ],
            [
             0.5555555555555556,
             "#d8576b"
            ],
            [
             0.6666666666666666,
             "#ed7953"
            ],
            [
             0.7777777777777778,
             "#fb9f3a"
            ],
            [
             0.8888888888888888,
             "#fdca26"
            ],
            [
             1,
             "#f0f921"
            ]
           ]
          },
          "colorway": [
           "#636efa",
           "#EF553B",
           "#00cc96",
           "#ab63fa",
           "#FFA15A",
           "#19d3f3",
           "#FF6692",
           "#B6E880",
           "#FF97FF",
           "#FECB52"
          ],
          "font": {
           "color": "#2a3f5f"
          },
          "geo": {
           "bgcolor": "white",
           "lakecolor": "white",
           "landcolor": "#E5ECF6",
           "showlakes": true,
           "showland": true,
           "subunitcolor": "white"
          },
          "hoverlabel": {
           "align": "left"
          },
          "hovermode": "closest",
          "mapbox": {
           "style": "light"
          },
          "paper_bgcolor": "white",
          "plot_bgcolor": "#E5ECF6",
          "polar": {
           "angularaxis": {
            "gridcolor": "white",
            "linecolor": "white",
            "ticks": ""
           },
           "bgcolor": "#E5ECF6",
           "radialaxis": {
            "gridcolor": "white",
            "linecolor": "white",
            "ticks": ""
           }
          },
          "scene": {
           "xaxis": {
            "backgroundcolor": "#E5ECF6",
            "gridcolor": "white",
            "gridwidth": 2,
            "linecolor": "white",
            "showbackground": true,
            "ticks": "",
            "zerolinecolor": "white"
           },
           "yaxis": {
            "backgroundcolor": "#E5ECF6",
            "gridcolor": "white",
            "gridwidth": 2,
            "linecolor": "white",
            "showbackground": true,
            "ticks": "",
            "zerolinecolor": "white"
           },
           "zaxis": {
            "backgroundcolor": "#E5ECF6",
            "gridcolor": "white",
            "gridwidth": 2,
            "linecolor": "white",
            "showbackground": true,
            "ticks": "",
            "zerolinecolor": "white"
           }
          },
          "shapedefaults": {
           "line": {
            "color": "#2a3f5f"
           }
          },
          "ternary": {
           "aaxis": {
            "gridcolor": "white",
            "linecolor": "white",
            "ticks": ""
           },
           "baxis": {
            "gridcolor": "white",
            "linecolor": "white",
            "ticks": ""
           },
           "bgcolor": "#E5ECF6",
           "caxis": {
            "gridcolor": "white",
            "linecolor": "white",
            "ticks": ""
           }
          },
          "title": {
           "x": 0.05
          },
          "xaxis": {
           "automargin": true,
           "gridcolor": "white",
           "linecolor": "white",
           "ticks": "",
           "title": {
            "standoff": 15
           },
           "zerolinecolor": "white",
           "zerolinewidth": 2
          },
          "yaxis": {
           "automargin": true,
           "gridcolor": "white",
           "linecolor": "white",
           "ticks": "",
           "title": {
            "standoff": 15
           },
           "zerolinecolor": "white",
           "zerolinewidth": 2
          }
         }
        }
       }
      }
     },
     "metadata": {},
     "output_type": "display_data"
    }
   ],
   "source": [
    "import plotly.graph_objects as go\n",
    "fig = go.Figure(data=[go.Pie(labels=df5['Codigo empresa'], values=df5.Volume, hole=.3)])\n",
    "fig.show()\n",
    "\n"
   ]
  },
  {
   "cell_type": "code",
   "execution_count": 90,
   "metadata": {},
   "outputs": [
    {
     "data": {
      "text/plain": [
       "3.267550580944457e-05"
      ]
     },
     "execution_count": 90,
     "metadata": {},
     "output_type": "execute_result"
    }
   ],
   "source": [
    "df1.Retorno.var()"
   ]
  },
  {
   "cell_type": "code",
   "execution_count": 36,
   "metadata": {},
   "outputs": [
    {
     "data": {
      "application/vnd.plotly.v1+json": {
       "config": {
        "plotlyServerURL": "https://plot.ly"
       },
       "data": [
        {
         "fillpattern": {
          "shape": ""
         },
         "hovertemplate": "variable=Retorno<br>Codigo empresa=CABK.MC<br>Date=%{x}<br>value=%{y}<extra></extra>",
         "legendgroup": "Retorno",
         "line": {
          "color": "#636efa"
         },
         "marker": {
          "symbol": "circle"
         },
         "mode": "lines",
         "name": "Retorno",
         "orientation": "v",
         "showlegend": true,
         "stackgroup": "1",
         "type": "scatter",
         "x": [
          "2018-11-30T00:00:00+00:00",
          "2018-12-31T00:00:00+00:00",
          "2019-01-31T00:00:00+00:00",
          "2019-02-28T00:00:00+00:00",
          "2019-03-29T00:00:00+00:00",
          "2019-04-30T00:00:00+00:00",
          "2019-05-31T00:00:00+00:00",
          "2019-06-28T00:00:00+00:00",
          "2019-07-31T00:00:00+00:00",
          "2019-08-30T00:00:00+00:00",
          "2019-09-30T00:00:00+00:00",
          "2019-10-31T00:00:00+00:00",
          "2019-11-29T00:00:00+00:00",
          "2019-12-31T00:00:00+00:00",
          "2020-01-31T00:00:00+00:00",
          "2020-02-28T00:00:00+00:00",
          "2020-03-31T00:00:00+00:00",
          "2020-04-30T00:00:00+00:00",
          "2020-05-29T00:00:00+00:00",
          "2020-06-30T00:00:00+00:00",
          "2020-07-31T00:00:00+00:00",
          "2020-08-31T00:00:00+00:00",
          "2020-09-30T00:00:00+00:00",
          "2020-10-30T00:00:00+00:00",
          "2020-11-30T00:00:00+00:00",
          "2020-12-31T00:00:00+00:00",
          "2021-01-29T00:00:00+00:00",
          "2021-02-26T00:00:00+00:00",
          "2021-03-31T00:00:00+00:00",
          "2021-04-30T00:00:00+00:00",
          "2021-05-31T00:00:00+00:00",
          "2021-06-30T00:00:00+00:00",
          "2021-07-30T00:00:00+00:00",
          "2021-08-31T00:00:00+00:00",
          "2021-09-30T00:00:00+00:00",
          "2021-10-29T00:00:00+00:00",
          "2021-11-30T00:00:00+00:00",
          "2021-12-31T00:00:00+00:00",
          "2022-01-31T00:00:00+00:00",
          "2022-02-28T00:00:00+00:00",
          "2022-03-31T00:00:00+00:00",
          "2022-04-29T00:00:00+00:00",
          "2022-05-31T00:00:00+00:00",
          "2022-06-30T00:00:00+00:00",
          "2022-07-29T00:00:00+00:00",
          "2022-08-31T00:00:00+00:00",
          "2022-09-30T00:00:00+00:00",
          "2022-10-31T00:00:00+00:00",
          "2022-11-30T00:00:00+00:00"
         ],
         "xaxis": "x5",
         "y": [
          -0.0019742056425108337,
          -0.007108276108582537,
          -0.0012031207922001865,
          0.0008416460549391247,
          -0.005283815196453345,
          0.0029588881045604304,
          -0.001224917047099514,
          -0.004403823754947756,
          -0.004173345532157688,
          -0.004260805172762467,
          0.006718022973762905,
          0.005072381971717227,
          0.0006901062684727848,
          0.0021788367656608567,
          -0.002541338302706118,
          -0.00606097413953873,
          -0.012473547983663225,
          0.0017624021569504255,
          0.0017154422662486305,
          0.0053520930833175825,
          -0.0010561544962577997,
          0.000431437463317459,
          -0.0015821628158820642,
          -0.004909146185956543,
          0.015813478639172093,
          -0.001335419876694933,
          0.00005144118783328433,
          0.007281236006107331,
          0.003413365909142721,
          0.001454393121608784,
          0.003599086422026028,
          -0.0038731352312947457,
          -0.0017919335458281287,
          0.0032329663094647697,
          -0.0007722506751292362,
          -0.0027227257550523605,
          -0.0028035614897738348,
          0.0020113389688794802,
          0.008636971312461522,
          -0.0011619353677713097,
          0.005692948702421504,
          0.0013261010160643607,
          0.004327837165765217,
          -0.0007777465683458002,
          -0.005429698146969136,
          0.0005501734031763125,
          0.005667760565958038,
          0.0009967004754164181,
          -0.00527834837193986
         ],
         "yaxis": "y5"
        },
        {
         "fillpattern": {
          "shape": ""
         },
         "hovertemplate": "variable=Retorno<br>Codigo empresa=SAN.MC<br>Date=%{x}<br>value=%{y}<extra></extra>",
         "legendgroup": "Retorno",
         "line": {
          "color": "#636efa"
         },
         "marker": {
          "symbol": "circle"
         },
         "mode": "lines",
         "name": "Retorno",
         "orientation": "v",
         "showlegend": false,
         "stackgroup": "1",
         "type": "scatter",
         "x": [
          "2018-11-30T00:00:00+00:00",
          "2018-12-31T00:00:00+00:00",
          "2019-01-31T00:00:00+00:00",
          "2019-02-28T00:00:00+00:00",
          "2019-03-29T00:00:00+00:00",
          "2019-04-30T00:00:00+00:00",
          "2019-05-31T00:00:00+00:00",
          "2019-06-28T00:00:00+00:00",
          "2019-07-31T00:00:00+00:00",
          "2019-08-30T00:00:00+00:00",
          "2019-09-30T00:00:00+00:00",
          "2019-10-31T00:00:00+00:00",
          "2019-11-29T00:00:00+00:00",
          "2019-12-31T00:00:00+00:00",
          "2020-01-31T00:00:00+00:00",
          "2020-02-28T00:00:00+00:00",
          "2020-03-31T00:00:00+00:00",
          "2020-04-30T00:00:00+00:00",
          "2020-05-29T00:00:00+00:00",
          "2020-06-30T00:00:00+00:00",
          "2020-07-31T00:00:00+00:00",
          "2020-08-31T00:00:00+00:00",
          "2020-09-30T00:00:00+00:00",
          "2020-10-30T00:00:00+00:00",
          "2020-11-30T00:00:00+00:00",
          "2020-12-31T00:00:00+00:00",
          "2021-01-29T00:00:00+00:00",
          "2021-02-26T00:00:00+00:00",
          "2021-03-31T00:00:00+00:00",
          "2021-04-30T00:00:00+00:00",
          "2021-05-31T00:00:00+00:00",
          "2021-06-30T00:00:00+00:00",
          "2021-07-30T00:00:00+00:00",
          "2021-08-31T00:00:00+00:00",
          "2021-09-30T00:00:00+00:00",
          "2021-10-29T00:00:00+00:00",
          "2021-11-30T00:00:00+00:00",
          "2021-12-31T00:00:00+00:00",
          "2022-01-31T00:00:00+00:00",
          "2022-02-28T00:00:00+00:00",
          "2022-03-31T00:00:00+00:00",
          "2022-04-29T00:00:00+00:00",
          "2022-05-31T00:00:00+00:00",
          "2022-06-30T00:00:00+00:00",
          "2022-07-29T00:00:00+00:00",
          "2022-08-31T00:00:00+00:00",
          "2022-09-30T00:00:00+00:00",
          "2022-10-31T00:00:00+00:00",
          "2022-11-30T00:00:00+00:00"
         ],
         "xaxis": "x6",
         "y": [
          -0.0008225612927793086,
          -0.002576780767713226,
          0.0017946546931507132,
          0.002321619200199485,
          -0.0011397226346867855,
          0.00505654143682837,
          -0.005932541867481373,
          0.0016522557960814202,
          -0.002043243283922687,
          -0.005528539862995605,
          0.00315594803352514,
          0.0005556416564710522,
          -0.0009128823676894302,
          0.002617442715205367,
          -0.0020418945416932504,
          -0.003080725488519805,
          -0.01692420800028275,
          0.0004242243467879904,
          0.0005479454059967897,
          0.003023179978108869,
          -0.007269205420299232,
          0.0018822533846958268,
          -0.007279176851896363,
          0.004062080982679172,
          0.021494118857007305,
          0.0000770524968616093,
          -0.0021822452428551893,
          0.009415764201858709,
          -0.0000854558241058252,
          0.006407898804479426,
          0.003681799261660505,
          -0.0024448800473428726,
          -0.0027931547693020383,
          0.0013694294612178392,
          -0.0005815389237517131,
          0.0032811112860905898,
          -0.006213965189889883,
          0.0021820204626297455,
          0.0035099972318381177,
          -0.005144648772820575,
          0.005561365525033822,
          -0.00546355050021995,
          0.002734403570817391,
          -0.004542305919053683,
          -0.004476749202196645,
          -0.0009196500769482336,
          0.0005533991468352426,
          0.005699454408140572,
          -0.0018906668780835397
         ],
         "yaxis": "y6"
        },
        {
         "fillpattern": {
          "shape": ""
         },
         "hovertemplate": "variable=Retorno<br>Codigo empresa=BBVA.MC<br>Date=%{x}<br>value=%{y}<extra></extra>",
         "legendgroup": "Retorno",
         "line": {
          "color": "#636efa"
         },
         "marker": {
          "symbol": "circle"
         },
         "mode": "lines",
         "name": "Retorno",
         "orientation": "v",
         "showlegend": false,
         "stackgroup": "1",
         "type": "scatter",
         "x": [
          "2018-11-30T00:00:00+00:00",
          "2018-12-31T00:00:00+00:00",
          "2019-01-31T00:00:00+00:00",
          "2019-02-28T00:00:00+00:00",
          "2019-03-29T00:00:00+00:00",
          "2019-04-30T00:00:00+00:00",
          "2019-05-31T00:00:00+00:00",
          "2019-06-28T00:00:00+00:00",
          "2019-07-31T00:00:00+00:00",
          "2019-08-30T00:00:00+00:00",
          "2019-09-30T00:00:00+00:00",
          "2019-10-31T00:00:00+00:00",
          "2019-11-29T00:00:00+00:00",
          "2019-12-31T00:00:00+00:00",
          "2020-01-31T00:00:00+00:00",
          "2020-02-28T00:00:00+00:00",
          "2020-03-31T00:00:00+00:00",
          "2020-04-30T00:00:00+00:00",
          "2020-05-29T00:00:00+00:00",
          "2020-06-30T00:00:00+00:00",
          "2020-07-31T00:00:00+00:00",
          "2020-08-31T00:00:00+00:00",
          "2020-09-30T00:00:00+00:00",
          "2020-10-30T00:00:00+00:00",
          "2020-11-30T00:00:00+00:00",
          "2020-12-31T00:00:00+00:00",
          "2021-01-29T00:00:00+00:00",
          "2021-02-26T00:00:00+00:00",
          "2021-03-31T00:00:00+00:00",
          "2021-04-30T00:00:00+00:00",
          "2021-05-31T00:00:00+00:00",
          "2021-06-30T00:00:00+00:00",
          "2021-07-30T00:00:00+00:00",
          "2021-08-31T00:00:00+00:00",
          "2021-09-30T00:00:00+00:00",
          "2021-10-29T00:00:00+00:00",
          "2021-11-30T00:00:00+00:00",
          "2021-12-31T00:00:00+00:00",
          "2022-01-31T00:00:00+00:00",
          "2022-02-28T00:00:00+00:00",
          "2022-03-31T00:00:00+00:00",
          "2022-04-29T00:00:00+00:00",
          "2022-05-31T00:00:00+00:00",
          "2022-06-30T00:00:00+00:00",
          "2022-07-29T00:00:00+00:00",
          "2022-08-31T00:00:00+00:00",
          "2022-09-30T00:00:00+00:00",
          "2022-10-31T00:00:00+00:00",
          "2022-11-30T00:00:00+00:00"
         ],
         "xaxis": "x3",
         "y": [
          0.0007476804627471169,
          -0.004005588371549863,
          0.0050942070046615965,
          0.00185926648429258,
          -0.002588884016589015,
          0.004583422315955295,
          -0.004720321658565222,
          0.0005619809108702899,
          -0.0023035723999801,
          -0.003377824837369738,
          0.0041536496408361955,
          0.0014509116230167483,
          0.00056655787755309,
          0.0020017788752095525,
          -0.002889027266235927,
          -0.00348122198034181,
          -0.017927940291860654,
          0.008909462058598758,
          -0.0026829541256687,
          0.0037840270543644653,
          -0.005544990140275077,
          -0.002571158476369364,
          -0.0012317836201544087,
          0.0020183383672627573,
          0.02360589403261337,
          0.00048162448501069523,
          -0.0031367838675947445,
          0.010387715716565535,
          -0.0011357591095442294,
          0.003523426860613421,
          0.005184717922805637,
          0.0017042434703354635,
          0.00023547292286107637,
          0.0019328634232341913,
          0.00013857354899176843,
          0.004669944740359221,
          -0.009654520623380578,
          0.0043899699258009295,
          0.004283551601718804,
          -0.005847081014975479,
          0.002293425707375726,
          0.0002559043221742176,
          -0.00025740462895511757,
          -0.006316699702952055,
          0.0015004227091795698,
          0.00019544735868994183,
          0.0021261392720324382,
          0.007244668822529023,
          0.0024737763103157098
         ],
         "yaxis": "y3"
        },
        {
         "fillpattern": {
          "shape": ""
         },
         "hovertemplate": "variable=Retorno<br>Codigo empresa=BKT.MC<br>Date=%{x}<br>value=%{y}<extra></extra>",
         "legendgroup": "Retorno",
         "line": {
          "color": "#636efa"
         },
         "marker": {
          "symbol": "circle"
         },
         "mode": "lines",
         "name": "Retorno",
         "orientation": "v",
         "showlegend": false,
         "stackgroup": "1",
         "type": "scatter",
         "x": [
          "2018-11-30T00:00:00+00:00",
          "2018-12-31T00:00:00+00:00",
          "2019-01-31T00:00:00+00:00",
          "2019-02-28T00:00:00+00:00",
          "2019-03-29T00:00:00+00:00",
          "2019-04-30T00:00:00+00:00",
          "2019-05-31T00:00:00+00:00",
          "2019-06-28T00:00:00+00:00",
          "2019-07-31T00:00:00+00:00",
          "2019-08-30T00:00:00+00:00",
          "2019-09-30T00:00:00+00:00",
          "2019-10-31T00:00:00+00:00",
          "2019-11-29T00:00:00+00:00",
          "2019-12-31T00:00:00+00:00",
          "2020-01-31T00:00:00+00:00",
          "2020-02-28T00:00:00+00:00",
          "2020-03-31T00:00:00+00:00",
          "2020-04-30T00:00:00+00:00",
          "2020-05-29T00:00:00+00:00",
          "2020-06-30T00:00:00+00:00",
          "2020-07-31T00:00:00+00:00",
          "2020-08-31T00:00:00+00:00",
          "2020-09-30T00:00:00+00:00",
          "2020-10-30T00:00:00+00:00",
          "2020-11-30T00:00:00+00:00",
          "2020-12-31T00:00:00+00:00",
          "2021-01-29T00:00:00+00:00",
          "2021-02-26T00:00:00+00:00",
          "2021-03-31T00:00:00+00:00",
          "2021-04-30T00:00:00+00:00",
          "2021-05-31T00:00:00+00:00",
          "2021-06-30T00:00:00+00:00",
          "2021-07-30T00:00:00+00:00",
          "2021-08-31T00:00:00+00:00",
          "2021-09-30T00:00:00+00:00",
          "2021-10-29T00:00:00+00:00",
          "2021-11-30T00:00:00+00:00",
          "2021-12-31T00:00:00+00:00",
          "2022-01-31T00:00:00+00:00",
          "2022-02-28T00:00:00+00:00",
          "2022-03-31T00:00:00+00:00",
          "2022-04-29T00:00:00+00:00",
          "2022-05-31T00:00:00+00:00",
          "2022-06-30T00:00:00+00:00",
          "2022-07-29T00:00:00+00:00",
          "2022-08-31T00:00:00+00:00",
          "2022-09-30T00:00:00+00:00",
          "2022-10-31T00:00:00+00:00",
          "2022-11-30T00:00:00+00:00"
         ],
         "xaxis": "x4",
         "y": [
          -0.0021941553726965166,
          -0.0020340959750039743,
          -0.0016315178442728438,
          0.0031379887256510254,
          -0.001854726391474585,
          0.002435617707682205,
          -0.004202855029027078,
          -0.0027430983234663447,
          -0.0007156867843589581,
          -0.005167267082172753,
          0.0041444488853639916,
          0.004420936486337348,
          0.0005653691043388751,
          0.001910030621984543,
          -0.004942352489809263,
          -0.004446124236902984,
          -0.01925948858764388,
          0.009829101522658626,
          -0.012299427453596268,
          0.004478674253458018,
          0.002507560327595014,
          0.0011083017800177317,
          -0.009635461912683992,
          -0.004678620888191286,
          0.01351957887392936,
          0.0024311425398059194,
          0.0027513368772254902,
          0.009390505324315245,
          0.0028115314054713084,
          0.004361640748088678,
          0.001340754236092841,
          -0.0038441339891889183,
          0.0034106208157349475,
          0.003887098808822739,
          0.001543361355066568,
          -0.0026591647872208396,
          -0.003320268554944317,
          0.001845935735401445,
          0.007773762006203714,
          -0.005097694065714401,
          0.006345267847715965,
          0.0027305310157323664,
          0.0022623757328439523,
          0.0010574889413174815,
          -0.009834067005788549,
          0.0017195963094831165,
          0.007694176796162386,
          0.0028005272919303503,
          -0.00866770142042253
         ],
         "yaxis": "y4"
        },
        {
         "fillpattern": {
          "shape": ""
         },
         "hovertemplate": "variable=Retorno<br>Codigo empresa=SAB.MC<br>Date=%{x}<br>value=%{y}<extra></extra>",
         "legendgroup": "Retorno",
         "line": {
          "color": "#636efa"
         },
         "marker": {
          "symbol": "circle"
         },
         "mode": "lines",
         "name": "Retorno",
         "orientation": "v",
         "showlegend": false,
         "stackgroup": "1",
         "type": "scatter",
         "x": [
          "2018-11-30T00:00:00+00:00",
          "2018-12-31T00:00:00+00:00",
          "2019-01-31T00:00:00+00:00",
          "2019-02-28T00:00:00+00:00",
          "2019-03-29T00:00:00+00:00",
          "2019-04-30T00:00:00+00:00",
          "2019-05-31T00:00:00+00:00",
          "2019-06-28T00:00:00+00:00",
          "2019-07-31T00:00:00+00:00",
          "2019-08-30T00:00:00+00:00",
          "2019-09-30T00:00:00+00:00",
          "2019-10-31T00:00:00+00:00",
          "2019-11-29T00:00:00+00:00",
          "2019-12-31T00:00:00+00:00",
          "2020-01-31T00:00:00+00:00",
          "2020-02-28T00:00:00+00:00",
          "2020-03-31T00:00:00+00:00",
          "2020-04-30T00:00:00+00:00",
          "2020-05-29T00:00:00+00:00",
          "2020-06-30T00:00:00+00:00",
          "2020-07-31T00:00:00+00:00",
          "2020-08-31T00:00:00+00:00",
          "2020-09-30T00:00:00+00:00",
          "2020-10-30T00:00:00+00:00",
          "2020-11-30T00:00:00+00:00",
          "2020-12-31T00:00:00+00:00",
          "2021-01-29T00:00:00+00:00",
          "2021-02-26T00:00:00+00:00",
          "2021-03-31T00:00:00+00:00",
          "2021-04-30T00:00:00+00:00",
          "2021-05-31T00:00:00+00:00",
          "2021-06-30T00:00:00+00:00",
          "2021-07-30T00:00:00+00:00",
          "2021-08-31T00:00:00+00:00",
          "2021-09-30T00:00:00+00:00",
          "2021-10-29T00:00:00+00:00",
          "2021-11-30T00:00:00+00:00",
          "2021-12-31T00:00:00+00:00",
          "2022-01-31T00:00:00+00:00",
          "2022-02-28T00:00:00+00:00",
          "2022-03-31T00:00:00+00:00",
          "2022-04-29T00:00:00+00:00",
          "2022-05-31T00:00:00+00:00",
          "2022-06-30T00:00:00+00:00",
          "2022-07-29T00:00:00+00:00",
          "2022-08-31T00:00:00+00:00",
          "2022-09-30T00:00:00+00:00",
          "2022-10-31T00:00:00+00:00",
          "2022-11-30T00:00:00+00:00"
         ],
         "xaxis": "x",
         "y": [
          -0.002845605171158784,
          -0.005022825759204974,
          -0.0037267693265738526,
          0.0050774080521218306,
          -0.00568176711514695,
          0.008557890084691721,
          -0.001789113891552791,
          -0.004144751890531945,
          -0.005661879659706946,
          -0.0003251297683164475,
          0.006314406848333073,
          0.005237120521861817,
          0.0007982290849255202,
          0.003246529457341762,
          -0.010551324484303922,
          -0.0012295159540558446,
          -0.01947347023874967,
          -0.008580395767266342,
          -0.01511495154404571,
          0.0069973224831355405,
          -0.0023878997722445363,
          0.0066167729294930415,
          -0.00580007848548569,
          -0.0035352241706415864,
          0.015304065042895599,
          0.0020281507981965282,
          0.0017183242041071156,
          0.007381449108176774,
          0.004166930268301054,
          0.008106210920561562,
          0.009500472911597,
          -0.004468004412739323,
          0.0009634065805514238,
          0.0024955133111582953,
          0.0065854101872793135,
          -0.00064508604513252,
          -0.006158451988243996,
          -0.0005532275330164451,
          0.009819390178097744,
          0.00036060239219450063,
          0.004304439688558652,
          -0.00010886377534046615,
          0.004927436706555657,
          -0.0033374377302239316,
          -0.009057536423403515,
          0.0030693192379747623,
          0.0018050746719413518,
          0.0077860366285751595,
          -0.0005081000180411202
         ],
         "yaxis": "y"
        },
        {
         "fillpattern": {
          "shape": ""
         },
         "hovertemplate": "variable=Retorno_log<br>Codigo empresa=CABK.MC<br>Date=%{x}<br>value=%{y}<extra></extra>",
         "legendgroup": "Retorno_log",
         "line": {
          "color": "#EF553B"
         },
         "marker": {
          "symbol": "circle"
         },
         "mode": "lines",
         "name": "Retorno_log",
         "orientation": "v",
         "showlegend": true,
         "stackgroup": "1",
         "type": "scatter",
         "x": [
          "2018-11-30T00:00:00+00:00",
          "2018-12-31T00:00:00+00:00",
          "2019-01-31T00:00:00+00:00",
          "2019-02-28T00:00:00+00:00",
          "2019-03-29T00:00:00+00:00",
          "2019-04-30T00:00:00+00:00",
          "2019-05-31T00:00:00+00:00",
          "2019-06-28T00:00:00+00:00",
          "2019-07-31T00:00:00+00:00",
          "2019-08-30T00:00:00+00:00",
          "2019-09-30T00:00:00+00:00",
          "2019-10-31T00:00:00+00:00",
          "2019-11-29T00:00:00+00:00",
          "2019-12-31T00:00:00+00:00",
          "2020-01-31T00:00:00+00:00",
          "2020-02-28T00:00:00+00:00",
          "2020-03-31T00:00:00+00:00",
          "2020-04-30T00:00:00+00:00",
          "2020-05-29T00:00:00+00:00",
          "2020-06-30T00:00:00+00:00",
          "2020-07-31T00:00:00+00:00",
          "2020-08-31T00:00:00+00:00",
          "2020-09-30T00:00:00+00:00",
          "2020-10-30T00:00:00+00:00",
          "2020-11-30T00:00:00+00:00",
          "2020-12-31T00:00:00+00:00",
          "2021-01-29T00:00:00+00:00",
          "2021-02-26T00:00:00+00:00",
          "2021-03-31T00:00:00+00:00",
          "2021-04-30T00:00:00+00:00",
          "2021-05-31T00:00:00+00:00",
          "2021-06-30T00:00:00+00:00",
          "2021-07-30T00:00:00+00:00",
          "2021-08-31T00:00:00+00:00",
          "2021-09-30T00:00:00+00:00",
          "2021-10-29T00:00:00+00:00",
          "2021-11-30T00:00:00+00:00",
          "2021-12-31T00:00:00+00:00",
          "2022-01-31T00:00:00+00:00",
          "2022-02-28T00:00:00+00:00",
          "2022-03-31T00:00:00+00:00",
          "2022-04-29T00:00:00+00:00",
          "2022-05-31T00:00:00+00:00",
          "2022-06-30T00:00:00+00:00",
          "2022-07-29T00:00:00+00:00",
          "2022-08-31T00:00:00+00:00",
          "2022-09-30T00:00:00+00:00",
          "2022-10-31T00:00:00+00:00",
          "2022-11-30T00:00:00+00:00"
         ],
         "xaxis": "x5",
         "y": [
          -0.0020384262762969335,
          -0.007303240159319147,
          -0.001454012409165065,
          0.00071349035974775,
          -0.005439445042825545,
          0.0027480429508972303,
          -0.0013145521120010819,
          -0.004552491483035584,
          -0.004430990266778467,
          -0.004472996506979905,
          0.006388852899073577,
          0.004801421360407366,
          0.0005628732566683799,
          0.002069009978925576,
          -0.002642067338163159,
          -0.0064384852806068146,
          -0.014310677060581428,
          0.0011989175557792747,
          0.0011577618205884399,
          0.004880604757607753,
          -0.001449816956836877,
          0.00016105074628329047,
          -0.0022058765118221093,
          -0.005136469012540367,
          0.014900682548711769,
          -0.0014956381665168046,
          -0.00033378973910948,
          0.00713338697987881,
          0.0032129560180203793,
          0.0013398045066568946,
          0.003500368230316313,
          -0.003975728444603441,
          -0.0020298052575944,
          0.0031475095088447395,
          -0.0009897181613436725,
          -0.0029303258925171003,
          -0.0029319735337830525,
          0.001922206506574805,
          0.00843194631665828,
          -0.0015728832975445701,
          0.005202974976348356,
          0.001124942800875978,
          0.004108066723891509,
          -0.0010979565224671004,
          -0.006159652773608139,
          0.00043867502043221687,
          0.005336237629959058,
          0.000775856264316836,
          -0.005461170835215951
         ],
         "yaxis": "y5"
        },
        {
         "fillpattern": {
          "shape": ""
         },
         "hovertemplate": "variable=Retorno_log<br>Codigo empresa=SAN.MC<br>Date=%{x}<br>value=%{y}<extra></extra>",
         "legendgroup": "Retorno_log",
         "line": {
          "color": "#EF553B"
         },
         "marker": {
          "symbol": "circle"
         },
         "mode": "lines",
         "name": "Retorno_log",
         "orientation": "v",
         "showlegend": false,
         "stackgroup": "1",
         "type": "scatter",
         "x": [
          "2018-11-30T00:00:00+00:00",
          "2018-12-31T00:00:00+00:00",
          "2019-01-31T00:00:00+00:00",
          "2019-02-28T00:00:00+00:00",
          "2019-03-29T00:00:00+00:00",
          "2019-04-30T00:00:00+00:00",
          "2019-05-31T00:00:00+00:00",
          "2019-06-28T00:00:00+00:00",
          "2019-07-31T00:00:00+00:00",
          "2019-08-30T00:00:00+00:00",
          "2019-09-30T00:00:00+00:00",
          "2019-10-31T00:00:00+00:00",
          "2019-11-29T00:00:00+00:00",
          "2019-12-31T00:00:00+00:00",
          "2020-01-31T00:00:00+00:00",
          "2020-02-28T00:00:00+00:00",
          "2020-03-31T00:00:00+00:00",
          "2020-04-30T00:00:00+00:00",
          "2020-05-29T00:00:00+00:00",
          "2020-06-30T00:00:00+00:00",
          "2020-07-31T00:00:00+00:00",
          "2020-08-31T00:00:00+00:00",
          "2020-09-30T00:00:00+00:00",
          "2020-10-30T00:00:00+00:00",
          "2020-11-30T00:00:00+00:00",
          "2020-12-31T00:00:00+00:00",
          "2021-01-29T00:00:00+00:00",
          "2021-02-26T00:00:00+00:00",
          "2021-03-31T00:00:00+00:00",
          "2021-04-30T00:00:00+00:00",
          "2021-05-31T00:00:00+00:00",
          "2021-06-30T00:00:00+00:00",
          "2021-07-30T00:00:00+00:00",
          "2021-08-31T00:00:00+00:00",
          "2021-09-30T00:00:00+00:00",
          "2021-10-29T00:00:00+00:00",
          "2021-11-30T00:00:00+00:00",
          "2021-12-31T00:00:00+00:00",
          "2022-01-31T00:00:00+00:00",
          "2022-02-28T00:00:00+00:00",
          "2022-03-31T00:00:00+00:00",
          "2022-04-29T00:00:00+00:00",
          "2022-05-31T00:00:00+00:00",
          "2022-06-30T00:00:00+00:00",
          "2022-07-29T00:00:00+00:00",
          "2022-08-31T00:00:00+00:00",
          "2022-09-30T00:00:00+00:00",
          "2022-10-31T00:00:00+00:00",
          "2022-11-30T00:00:00+00:00"
         ],
         "xaxis": "x6",
         "y": [
          -0.0009222523468943997,
          -0.0027358831417231477,
          0.001699476467673635,
          0.0022223931175723247,
          -0.001309802230606915,
          0.004972075451118875,
          -0.006017855880372791,
          0.0015990971877631397,
          -0.0021471471123932166,
          -0.005677098548032067,
          0.0029983928800770905,
          0.0003406308036148698,
          -0.0010222963616570997,
          0.002529961875397748,
          -0.002197653014866136,
          -0.0032986833321489253,
          -0.019054409450319165,
          -0.00014351205638118953,
          9.714451465470119e-18,
          0.002196771454426957,
          -0.007712807833918945,
          0.0015179505699345862,
          -0.007658321892343336,
          0.0037854984554790906,
          0.020228982867376007,
          -0.00038256438839518033,
          -0.0024847961154943698,
          0.00910724664790543,
          -0.00020905624416324995,
          0.006190887612662332,
          0.00357422290288105,
          -0.0025325737524277453,
          -0.003018001110515729,
          0.0012776348233687347,
          -0.0008080885383150088,
          0.0031350418981820048,
          -0.006492642700637421,
          0.002057040497326835,
          0.003344849157576986,
          -0.005603689839988249,
          0.005091118115836165,
          -0.005735660558081644,
          0.002526253260339217,
          -0.00483151719024445,
          -0.00476455665461314,
          -0.0010287279132395,
          0.0003383033104599186,
          0.005448229073983819,
          -0.002005989511339459
         ],
         "yaxis": "y6"
        },
        {
         "fillpattern": {
          "shape": ""
         },
         "hovertemplate": "variable=Retorno_log<br>Codigo empresa=BBVA.MC<br>Date=%{x}<br>value=%{y}<extra></extra>",
         "legendgroup": "Retorno_log",
         "line": {
          "color": "#EF553B"
         },
         "marker": {
          "symbol": "circle"
         },
         "mode": "lines",
         "name": "Retorno_log",
         "orientation": "v",
         "showlegend": false,
         "stackgroup": "1",
         "type": "scatter",
         "x": [
          "2018-11-30T00:00:00+00:00",
          "2018-12-31T00:00:00+00:00",
          "2019-01-31T00:00:00+00:00",
          "2019-02-28T00:00:00+00:00",
          "2019-03-29T00:00:00+00:00",
          "2019-04-30T00:00:00+00:00",
          "2019-05-31T00:00:00+00:00",
          "2019-06-28T00:00:00+00:00",
          "2019-07-31T00:00:00+00:00",
          "2019-08-30T00:00:00+00:00",
          "2019-09-30T00:00:00+00:00",
          "2019-10-31T00:00:00+00:00",
          "2019-11-29T00:00:00+00:00",
          "2019-12-31T00:00:00+00:00",
          "2020-01-31T00:00:00+00:00",
          "2020-02-28T00:00:00+00:00",
          "2020-03-31T00:00:00+00:00",
          "2020-04-30T00:00:00+00:00",
          "2020-05-29T00:00:00+00:00",
          "2020-06-30T00:00:00+00:00",
          "2020-07-31T00:00:00+00:00",
          "2020-08-31T00:00:00+00:00",
          "2020-09-30T00:00:00+00:00",
          "2020-10-30T00:00:00+00:00",
          "2020-11-30T00:00:00+00:00",
          "2020-12-31T00:00:00+00:00",
          "2021-01-29T00:00:00+00:00",
          "2021-02-26T00:00:00+00:00",
          "2021-03-31T00:00:00+00:00",
          "2021-04-30T00:00:00+00:00",
          "2021-05-31T00:00:00+00:00",
          "2021-06-30T00:00:00+00:00",
          "2021-07-30T00:00:00+00:00",
          "2021-08-31T00:00:00+00:00",
          "2021-09-30T00:00:00+00:00",
          "2021-10-29T00:00:00+00:00",
          "2021-11-30T00:00:00+00:00",
          "2021-12-31T00:00:00+00:00",
          "2022-01-31T00:00:00+00:00",
          "2022-02-28T00:00:00+00:00",
          "2022-03-31T00:00:00+00:00",
          "2022-04-29T00:00:00+00:00",
          "2022-05-31T00:00:00+00:00",
          "2022-06-30T00:00:00+00:00",
          "2022-07-29T00:00:00+00:00",
          "2022-08-31T00:00:00+00:00",
          "2022-09-30T00:00:00+00:00",
          "2022-10-31T00:00:00+00:00",
          "2022-11-30T00:00:00+00:00"
         ],
         "xaxis": "x3",
         "y": [
          0.0006134997034224249,
          -0.004148471601221789,
          0.004993011287494352,
          0.001738297892160675,
          -0.002690707640695375,
          0.00448060793448434,
          -0.004844648314006755,
          0.00048662184591156493,
          -0.0023875355765558414,
          -0.003547739395139076,
          0.003965525139788655,
          0.0013011921974553523,
          0.0004890014526819947,
          0.0019299990993125,
          -0.002961898557964873,
          -0.00375337865167112,
          -0.020155336474584583,
          0.0077261950274736405,
          -0.00323922769305821,
          0.0031364142681053566,
          -0.0060458292387931545,
          -0.0029462500034759457,
          -0.0016530747350397593,
          0.0017317925795654666,
          0.02206853708098639,
          0.00026092694117264305,
          -0.0033911298169380494,
          0.01003353477310753,
          -0.0014194397734836079,
          0.0032826489856030267,
          0.0050946391553706,
          0.001578763950858727,
          -9.086646778926132e-18,
          0.0017958176583145868,
          -0.00008766549574570486,
          0.00434252444434791,
          -0.009991427974095057,
          0.004266980086630874,
          0.004171439617996786,
          -0.006146341968786281,
          0.0017087761890266662,
          -1.0793834961633467e-17,
          -0.00044320731258883084,
          -0.006712844189580264,
          0.0011737628210683252,
          0.00009656242251509176,
          0.0019439045009645333,
          0.0070933468169702,
          0.00244143581712871
         ],
         "yaxis": "y3"
        },
        {
         "fillpattern": {
          "shape": ""
         },
         "hovertemplate": "variable=Retorno_log<br>Codigo empresa=BKT.MC<br>Date=%{x}<br>value=%{y}<extra></extra>",
         "legendgroup": "Retorno_log",
         "line": {
          "color": "#EF553B"
         },
         "marker": {
          "symbol": "circle"
         },
         "mode": "lines",
         "name": "Retorno_log",
         "orientation": "v",
         "showlegend": false,
         "stackgroup": "1",
         "type": "scatter",
         "x": [
          "2018-11-30T00:00:00+00:00",
          "2018-12-31T00:00:00+00:00",
          "2019-01-31T00:00:00+00:00",
          "2019-02-28T00:00:00+00:00",
          "2019-03-29T00:00:00+00:00",
          "2019-04-30T00:00:00+00:00",
          "2019-05-31T00:00:00+00:00",
          "2019-06-28T00:00:00+00:00",
          "2019-07-31T00:00:00+00:00",
          "2019-08-30T00:00:00+00:00",
          "2019-09-30T00:00:00+00:00",
          "2019-10-31T00:00:00+00:00",
          "2019-11-29T00:00:00+00:00",
          "2019-12-31T00:00:00+00:00",
          "2020-01-31T00:00:00+00:00",
          "2020-02-28T00:00:00+00:00",
          "2020-03-31T00:00:00+00:00",
          "2020-04-30T00:00:00+00:00",
          "2020-05-29T00:00:00+00:00",
          "2020-06-30T00:00:00+00:00",
          "2020-07-31T00:00:00+00:00",
          "2020-08-31T00:00:00+00:00",
          "2020-09-30T00:00:00+00:00",
          "2020-10-30T00:00:00+00:00",
          "2020-11-30T00:00:00+00:00",
          "2020-12-31T00:00:00+00:00",
          "2021-01-29T00:00:00+00:00",
          "2021-02-26T00:00:00+00:00",
          "2021-03-31T00:00:00+00:00",
          "2021-04-30T00:00:00+00:00",
          "2021-05-31T00:00:00+00:00",
          "2021-06-30T00:00:00+00:00",
          "2021-07-30T00:00:00+00:00",
          "2021-08-31T00:00:00+00:00",
          "2021-09-30T00:00:00+00:00",
          "2021-10-29T00:00:00+00:00",
          "2021-11-30T00:00:00+00:00",
          "2021-12-31T00:00:00+00:00",
          "2022-01-31T00:00:00+00:00",
          "2022-02-28T00:00:00+00:00",
          "2022-03-31T00:00:00+00:00",
          "2022-04-29T00:00:00+00:00",
          "2022-05-31T00:00:00+00:00",
          "2022-06-30T00:00:00+00:00",
          "2022-07-29T00:00:00+00:00",
          "2022-08-31T00:00:00+00:00",
          "2022-09-30T00:00:00+00:00",
          "2022-10-31T00:00:00+00:00",
          "2022-11-30T00:00:00+00:00"
         ],
         "xaxis": "x4",
         "y": [
          -0.0022434714638553503,
          -0.0021555665703589994,
          -0.0017809285926549997,
          0.003041478042389525,
          -0.0019217068669630049,
          0.0023298723989210648,
          -0.004258431094423754,
          -0.00284741759354476,
          -0.00087554956661735,
          -0.005345151817773753,
          0.003856782453869768,
          0.0042692185295310344,
          0.00044763056360569463,
          0.0018317276584664999,
          -0.005023618112175151,
          -0.00461248668256094,
          -0.02139541682869247,
          0.009111342520327968,
          -0.015850484377315052,
          0.003955294704596804,
          0.002249093511971341,
          0.0009308423337973229,
          -0.010104514235860404,
          -0.005084189305985996,
          0.012431701702719287,
          0.0021610955165627574,
          0.0023337569285064898,
          0.00906175952908672,
          0.0026324542342304625,
          0.004130085023236595,
          0.0012685812780489183,
          -0.003917168010956922,
          0.0032218404035149954,
          0.003791567916830452,
          0.001437038926441036,
          -0.0028823347549824995,
          -0.0034801177249363523,
          0.001754565990563515,
          0.007585328834840036,
          -0.005441261122925824,
          0.0057349204235244,
          0.0024787258604892603,
          0.0020836516644166473,
          0.0007035237758596862,
          -0.01050024927711856,
          0.0016341963813867374,
          0.007395559491437,
          0.0026768189092830318,
          -0.008879549878313141
         ],
         "yaxis": "y4"
        },
        {
         "fillpattern": {
          "shape": ""
         },
         "hovertemplate": "variable=Retorno_log<br>Codigo empresa=SAB.MC<br>Date=%{x}<br>value=%{y}<extra></extra>",
         "legendgroup": "Retorno_log",
         "line": {
          "color": "#EF553B"
         },
         "marker": {
          "symbol": "circle"
         },
         "mode": "lines",
         "name": "Retorno_log",
         "orientation": "v",
         "showlegend": false,
         "stackgroup": "1",
         "type": "scatter",
         "x": [
          "2018-11-30T00:00:00+00:00",
          "2018-12-31T00:00:00+00:00",
          "2019-01-31T00:00:00+00:00",
          "2019-02-28T00:00:00+00:00",
          "2019-03-29T00:00:00+00:00",
          "2019-04-30T00:00:00+00:00",
          "2019-05-31T00:00:00+00:00",
          "2019-06-28T00:00:00+00:00",
          "2019-07-31T00:00:00+00:00",
          "2019-08-30T00:00:00+00:00",
          "2019-09-30T00:00:00+00:00",
          "2019-10-31T00:00:00+00:00",
          "2019-11-29T00:00:00+00:00",
          "2019-12-31T00:00:00+00:00",
          "2020-01-31T00:00:00+00:00",
          "2020-02-28T00:00:00+00:00",
          "2020-03-31T00:00:00+00:00",
          "2020-04-30T00:00:00+00:00",
          "2020-05-29T00:00:00+00:00",
          "2020-06-30T00:00:00+00:00",
          "2020-07-31T00:00:00+00:00",
          "2020-08-31T00:00:00+00:00",
          "2020-09-30T00:00:00+00:00",
          "2020-10-30T00:00:00+00:00",
          "2020-11-30T00:00:00+00:00",
          "2020-12-31T00:00:00+00:00",
          "2021-01-29T00:00:00+00:00",
          "2021-02-26T00:00:00+00:00",
          "2021-03-31T00:00:00+00:00",
          "2021-04-30T00:00:00+00:00",
          "2021-05-31T00:00:00+00:00",
          "2021-06-30T00:00:00+00:00",
          "2021-07-30T00:00:00+00:00",
          "2021-08-31T00:00:00+00:00",
          "2021-09-30T00:00:00+00:00",
          "2021-10-29T00:00:00+00:00",
          "2021-11-30T00:00:00+00:00",
          "2021-12-31T00:00:00+00:00",
          "2022-01-31T00:00:00+00:00",
          "2022-02-28T00:00:00+00:00",
          "2022-03-31T00:00:00+00:00",
          "2022-04-29T00:00:00+00:00",
          "2022-05-31T00:00:00+00:00",
          "2022-06-30T00:00:00+00:00",
          "2022-07-29T00:00:00+00:00",
          "2022-08-31T00:00:00+00:00",
          "2022-09-30T00:00:00+00:00",
          "2022-10-31T00:00:00+00:00",
          "2022-11-30T00:00:00+00:00"
         ],
         "xaxis": "x",
         "y": [
          -0.002909814617871575,
          -0.0051998852484205,
          -0.004187810654071739,
          0.004838650279319024,
          -0.006000465399832985,
          0.008271065941425106,
          -0.0019201922282859683,
          -0.00432131152276627,
          -0.005976352650301413,
          -0.0006337034822265759,
          0.005853017485981177,
          0.00498373778711374,
          0.0006786038772771904,
          0.0031209853615596617,
          -0.011139031653890632,
          -0.0014197817081602951,
          -0.022755882981229325,
          -0.009028762296105048,
          -0.016713812171234587,
          0.005686631329404035,
          -0.00295705010365325,
          0.006092069057534359,
          -0.00680012374936661,
          -0.003930507273248242,
          0.012193817572485416,
          0.0015623516585553526,
          0.00108841912083974,
          0.007044862496730695,
          0.0037059241715914244,
          0.007736163922557096,
          0.008987717299254273,
          -0.004636720275992746,
          0.0004917965297434809,
          0.0023462894212810783,
          0.006201972531266414,
          -0.0009311531301565545,
          -0.00640377507522526,
          -0.000766432007369085,
          0.009446629502568832,
          -0.0004943796098362009,
          0.003429998686683809,
          -0.0005498387948209394,
          0.0045563408751988,
          -0.0037723756521995553,
          -0.009836658288264796,
          0.002886264330343662,
          0.0013327750266741865,
          0.007606571419554745,
          -0.0005915718509097803
         ],
         "yaxis": "y"
        }
       ],
       "layout": {
        "annotations": [
         {
          "font": {},
          "showarrow": false,
          "text": "Codigo empresa=SAB.MC",
          "x": 0.245,
          "xanchor": "center",
          "xref": "paper",
          "y": 0.2866666666666666,
          "yanchor": "bottom",
          "yref": "paper"
         },
         {
          "font": {},
          "showarrow": false,
          "text": "Codigo empresa=BBVA.MC",
          "x": 0.245,
          "xanchor": "center",
          "xref": "paper",
          "y": 0.6433333333333333,
          "yanchor": "bottom",
          "yref": "paper"
         },
         {
          "font": {},
          "showarrow": false,
          "text": "Codigo empresa=BKT.MC",
          "x": 0.755,
          "xanchor": "center",
          "xref": "paper",
          "y": 0.6433333333333333,
          "yanchor": "bottom",
          "yref": "paper"
         },
         {
          "font": {},
          "showarrow": false,
          "text": "Codigo empresa=CABK.MC",
          "x": 0.245,
          "xanchor": "center",
          "xref": "paper",
          "y": 0.9999999999999999,
          "yanchor": "bottom",
          "yref": "paper"
         },
         {
          "font": {},
          "showarrow": false,
          "text": "Codigo empresa=SAN.MC",
          "x": 0.755,
          "xanchor": "center",
          "xref": "paper",
          "y": 0.9999999999999999,
          "yanchor": "bottom",
          "yref": "paper"
         }
        ],
        "legend": {
         "title": {
          "text": "variable"
         },
         "tracegroupgap": 0
        },
        "margin": {
         "t": 60
        },
        "template": {
         "data": {
          "bar": [
           {
            "error_x": {
             "color": "#2a3f5f"
            },
            "error_y": {
             "color": "#2a3f5f"
            },
            "marker": {
             "line": {
              "color": "#E5ECF6",
              "width": 0.5
             },
             "pattern": {
              "fillmode": "overlay",
              "size": 10,
              "solidity": 0.2
             }
            },
            "type": "bar"
           }
          ],
          "barpolar": [
           {
            "marker": {
             "line": {
              "color": "#E5ECF6",
              "width": 0.5
             },
             "pattern": {
              "fillmode": "overlay",
              "size": 10,
              "solidity": 0.2
             }
            },
            "type": "barpolar"
           }
          ],
          "carpet": [
           {
            "aaxis": {
             "endlinecolor": "#2a3f5f",
             "gridcolor": "white",
             "linecolor": "white",
             "minorgridcolor": "white",
             "startlinecolor": "#2a3f5f"
            },
            "baxis": {
             "endlinecolor": "#2a3f5f",
             "gridcolor": "white",
             "linecolor": "white",
             "minorgridcolor": "white",
             "startlinecolor": "#2a3f5f"
            },
            "type": "carpet"
           }
          ],
          "choropleth": [
           {
            "colorbar": {
             "outlinewidth": 0,
             "ticks": ""
            },
            "type": "choropleth"
           }
          ],
          "contour": [
           {
            "colorbar": {
             "outlinewidth": 0,
             "ticks": ""
            },
            "colorscale": [
             [
              0,
              "#0d0887"
             ],
             [
              0.1111111111111111,
              "#46039f"
             ],
             [
              0.2222222222222222,
              "#7201a8"
             ],
             [
              0.3333333333333333,
              "#9c179e"
             ],
             [
              0.4444444444444444,
              "#bd3786"
             ],
             [
              0.5555555555555556,
              "#d8576b"
             ],
             [
              0.6666666666666666,
              "#ed7953"
             ],
             [
              0.7777777777777778,
              "#fb9f3a"
             ],
             [
              0.8888888888888888,
              "#fdca26"
             ],
             [
              1,
              "#f0f921"
             ]
            ],
            "type": "contour"
           }
          ],
          "contourcarpet": [
           {
            "colorbar": {
             "outlinewidth": 0,
             "ticks": ""
            },
            "type": "contourcarpet"
           }
          ],
          "heatmap": [
           {
            "colorbar": {
             "outlinewidth": 0,
             "ticks": ""
            },
            "colorscale": [
             [
              0,
              "#0d0887"
             ],
             [
              0.1111111111111111,
              "#46039f"
             ],
             [
              0.2222222222222222,
              "#7201a8"
             ],
             [
              0.3333333333333333,
              "#9c179e"
             ],
             [
              0.4444444444444444,
              "#bd3786"
             ],
             [
              0.5555555555555556,
              "#d8576b"
             ],
             [
              0.6666666666666666,
              "#ed7953"
             ],
             [
              0.7777777777777778,
              "#fb9f3a"
             ],
             [
              0.8888888888888888,
              "#fdca26"
             ],
             [
              1,
              "#f0f921"
             ]
            ],
            "type": "heatmap"
           }
          ],
          "heatmapgl": [
           {
            "colorbar": {
             "outlinewidth": 0,
             "ticks": ""
            },
            "colorscale": [
             [
              0,
              "#0d0887"
             ],
             [
              0.1111111111111111,
              "#46039f"
             ],
             [
              0.2222222222222222,
              "#7201a8"
             ],
             [
              0.3333333333333333,
              "#9c179e"
             ],
             [
              0.4444444444444444,
              "#bd3786"
             ],
             [
              0.5555555555555556,
              "#d8576b"
             ],
             [
              0.6666666666666666,
              "#ed7953"
             ],
             [
              0.7777777777777778,
              "#fb9f3a"
             ],
             [
              0.8888888888888888,
              "#fdca26"
             ],
             [
              1,
              "#f0f921"
             ]
            ],
            "type": "heatmapgl"
           }
          ],
          "histogram": [
           {
            "marker": {
             "pattern": {
              "fillmode": "overlay",
              "size": 10,
              "solidity": 0.2
             }
            },
            "type": "histogram"
           }
          ],
          "histogram2d": [
           {
            "colorbar": {
             "outlinewidth": 0,
             "ticks": ""
            },
            "colorscale": [
             [
              0,
              "#0d0887"
             ],
             [
              0.1111111111111111,
              "#46039f"
             ],
             [
              0.2222222222222222,
              "#7201a8"
             ],
             [
              0.3333333333333333,
              "#9c179e"
             ],
             [
              0.4444444444444444,
              "#bd3786"
             ],
             [
              0.5555555555555556,
              "#d8576b"
             ],
             [
              0.6666666666666666,
              "#ed7953"
             ],
             [
              0.7777777777777778,
              "#fb9f3a"
             ],
             [
              0.8888888888888888,
              "#fdca26"
             ],
             [
              1,
              "#f0f921"
             ]
            ],
            "type": "histogram2d"
           }
          ],
          "histogram2dcontour": [
           {
            "colorbar": {
             "outlinewidth": 0,
             "ticks": ""
            },
            "colorscale": [
             [
              0,
              "#0d0887"
             ],
             [
              0.1111111111111111,
              "#46039f"
             ],
             [
              0.2222222222222222,
              "#7201a8"
             ],
             [
              0.3333333333333333,
              "#9c179e"
             ],
             [
              0.4444444444444444,
              "#bd3786"
             ],
             [
              0.5555555555555556,
              "#d8576b"
             ],
             [
              0.6666666666666666,
              "#ed7953"
             ],
             [
              0.7777777777777778,
              "#fb9f3a"
             ],
             [
              0.8888888888888888,
              "#fdca26"
             ],
             [
              1,
              "#f0f921"
             ]
            ],
            "type": "histogram2dcontour"
           }
          ],
          "mesh3d": [
           {
            "colorbar": {
             "outlinewidth": 0,
             "ticks": ""
            },
            "type": "mesh3d"
           }
          ],
          "parcoords": [
           {
            "line": {
             "colorbar": {
              "outlinewidth": 0,
              "ticks": ""
             }
            },
            "type": "parcoords"
           }
          ],
          "pie": [
           {
            "automargin": true,
            "type": "pie"
           }
          ],
          "scatter": [
           {
            "fillpattern": {
             "fillmode": "overlay",
             "size": 10,
             "solidity": 0.2
            },
            "type": "scatter"
           }
          ],
          "scatter3d": [
           {
            "line": {
             "colorbar": {
              "outlinewidth": 0,
              "ticks": ""
             }
            },
            "marker": {
             "colorbar": {
              "outlinewidth": 0,
              "ticks": ""
             }
            },
            "type": "scatter3d"
           }
          ],
          "scattercarpet": [
           {
            "marker": {
             "colorbar": {
              "outlinewidth": 0,
              "ticks": ""
             }
            },
            "type": "scattercarpet"
           }
          ],
          "scattergeo": [
           {
            "marker": {
             "colorbar": {
              "outlinewidth": 0,
              "ticks": ""
             }
            },
            "type": "scattergeo"
           }
          ],
          "scattergl": [
           {
            "marker": {
             "colorbar": {
              "outlinewidth": 0,
              "ticks": ""
             }
            },
            "type": "scattergl"
           }
          ],
          "scattermapbox": [
           {
            "marker": {
             "colorbar": {
              "outlinewidth": 0,
              "ticks": ""
             }
            },
            "type": "scattermapbox"
           }
          ],
          "scatterpolar": [
           {
            "marker": {
             "colorbar": {
              "outlinewidth": 0,
              "ticks": ""
             }
            },
            "type": "scatterpolar"
           }
          ],
          "scatterpolargl": [
           {
            "marker": {
             "colorbar": {
              "outlinewidth": 0,
              "ticks": ""
             }
            },
            "type": "scatterpolargl"
           }
          ],
          "scatterternary": [
           {
            "marker": {
             "colorbar": {
              "outlinewidth": 0,
              "ticks": ""
             }
            },
            "type": "scatterternary"
           }
          ],
          "surface": [
           {
            "colorbar": {
             "outlinewidth": 0,
             "ticks": ""
            },
            "colorscale": [
             [
              0,
              "#0d0887"
             ],
             [
              0.1111111111111111,
              "#46039f"
             ],
             [
              0.2222222222222222,
              "#7201a8"
             ],
             [
              0.3333333333333333,
              "#9c179e"
             ],
             [
              0.4444444444444444,
              "#bd3786"
             ],
             [
              0.5555555555555556,
              "#d8576b"
             ],
             [
              0.6666666666666666,
              "#ed7953"
             ],
             [
              0.7777777777777778,
              "#fb9f3a"
             ],
             [
              0.8888888888888888,
              "#fdca26"
             ],
             [
              1,
              "#f0f921"
             ]
            ],
            "type": "surface"
           }
          ],
          "table": [
           {
            "cells": {
             "fill": {
              "color": "#EBF0F8"
             },
             "line": {
              "color": "white"
             }
            },
            "header": {
             "fill": {
              "color": "#C8D4E3"
             },
             "line": {
              "color": "white"
             }
            },
            "type": "table"
           }
          ]
         },
         "layout": {
          "annotationdefaults": {
           "arrowcolor": "#2a3f5f",
           "arrowhead": 0,
           "arrowwidth": 1
          },
          "autotypenumbers": "strict",
          "coloraxis": {
           "colorbar": {
            "outlinewidth": 0,
            "ticks": ""
           }
          },
          "colorscale": {
           "diverging": [
            [
             0,
             "#8e0152"
            ],
            [
             0.1,
             "#c51b7d"
            ],
            [
             0.2,
             "#de77ae"
            ],
            [
             0.3,
             "#f1b6da"
            ],
            [
             0.4,
             "#fde0ef"
            ],
            [
             0.5,
             "#f7f7f7"
            ],
            [
             0.6,
             "#e6f5d0"
            ],
            [
             0.7,
             "#b8e186"
            ],
            [
             0.8,
             "#7fbc41"
            ],
            [
             0.9,
             "#4d9221"
            ],
            [
             1,
             "#276419"
            ]
           ],
           "sequential": [
            [
             0,
             "#0d0887"
            ],
            [
             0.1111111111111111,
             "#46039f"
            ],
            [
             0.2222222222222222,
             "#7201a8"
            ],
            [
             0.3333333333333333,
             "#9c179e"
            ],
            [
             0.4444444444444444,
             "#bd3786"
            ],
            [
             0.5555555555555556,
             "#d8576b"
            ],
            [
             0.6666666666666666,
             "#ed7953"
            ],
            [
             0.7777777777777778,
             "#fb9f3a"
            ],
            [
             0.8888888888888888,
             "#fdca26"
            ],
            [
             1,
             "#f0f921"
            ]
           ],
           "sequentialminus": [
            [
             0,
             "#0d0887"
            ],
            [
             0.1111111111111111,
             "#46039f"
            ],
            [
             0.2222222222222222,
             "#7201a8"
            ],
            [
             0.3333333333333333,
             "#9c179e"
            ],
            [
             0.4444444444444444,
             "#bd3786"
            ],
            [
             0.5555555555555556,
             "#d8576b"
            ],
            [
             0.6666666666666666,
             "#ed7953"
            ],
            [
             0.7777777777777778,
             "#fb9f3a"
            ],
            [
             0.8888888888888888,
             "#fdca26"
            ],
            [
             1,
             "#f0f921"
            ]
           ]
          },
          "colorway": [
           "#636efa",
           "#EF553B",
           "#00cc96",
           "#ab63fa",
           "#FFA15A",
           "#19d3f3",
           "#FF6692",
           "#B6E880",
           "#FF97FF",
           "#FECB52"
          ],
          "font": {
           "color": "#2a3f5f"
          },
          "geo": {
           "bgcolor": "white",
           "lakecolor": "white",
           "landcolor": "#E5ECF6",
           "showlakes": true,
           "showland": true,
           "subunitcolor": "white"
          },
          "hoverlabel": {
           "align": "left"
          },
          "hovermode": "closest",
          "mapbox": {
           "style": "light"
          },
          "paper_bgcolor": "white",
          "plot_bgcolor": "#E5ECF6",
          "polar": {
           "angularaxis": {
            "gridcolor": "white",
            "linecolor": "white",
            "ticks": ""
           },
           "bgcolor": "#E5ECF6",
           "radialaxis": {
            "gridcolor": "white",
            "linecolor": "white",
            "ticks": ""
           }
          },
          "scene": {
           "xaxis": {
            "backgroundcolor": "#E5ECF6",
            "gridcolor": "white",
            "gridwidth": 2,
            "linecolor": "white",
            "showbackground": true,
            "ticks": "",
            "zerolinecolor": "white"
           },
           "yaxis": {
            "backgroundcolor": "#E5ECF6",
            "gridcolor": "white",
            "gridwidth": 2,
            "linecolor": "white",
            "showbackground": true,
            "ticks": "",
            "zerolinecolor": "white"
           },
           "zaxis": {
            "backgroundcolor": "#E5ECF6",
            "gridcolor": "white",
            "gridwidth": 2,
            "linecolor": "white",
            "showbackground": true,
            "ticks": "",
            "zerolinecolor": "white"
           }
          },
          "shapedefaults": {
           "line": {
            "color": "#2a3f5f"
           }
          },
          "ternary": {
           "aaxis": {
            "gridcolor": "white",
            "linecolor": "white",
            "ticks": ""
           },
           "baxis": {
            "gridcolor": "white",
            "linecolor": "white",
            "ticks": ""
           },
           "bgcolor": "#E5ECF6",
           "caxis": {
            "gridcolor": "white",
            "linecolor": "white",
            "ticks": ""
           }
          },
          "title": {
           "x": 0.05
          },
          "xaxis": {
           "automargin": true,
           "gridcolor": "white",
           "linecolor": "white",
           "ticks": "",
           "title": {
            "standoff": 15
           },
           "zerolinecolor": "white",
           "zerolinewidth": 2
          },
          "yaxis": {
           "automargin": true,
           "gridcolor": "white",
           "linecolor": "white",
           "ticks": "",
           "title": {
            "standoff": 15
           },
           "zerolinecolor": "white",
           "zerolinewidth": 2
          }
         }
        },
        "xaxis": {
         "anchor": "y",
         "domain": [
          0,
          0.49
         ],
         "title": {
          "text": "Date"
         }
        },
        "xaxis2": {
         "anchor": "y2",
         "domain": [
          0.51,
          1
         ],
         "matches": "x",
         "title": {
          "text": "Date"
         }
        },
        "xaxis3": {
         "anchor": "y3",
         "domain": [
          0,
          0.49
         ],
         "matches": "x",
         "showticklabels": false
        },
        "xaxis4": {
         "anchor": "y4",
         "domain": [
          0.51,
          1
         ],
         "matches": "x",
         "showticklabels": false
        },
        "xaxis5": {
         "anchor": "y5",
         "domain": [
          0,
          0.49
         ],
         "matches": "x",
         "showticklabels": false
        },
        "xaxis6": {
         "anchor": "y6",
         "domain": [
          0.51,
          1
         ],
         "matches": "x",
         "showticklabels": false
        },
        "yaxis": {
         "anchor": "x",
         "domain": [
          0,
          0.2866666666666666
         ],
         "title": {
          "text": "value"
         }
        },
        "yaxis2": {
         "anchor": "x2",
         "domain": [
          0,
          0.2866666666666666
         ],
         "matches": "y",
         "showticklabels": false
        },
        "yaxis3": {
         "anchor": "x3",
         "domain": [
          0.35666666666666663,
          0.6433333333333333
         ],
         "matches": "y",
         "title": {
          "text": "value"
         }
        },
        "yaxis4": {
         "anchor": "x4",
         "domain": [
          0.35666666666666663,
          0.6433333333333333
         ],
         "matches": "y",
         "showticklabels": false
        },
        "yaxis5": {
         "anchor": "x5",
         "domain": [
          0.7133333333333333,
          0.9999999999999999
         ],
         "matches": "y",
         "title": {
          "text": "value"
         }
        },
        "yaxis6": {
         "anchor": "x6",
         "domain": [
          0.7133333333333333,
          0.9999999999999999
         ],
         "matches": "y",
         "showticklabels": false
        }
       }
      }
     },
     "metadata": {},
     "output_type": "display_data"
    }
   ],
   "source": [
    "import plotly.express as px\n",
    "\n",
    "\n",
    "fig = px.area(df3, facet_col=\"Codigo empresa\", facet_col_wrap=2, )\n",
    "fig.show()\n",
    "\n"
   ]
  },
  {
   "cell_type": "code",
   "execution_count": 50,
   "metadata": {},
   "outputs": [
    {
     "data": {
      "application/vnd.plotly.v1+json": {
       "config": {
        "plotlyServerURL": "https://plot.ly"
       },
       "data": [
        {
         "hovertemplate": "Codigo empresa=CABK.MC<br>Date=%{x}<br>Retorno_log=%{y}<extra></extra>",
         "legendgroup": "CABK.MC",
         "marker": {
          "color": "#636efa",
          "symbol": "circle"
         },
         "mode": "markers",
         "name": "CABK.MC",
         "orientation": "v",
         "showlegend": true,
         "type": "scatter",
         "x": [
          "2018-11-30T00:00:00+00:00",
          "2018-12-31T00:00:00+00:00",
          "2019-01-31T00:00:00+00:00",
          "2019-02-28T00:00:00+00:00",
          "2019-03-29T00:00:00+00:00",
          "2019-04-30T00:00:00+00:00",
          "2019-05-31T00:00:00+00:00",
          "2019-06-28T00:00:00+00:00",
          "2019-07-31T00:00:00+00:00",
          "2019-08-30T00:00:00+00:00",
          "2019-09-30T00:00:00+00:00",
          "2019-10-31T00:00:00+00:00",
          "2019-11-29T00:00:00+00:00",
          "2019-12-31T00:00:00+00:00",
          "2020-01-31T00:00:00+00:00",
          "2020-02-28T00:00:00+00:00",
          "2020-03-31T00:00:00+00:00",
          "2020-04-30T00:00:00+00:00",
          "2020-05-29T00:00:00+00:00",
          "2020-06-30T00:00:00+00:00",
          "2020-07-31T00:00:00+00:00",
          "2020-08-31T00:00:00+00:00",
          "2020-09-30T00:00:00+00:00",
          "2020-10-30T00:00:00+00:00",
          "2020-11-30T00:00:00+00:00",
          "2020-12-31T00:00:00+00:00",
          "2021-01-29T00:00:00+00:00",
          "2021-02-26T00:00:00+00:00",
          "2021-03-31T00:00:00+00:00",
          "2021-04-30T00:00:00+00:00",
          "2021-05-31T00:00:00+00:00",
          "2021-06-30T00:00:00+00:00",
          "2021-07-30T00:00:00+00:00",
          "2021-08-31T00:00:00+00:00",
          "2021-09-30T00:00:00+00:00",
          "2021-10-29T00:00:00+00:00",
          "2021-11-30T00:00:00+00:00",
          "2021-12-31T00:00:00+00:00",
          "2022-01-31T00:00:00+00:00",
          "2022-02-28T00:00:00+00:00",
          "2022-03-31T00:00:00+00:00",
          "2022-04-29T00:00:00+00:00",
          "2022-05-31T00:00:00+00:00",
          "2022-06-30T00:00:00+00:00",
          "2022-07-29T00:00:00+00:00",
          "2022-08-31T00:00:00+00:00",
          "2022-09-30T00:00:00+00:00",
          "2022-10-31T00:00:00+00:00",
          "2022-11-30T00:00:00+00:00"
         ],
         "xaxis": "x",
         "y": [
          -0.0020384262762969335,
          -0.007303240159319147,
          -0.001454012409165065,
          0.00071349035974775,
          -0.005439445042825545,
          0.0027480429508972303,
          -0.0013145521120010819,
          -0.004552491483035584,
          -0.004430990266778467,
          -0.004472996506979905,
          0.006388852899073577,
          0.004801421360407366,
          0.0005628732566683799,
          0.002069009978925576,
          -0.002642067338163159,
          -0.0064384852806068146,
          -0.014310677060581428,
          0.0011989175557792747,
          0.0011577618205884399,
          0.004880604757607753,
          -0.001449816956836877,
          0.00016105074628329047,
          -0.0022058765118221093,
          -0.005136469012540367,
          0.014900682548711769,
          -0.0014956381665168046,
          -0.00033378973910948,
          0.00713338697987881,
          0.0032129560180203793,
          0.0013398045066568946,
          0.003500368230316313,
          -0.003975728444603441,
          -0.0020298052575944,
          0.0031475095088447395,
          -0.0009897181613436725,
          -0.0029303258925171003,
          -0.0029319735337830525,
          0.001922206506574805,
          0.00843194631665828,
          -0.0015728832975445701,
          0.005202974976348356,
          0.001124942800875978,
          0.004108066723891509,
          -0.0010979565224671004,
          -0.006159652773608139,
          0.00043867502043221687,
          0.005336237629959058,
          0.000775856264316836,
          -0.005461170835215951
         ],
         "yaxis": "y"
        },
        {
         "hovertemplate": "Codigo empresa=SAN.MC<br>Date=%{x}<br>Retorno_log=%{y}<extra></extra>",
         "legendgroup": "SAN.MC",
         "marker": {
          "color": "#EF553B",
          "symbol": "diamond"
         },
         "mode": "markers",
         "name": "SAN.MC",
         "orientation": "v",
         "showlegend": true,
         "type": "scatter",
         "x": [
          "2018-11-30T00:00:00+00:00",
          "2018-12-31T00:00:00+00:00",
          "2019-01-31T00:00:00+00:00",
          "2019-02-28T00:00:00+00:00",
          "2019-03-29T00:00:00+00:00",
          "2019-04-30T00:00:00+00:00",
          "2019-05-31T00:00:00+00:00",
          "2019-06-28T00:00:00+00:00",
          "2019-07-31T00:00:00+00:00",
          "2019-08-30T00:00:00+00:00",
          "2019-09-30T00:00:00+00:00",
          "2019-10-31T00:00:00+00:00",
          "2019-11-29T00:00:00+00:00",
          "2019-12-31T00:00:00+00:00",
          "2020-01-31T00:00:00+00:00",
          "2020-02-28T00:00:00+00:00",
          "2020-03-31T00:00:00+00:00",
          "2020-04-30T00:00:00+00:00",
          "2020-05-29T00:00:00+00:00",
          "2020-06-30T00:00:00+00:00",
          "2020-07-31T00:00:00+00:00",
          "2020-08-31T00:00:00+00:00",
          "2020-09-30T00:00:00+00:00",
          "2020-10-30T00:00:00+00:00",
          "2020-11-30T00:00:00+00:00",
          "2020-12-31T00:00:00+00:00",
          "2021-01-29T00:00:00+00:00",
          "2021-02-26T00:00:00+00:00",
          "2021-03-31T00:00:00+00:00",
          "2021-04-30T00:00:00+00:00",
          "2021-05-31T00:00:00+00:00",
          "2021-06-30T00:00:00+00:00",
          "2021-07-30T00:00:00+00:00",
          "2021-08-31T00:00:00+00:00",
          "2021-09-30T00:00:00+00:00",
          "2021-10-29T00:00:00+00:00",
          "2021-11-30T00:00:00+00:00",
          "2021-12-31T00:00:00+00:00",
          "2022-01-31T00:00:00+00:00",
          "2022-02-28T00:00:00+00:00",
          "2022-03-31T00:00:00+00:00",
          "2022-04-29T00:00:00+00:00",
          "2022-05-31T00:00:00+00:00",
          "2022-06-30T00:00:00+00:00",
          "2022-07-29T00:00:00+00:00",
          "2022-08-31T00:00:00+00:00",
          "2022-09-30T00:00:00+00:00",
          "2022-10-31T00:00:00+00:00",
          "2022-11-30T00:00:00+00:00"
         ],
         "xaxis": "x",
         "y": [
          -0.0009222523468943997,
          -0.0027358831417231477,
          0.001699476467673635,
          0.0022223931175723247,
          -0.001309802230606915,
          0.004972075451118875,
          -0.006017855880372791,
          0.0015990971877631397,
          -0.0021471471123932166,
          -0.005677098548032067,
          0.0029983928800770905,
          0.0003406308036148698,
          -0.0010222963616570997,
          0.002529961875397748,
          -0.002197653014866136,
          -0.0032986833321489253,
          -0.019054409450319165,
          -0.00014351205638118953,
          9.714451465470119e-18,
          0.002196771454426957,
          -0.007712807833918945,
          0.0015179505699345862,
          -0.007658321892343336,
          0.0037854984554790906,
          0.020228982867376007,
          -0.00038256438839518033,
          -0.0024847961154943698,
          0.00910724664790543,
          -0.00020905624416324995,
          0.006190887612662332,
          0.00357422290288105,
          -0.0025325737524277453,
          -0.003018001110515729,
          0.0012776348233687347,
          -0.0008080885383150088,
          0.0031350418981820048,
          -0.006492642700637421,
          0.002057040497326835,
          0.003344849157576986,
          -0.005603689839988249,
          0.005091118115836165,
          -0.005735660558081644,
          0.002526253260339217,
          -0.00483151719024445,
          -0.00476455665461314,
          -0.0010287279132395,
          0.0003383033104599186,
          0.005448229073983819,
          -0.002005989511339459
         ],
         "yaxis": "y"
        },
        {
         "hovertemplate": "Codigo empresa=BBVA.MC<br>Date=%{x}<br>Retorno_log=%{y}<extra></extra>",
         "legendgroup": "BBVA.MC",
         "marker": {
          "color": "#00cc96",
          "symbol": "square"
         },
         "mode": "markers",
         "name": "BBVA.MC",
         "orientation": "v",
         "showlegend": true,
         "type": "scatter",
         "x": [
          "2018-11-30T00:00:00+00:00",
          "2018-12-31T00:00:00+00:00",
          "2019-01-31T00:00:00+00:00",
          "2019-02-28T00:00:00+00:00",
          "2019-03-29T00:00:00+00:00",
          "2019-04-30T00:00:00+00:00",
          "2019-05-31T00:00:00+00:00",
          "2019-06-28T00:00:00+00:00",
          "2019-07-31T00:00:00+00:00",
          "2019-08-30T00:00:00+00:00",
          "2019-09-30T00:00:00+00:00",
          "2019-10-31T00:00:00+00:00",
          "2019-11-29T00:00:00+00:00",
          "2019-12-31T00:00:00+00:00",
          "2020-01-31T00:00:00+00:00",
          "2020-02-28T00:00:00+00:00",
          "2020-03-31T00:00:00+00:00",
          "2020-04-30T00:00:00+00:00",
          "2020-05-29T00:00:00+00:00",
          "2020-06-30T00:00:00+00:00",
          "2020-07-31T00:00:00+00:00",
          "2020-08-31T00:00:00+00:00",
          "2020-09-30T00:00:00+00:00",
          "2020-10-30T00:00:00+00:00",
          "2020-11-30T00:00:00+00:00",
          "2020-12-31T00:00:00+00:00",
          "2021-01-29T00:00:00+00:00",
          "2021-02-26T00:00:00+00:00",
          "2021-03-31T00:00:00+00:00",
          "2021-04-30T00:00:00+00:00",
          "2021-05-31T00:00:00+00:00",
          "2021-06-30T00:00:00+00:00",
          "2021-07-30T00:00:00+00:00",
          "2021-08-31T00:00:00+00:00",
          "2021-09-30T00:00:00+00:00",
          "2021-10-29T00:00:00+00:00",
          "2021-11-30T00:00:00+00:00",
          "2021-12-31T00:00:00+00:00",
          "2022-01-31T00:00:00+00:00",
          "2022-02-28T00:00:00+00:00",
          "2022-03-31T00:00:00+00:00",
          "2022-04-29T00:00:00+00:00",
          "2022-05-31T00:00:00+00:00",
          "2022-06-30T00:00:00+00:00",
          "2022-07-29T00:00:00+00:00",
          "2022-08-31T00:00:00+00:00",
          "2022-09-30T00:00:00+00:00",
          "2022-10-31T00:00:00+00:00",
          "2022-11-30T00:00:00+00:00"
         ],
         "xaxis": "x",
         "y": [
          0.0006134997034224249,
          -0.004148471601221789,
          0.004993011287494352,
          0.001738297892160675,
          -0.002690707640695375,
          0.00448060793448434,
          -0.004844648314006755,
          0.00048662184591156493,
          -0.0023875355765558414,
          -0.003547739395139076,
          0.003965525139788655,
          0.0013011921974553523,
          0.0004890014526819947,
          0.0019299990993125,
          -0.002961898557964873,
          -0.00375337865167112,
          -0.020155336474584583,
          0.0077261950274736405,
          -0.00323922769305821,
          0.0031364142681053566,
          -0.0060458292387931545,
          -0.0029462500034759457,
          -0.0016530747350397593,
          0.0017317925795654666,
          0.02206853708098639,
          0.00026092694117264305,
          -0.0033911298169380494,
          0.01003353477310753,
          -0.0014194397734836079,
          0.0032826489856030267,
          0.0050946391553706,
          0.001578763950858727,
          -9.086646778926132e-18,
          0.0017958176583145868,
          -0.00008766549574570486,
          0.00434252444434791,
          -0.009991427974095057,
          0.004266980086630874,
          0.004171439617996786,
          -0.006146341968786281,
          0.0017087761890266662,
          -1.0793834961633467e-17,
          -0.00044320731258883084,
          -0.006712844189580264,
          0.0011737628210683252,
          0.00009656242251509176,
          0.0019439045009645333,
          0.0070933468169702,
          0.00244143581712871
         ],
         "yaxis": "y"
        },
        {
         "hovertemplate": "Codigo empresa=BKT.MC<br>Date=%{x}<br>Retorno_log=%{y}<extra></extra>",
         "legendgroup": "BKT.MC",
         "marker": {
          "color": "#ab63fa",
          "symbol": "x"
         },
         "mode": "markers",
         "name": "BKT.MC",
         "orientation": "v",
         "showlegend": true,
         "type": "scatter",
         "x": [
          "2018-11-30T00:00:00+00:00",
          "2018-12-31T00:00:00+00:00",
          "2019-01-31T00:00:00+00:00",
          "2019-02-28T00:00:00+00:00",
          "2019-03-29T00:00:00+00:00",
          "2019-04-30T00:00:00+00:00",
          "2019-05-31T00:00:00+00:00",
          "2019-06-28T00:00:00+00:00",
          "2019-07-31T00:00:00+00:00",
          "2019-08-30T00:00:00+00:00",
          "2019-09-30T00:00:00+00:00",
          "2019-10-31T00:00:00+00:00",
          "2019-11-29T00:00:00+00:00",
          "2019-12-31T00:00:00+00:00",
          "2020-01-31T00:00:00+00:00",
          "2020-02-28T00:00:00+00:00",
          "2020-03-31T00:00:00+00:00",
          "2020-04-30T00:00:00+00:00",
          "2020-05-29T00:00:00+00:00",
          "2020-06-30T00:00:00+00:00",
          "2020-07-31T00:00:00+00:00",
          "2020-08-31T00:00:00+00:00",
          "2020-09-30T00:00:00+00:00",
          "2020-10-30T00:00:00+00:00",
          "2020-11-30T00:00:00+00:00",
          "2020-12-31T00:00:00+00:00",
          "2021-01-29T00:00:00+00:00",
          "2021-02-26T00:00:00+00:00",
          "2021-03-31T00:00:00+00:00",
          "2021-04-30T00:00:00+00:00",
          "2021-05-31T00:00:00+00:00",
          "2021-06-30T00:00:00+00:00",
          "2021-07-30T00:00:00+00:00",
          "2021-08-31T00:00:00+00:00",
          "2021-09-30T00:00:00+00:00",
          "2021-10-29T00:00:00+00:00",
          "2021-11-30T00:00:00+00:00",
          "2021-12-31T00:00:00+00:00",
          "2022-01-31T00:00:00+00:00",
          "2022-02-28T00:00:00+00:00",
          "2022-03-31T00:00:00+00:00",
          "2022-04-29T00:00:00+00:00",
          "2022-05-31T00:00:00+00:00",
          "2022-06-30T00:00:00+00:00",
          "2022-07-29T00:00:00+00:00",
          "2022-08-31T00:00:00+00:00",
          "2022-09-30T00:00:00+00:00",
          "2022-10-31T00:00:00+00:00",
          "2022-11-30T00:00:00+00:00"
         ],
         "xaxis": "x",
         "y": [
          -0.0022434714638553503,
          -0.0021555665703589994,
          -0.0017809285926549997,
          0.003041478042389525,
          -0.0019217068669630049,
          0.0023298723989210648,
          -0.004258431094423754,
          -0.00284741759354476,
          -0.00087554956661735,
          -0.005345151817773753,
          0.003856782453869768,
          0.0042692185295310344,
          0.00044763056360569463,
          0.0018317276584664999,
          -0.005023618112175151,
          -0.00461248668256094,
          -0.02139541682869247,
          0.009111342520327968,
          -0.015850484377315052,
          0.003955294704596804,
          0.002249093511971341,
          0.0009308423337973229,
          -0.010104514235860404,
          -0.005084189305985996,
          0.012431701702719287,
          0.0021610955165627574,
          0.0023337569285064898,
          0.00906175952908672,
          0.0026324542342304625,
          0.004130085023236595,
          0.0012685812780489183,
          -0.003917168010956922,
          0.0032218404035149954,
          0.003791567916830452,
          0.001437038926441036,
          -0.0028823347549824995,
          -0.0034801177249363523,
          0.001754565990563515,
          0.007585328834840036,
          -0.005441261122925824,
          0.0057349204235244,
          0.0024787258604892603,
          0.0020836516644166473,
          0.0007035237758596862,
          -0.01050024927711856,
          0.0016341963813867374,
          0.007395559491437,
          0.0026768189092830318,
          -0.008879549878313141
         ],
         "yaxis": "y"
        },
        {
         "hovertemplate": "Codigo empresa=SAB.MC<br>Date=%{x}<br>Retorno_log=%{y}<extra></extra>",
         "legendgroup": "SAB.MC",
         "marker": {
          "color": "#FFA15A",
          "symbol": "cross"
         },
         "mode": "markers",
         "name": "SAB.MC",
         "orientation": "v",
         "showlegend": true,
         "type": "scatter",
         "x": [
          "2018-11-30T00:00:00+00:00",
          "2018-12-31T00:00:00+00:00",
          "2019-01-31T00:00:00+00:00",
          "2019-02-28T00:00:00+00:00",
          "2019-03-29T00:00:00+00:00",
          "2019-04-30T00:00:00+00:00",
          "2019-05-31T00:00:00+00:00",
          "2019-06-28T00:00:00+00:00",
          "2019-07-31T00:00:00+00:00",
          "2019-08-30T00:00:00+00:00",
          "2019-09-30T00:00:00+00:00",
          "2019-10-31T00:00:00+00:00",
          "2019-11-29T00:00:00+00:00",
          "2019-12-31T00:00:00+00:00",
          "2020-01-31T00:00:00+00:00",
          "2020-02-28T00:00:00+00:00",
          "2020-03-31T00:00:00+00:00",
          "2020-04-30T00:00:00+00:00",
          "2020-05-29T00:00:00+00:00",
          "2020-06-30T00:00:00+00:00",
          "2020-07-31T00:00:00+00:00",
          "2020-08-31T00:00:00+00:00",
          "2020-09-30T00:00:00+00:00",
          "2020-10-30T00:00:00+00:00",
          "2020-11-30T00:00:00+00:00",
          "2020-12-31T00:00:00+00:00",
          "2021-01-29T00:00:00+00:00",
          "2021-02-26T00:00:00+00:00",
          "2021-03-31T00:00:00+00:00",
          "2021-04-30T00:00:00+00:00",
          "2021-05-31T00:00:00+00:00",
          "2021-06-30T00:00:00+00:00",
          "2021-07-30T00:00:00+00:00",
          "2021-08-31T00:00:00+00:00",
          "2021-09-30T00:00:00+00:00",
          "2021-10-29T00:00:00+00:00",
          "2021-11-30T00:00:00+00:00",
          "2021-12-31T00:00:00+00:00",
          "2022-01-31T00:00:00+00:00",
          "2022-02-28T00:00:00+00:00",
          "2022-03-31T00:00:00+00:00",
          "2022-04-29T00:00:00+00:00",
          "2022-05-31T00:00:00+00:00",
          "2022-06-30T00:00:00+00:00",
          "2022-07-29T00:00:00+00:00",
          "2022-08-31T00:00:00+00:00",
          "2022-09-30T00:00:00+00:00",
          "2022-10-31T00:00:00+00:00",
          "2022-11-30T00:00:00+00:00"
         ],
         "xaxis": "x",
         "y": [
          -0.002909814617871575,
          -0.0051998852484205,
          -0.004187810654071739,
          0.004838650279319024,
          -0.006000465399832985,
          0.008271065941425106,
          -0.0019201922282859683,
          -0.00432131152276627,
          -0.005976352650301413,
          -0.0006337034822265759,
          0.005853017485981177,
          0.00498373778711374,
          0.0006786038772771904,
          0.0031209853615596617,
          -0.011139031653890632,
          -0.0014197817081602951,
          -0.022755882981229325,
          -0.009028762296105048,
          -0.016713812171234587,
          0.005686631329404035,
          -0.00295705010365325,
          0.006092069057534359,
          -0.00680012374936661,
          -0.003930507273248242,
          0.012193817572485416,
          0.0015623516585553526,
          0.00108841912083974,
          0.007044862496730695,
          0.0037059241715914244,
          0.007736163922557096,
          0.008987717299254273,
          -0.004636720275992746,
          0.0004917965297434809,
          0.0023462894212810783,
          0.006201972531266414,
          -0.0009311531301565545,
          -0.00640377507522526,
          -0.000766432007369085,
          0.009446629502568832,
          -0.0004943796098362009,
          0.003429998686683809,
          -0.0005498387948209394,
          0.0045563408751988,
          -0.0037723756521995553,
          -0.009836658288264796,
          0.002886264330343662,
          0.0013327750266741865,
          0.007606571419554745,
          -0.0005915718509097803
         ],
         "yaxis": "y"
        }
       ],
       "layout": {
        "legend": {
         "title": {
          "text": "Codigo empresa"
         },
         "tracegroupgap": 0
        },
        "margin": {
         "t": 60
        },
        "template": {
         "data": {
          "bar": [
           {
            "error_x": {
             "color": "#2a3f5f"
            },
            "error_y": {
             "color": "#2a3f5f"
            },
            "marker": {
             "line": {
              "color": "#E5ECF6",
              "width": 0.5
             },
             "pattern": {
              "fillmode": "overlay",
              "size": 10,
              "solidity": 0.2
             }
            },
            "type": "bar"
           }
          ],
          "barpolar": [
           {
            "marker": {
             "line": {
              "color": "#E5ECF6",
              "width": 0.5
             },
             "pattern": {
              "fillmode": "overlay",
              "size": 10,
              "solidity": 0.2
             }
            },
            "type": "barpolar"
           }
          ],
          "carpet": [
           {
            "aaxis": {
             "endlinecolor": "#2a3f5f",
             "gridcolor": "white",
             "linecolor": "white",
             "minorgridcolor": "white",
             "startlinecolor": "#2a3f5f"
            },
            "baxis": {
             "endlinecolor": "#2a3f5f",
             "gridcolor": "white",
             "linecolor": "white",
             "minorgridcolor": "white",
             "startlinecolor": "#2a3f5f"
            },
            "type": "carpet"
           }
          ],
          "choropleth": [
           {
            "colorbar": {
             "outlinewidth": 0,
             "ticks": ""
            },
            "type": "choropleth"
           }
          ],
          "contour": [
           {
            "colorbar": {
             "outlinewidth": 0,
             "ticks": ""
            },
            "colorscale": [
             [
              0,
              "#0d0887"
             ],
             [
              0.1111111111111111,
              "#46039f"
             ],
             [
              0.2222222222222222,
              "#7201a8"
             ],
             [
              0.3333333333333333,
              "#9c179e"
             ],
             [
              0.4444444444444444,
              "#bd3786"
             ],
             [
              0.5555555555555556,
              "#d8576b"
             ],
             [
              0.6666666666666666,
              "#ed7953"
             ],
             [
              0.7777777777777778,
              "#fb9f3a"
             ],
             [
              0.8888888888888888,
              "#fdca26"
             ],
             [
              1,
              "#f0f921"
             ]
            ],
            "type": "contour"
           }
          ],
          "contourcarpet": [
           {
            "colorbar": {
             "outlinewidth": 0,
             "ticks": ""
            },
            "type": "contourcarpet"
           }
          ],
          "heatmap": [
           {
            "colorbar": {
             "outlinewidth": 0,
             "ticks": ""
            },
            "colorscale": [
             [
              0,
              "#0d0887"
             ],
             [
              0.1111111111111111,
              "#46039f"
             ],
             [
              0.2222222222222222,
              "#7201a8"
             ],
             [
              0.3333333333333333,
              "#9c179e"
             ],
             [
              0.4444444444444444,
              "#bd3786"
             ],
             [
              0.5555555555555556,
              "#d8576b"
             ],
             [
              0.6666666666666666,
              "#ed7953"
             ],
             [
              0.7777777777777778,
              "#fb9f3a"
             ],
             [
              0.8888888888888888,
              "#fdca26"
             ],
             [
              1,
              "#f0f921"
             ]
            ],
            "type": "heatmap"
           }
          ],
          "heatmapgl": [
           {
            "colorbar": {
             "outlinewidth": 0,
             "ticks": ""
            },
            "colorscale": [
             [
              0,
              "#0d0887"
             ],
             [
              0.1111111111111111,
              "#46039f"
             ],
             [
              0.2222222222222222,
              "#7201a8"
             ],
             [
              0.3333333333333333,
              "#9c179e"
             ],
             [
              0.4444444444444444,
              "#bd3786"
             ],
             [
              0.5555555555555556,
              "#d8576b"
             ],
             [
              0.6666666666666666,
              "#ed7953"
             ],
             [
              0.7777777777777778,
              "#fb9f3a"
             ],
             [
              0.8888888888888888,
              "#fdca26"
             ],
             [
              1,
              "#f0f921"
             ]
            ],
            "type": "heatmapgl"
           }
          ],
          "histogram": [
           {
            "marker": {
             "pattern": {
              "fillmode": "overlay",
              "size": 10,
              "solidity": 0.2
             }
            },
            "type": "histogram"
           }
          ],
          "histogram2d": [
           {
            "colorbar": {
             "outlinewidth": 0,
             "ticks": ""
            },
            "colorscale": [
             [
              0,
              "#0d0887"
             ],
             [
              0.1111111111111111,
              "#46039f"
             ],
             [
              0.2222222222222222,
              "#7201a8"
             ],
             [
              0.3333333333333333,
              "#9c179e"
             ],
             [
              0.4444444444444444,
              "#bd3786"
             ],
             [
              0.5555555555555556,
              "#d8576b"
             ],
             [
              0.6666666666666666,
              "#ed7953"
             ],
             [
              0.7777777777777778,
              "#fb9f3a"
             ],
             [
              0.8888888888888888,
              "#fdca26"
             ],
             [
              1,
              "#f0f921"
             ]
            ],
            "type": "histogram2d"
           }
          ],
          "histogram2dcontour": [
           {
            "colorbar": {
             "outlinewidth": 0,
             "ticks": ""
            },
            "colorscale": [
             [
              0,
              "#0d0887"
             ],
             [
              0.1111111111111111,
              "#46039f"
             ],
             [
              0.2222222222222222,
              "#7201a8"
             ],
             [
              0.3333333333333333,
              "#9c179e"
             ],
             [
              0.4444444444444444,
              "#bd3786"
             ],
             [
              0.5555555555555556,
              "#d8576b"
             ],
             [
              0.6666666666666666,
              "#ed7953"
             ],
             [
              0.7777777777777778,
              "#fb9f3a"
             ],
             [
              0.8888888888888888,
              "#fdca26"
             ],
             [
              1,
              "#f0f921"
             ]
            ],
            "type": "histogram2dcontour"
           }
          ],
          "mesh3d": [
           {
            "colorbar": {
             "outlinewidth": 0,
             "ticks": ""
            },
            "type": "mesh3d"
           }
          ],
          "parcoords": [
           {
            "line": {
             "colorbar": {
              "outlinewidth": 0,
              "ticks": ""
             }
            },
            "type": "parcoords"
           }
          ],
          "pie": [
           {
            "automargin": true,
            "type": "pie"
           }
          ],
          "scatter": [
           {
            "fillpattern": {
             "fillmode": "overlay",
             "size": 10,
             "solidity": 0.2
            },
            "type": "scatter"
           }
          ],
          "scatter3d": [
           {
            "line": {
             "colorbar": {
              "outlinewidth": 0,
              "ticks": ""
             }
            },
            "marker": {
             "colorbar": {
              "outlinewidth": 0,
              "ticks": ""
             }
            },
            "type": "scatter3d"
           }
          ],
          "scattercarpet": [
           {
            "marker": {
             "colorbar": {
              "outlinewidth": 0,
              "ticks": ""
             }
            },
            "type": "scattercarpet"
           }
          ],
          "scattergeo": [
           {
            "marker": {
             "colorbar": {
              "outlinewidth": 0,
              "ticks": ""
             }
            },
            "type": "scattergeo"
           }
          ],
          "scattergl": [
           {
            "marker": {
             "colorbar": {
              "outlinewidth": 0,
              "ticks": ""
             }
            },
            "type": "scattergl"
           }
          ],
          "scattermapbox": [
           {
            "marker": {
             "colorbar": {
              "outlinewidth": 0,
              "ticks": ""
             }
            },
            "type": "scattermapbox"
           }
          ],
          "scatterpolar": [
           {
            "marker": {
             "colorbar": {
              "outlinewidth": 0,
              "ticks": ""
             }
            },
            "type": "scatterpolar"
           }
          ],
          "scatterpolargl": [
           {
            "marker": {
             "colorbar": {
              "outlinewidth": 0,
              "ticks": ""
             }
            },
            "type": "scatterpolargl"
           }
          ],
          "scatterternary": [
           {
            "marker": {
             "colorbar": {
              "outlinewidth": 0,
              "ticks": ""
             }
            },
            "type": "scatterternary"
           }
          ],
          "surface": [
           {
            "colorbar": {
             "outlinewidth": 0,
             "ticks": ""
            },
            "colorscale": [
             [
              0,
              "#0d0887"
             ],
             [
              0.1111111111111111,
              "#46039f"
             ],
             [
              0.2222222222222222,
              "#7201a8"
             ],
             [
              0.3333333333333333,
              "#9c179e"
             ],
             [
              0.4444444444444444,
              "#bd3786"
             ],
             [
              0.5555555555555556,
              "#d8576b"
             ],
             [
              0.6666666666666666,
              "#ed7953"
             ],
             [
              0.7777777777777778,
              "#fb9f3a"
             ],
             [
              0.8888888888888888,
              "#fdca26"
             ],
             [
              1,
              "#f0f921"
             ]
            ],
            "type": "surface"
           }
          ],
          "table": [
           {
            "cells": {
             "fill": {
              "color": "#EBF0F8"
             },
             "line": {
              "color": "white"
             }
            },
            "header": {
             "fill": {
              "color": "#C8D4E3"
             },
             "line": {
              "color": "white"
             }
            },
            "type": "table"
           }
          ]
         },
         "layout": {
          "annotationdefaults": {
           "arrowcolor": "#2a3f5f",
           "arrowhead": 0,
           "arrowwidth": 1
          },
          "autotypenumbers": "strict",
          "coloraxis": {
           "colorbar": {
            "outlinewidth": 0,
            "ticks": ""
           }
          },
          "colorscale": {
           "diverging": [
            [
             0,
             "#8e0152"
            ],
            [
             0.1,
             "#c51b7d"
            ],
            [
             0.2,
             "#de77ae"
            ],
            [
             0.3,
             "#f1b6da"
            ],
            [
             0.4,
             "#fde0ef"
            ],
            [
             0.5,
             "#f7f7f7"
            ],
            [
             0.6,
             "#e6f5d0"
            ],
            [
             0.7,
             "#b8e186"
            ],
            [
             0.8,
             "#7fbc41"
            ],
            [
             0.9,
             "#4d9221"
            ],
            [
             1,
             "#276419"
            ]
           ],
           "sequential": [
            [
             0,
             "#0d0887"
            ],
            [
             0.1111111111111111,
             "#46039f"
            ],
            [
             0.2222222222222222,
             "#7201a8"
            ],
            [
             0.3333333333333333,
             "#9c179e"
            ],
            [
             0.4444444444444444,
             "#bd3786"
            ],
            [
             0.5555555555555556,
             "#d8576b"
            ],
            [
             0.6666666666666666,
             "#ed7953"
            ],
            [
             0.7777777777777778,
             "#fb9f3a"
            ],
            [
             0.8888888888888888,
             "#fdca26"
            ],
            [
             1,
             "#f0f921"
            ]
           ],
           "sequentialminus": [
            [
             0,
             "#0d0887"
            ],
            [
             0.1111111111111111,
             "#46039f"
            ],
            [
             0.2222222222222222,
             "#7201a8"
            ],
            [
             0.3333333333333333,
             "#9c179e"
            ],
            [
             0.4444444444444444,
             "#bd3786"
            ],
            [
             0.5555555555555556,
             "#d8576b"
            ],
            [
             0.6666666666666666,
             "#ed7953"
            ],
            [
             0.7777777777777778,
             "#fb9f3a"
            ],
            [
             0.8888888888888888,
             "#fdca26"
            ],
            [
             1,
             "#f0f921"
            ]
           ]
          },
          "colorway": [
           "#636efa",
           "#EF553B",
           "#00cc96",
           "#ab63fa",
           "#FFA15A",
           "#19d3f3",
           "#FF6692",
           "#B6E880",
           "#FF97FF",
           "#FECB52"
          ],
          "font": {
           "color": "#2a3f5f"
          },
          "geo": {
           "bgcolor": "white",
           "lakecolor": "white",
           "landcolor": "#E5ECF6",
           "showlakes": true,
           "showland": true,
           "subunitcolor": "white"
          },
          "hoverlabel": {
           "align": "left"
          },
          "hovermode": "closest",
          "mapbox": {
           "style": "light"
          },
          "paper_bgcolor": "white",
          "plot_bgcolor": "#E5ECF6",
          "polar": {
           "angularaxis": {
            "gridcolor": "white",
            "linecolor": "white",
            "ticks": ""
           },
           "bgcolor": "#E5ECF6",
           "radialaxis": {
            "gridcolor": "white",
            "linecolor": "white",
            "ticks": ""
           }
          },
          "scene": {
           "xaxis": {
            "backgroundcolor": "#E5ECF6",
            "gridcolor": "white",
            "gridwidth": 2,
            "linecolor": "white",
            "showbackground": true,
            "ticks": "",
            "zerolinecolor": "white"
           },
           "yaxis": {
            "backgroundcolor": "#E5ECF6",
            "gridcolor": "white",
            "gridwidth": 2,
            "linecolor": "white",
            "showbackground": true,
            "ticks": "",
            "zerolinecolor": "white"
           },
           "zaxis": {
            "backgroundcolor": "#E5ECF6",
            "gridcolor": "white",
            "gridwidth": 2,
            "linecolor": "white",
            "showbackground": true,
            "ticks": "",
            "zerolinecolor": "white"
           }
          },
          "shapedefaults": {
           "line": {
            "color": "#2a3f5f"
           }
          },
          "ternary": {
           "aaxis": {
            "gridcolor": "white",
            "linecolor": "white",
            "ticks": ""
           },
           "baxis": {
            "gridcolor": "white",
            "linecolor": "white",
            "ticks": ""
           },
           "bgcolor": "#E5ECF6",
           "caxis": {
            "gridcolor": "white",
            "linecolor": "white",
            "ticks": ""
           }
          },
          "title": {
           "x": 0.05
          },
          "xaxis": {
           "automargin": true,
           "gridcolor": "white",
           "linecolor": "white",
           "ticks": "",
           "title": {
            "standoff": 15
           },
           "zerolinecolor": "white",
           "zerolinewidth": 2
          },
          "yaxis": {
           "automargin": true,
           "gridcolor": "white",
           "linecolor": "white",
           "ticks": "",
           "title": {
            "standoff": 15
           },
           "zerolinecolor": "white",
           "zerolinewidth": 2
          }
         }
        },
        "xaxis": {
         "anchor": "y",
         "domain": [
          0,
          1
         ],
         "title": {
          "text": "Date"
         }
        },
        "yaxis": {
         "anchor": "x",
         "domain": [
          0,
          1
         ],
         "title": {
          "text": "Retorno_log"
         }
        }
       }
      }
     },
     "metadata": {},
     "output_type": "display_data"
    }
   ],
   "source": [
    "import plotly.express as px\n",
    "\n",
    "fig = px.scatter(df1, x=df1.index, y='Retorno_log', color=\"Codigo empresa\", symbol=\"Codigo empresa\")\n",
    "fig.show()"
   ]
  },
  {
   "cell_type": "code",
   "execution_count": 46,
   "metadata": {},
   "outputs": [
    {
     "data": {
      "text/html": [
       "<div>\n",
       "<style scoped>\n",
       "    .dataframe tbody tr th:only-of-type {\n",
       "        vertical-align: middle;\n",
       "    }\n",
       "\n",
       "    .dataframe tbody tr th {\n",
       "        vertical-align: top;\n",
       "    }\n",
       "\n",
       "    .dataframe thead th {\n",
       "        text-align: right;\n",
       "    }\n",
       "</style>\n",
       "<table border=\"1\" class=\"dataframe\">\n",
       "  <thead>\n",
       "    <tr style=\"text-align: right;\">\n",
       "      <th></th>\n",
       "      <th>Open</th>\n",
       "      <th>High</th>\n",
       "      <th>Low</th>\n",
       "      <th>Close</th>\n",
       "      <th>Adj_Close</th>\n",
       "      <th>Volume</th>\n",
       "      <th>Retorno</th>\n",
       "      <th>Retorno_log</th>\n",
       "      <th>Codigo empresa</th>\n",
       "    </tr>\n",
       "    <tr>\n",
       "      <th>Date</th>\n",
       "      <th></th>\n",
       "      <th></th>\n",
       "      <th></th>\n",
       "      <th></th>\n",
       "      <th></th>\n",
       "      <th></th>\n",
       "      <th></th>\n",
       "      <th></th>\n",
       "      <th></th>\n",
       "    </tr>\n",
       "  </thead>\n",
       "  <tbody>\n",
       "    <tr>\n",
       "      <th>2018-11-30 00:00:00+00:00</th>\n",
       "      <td>3.681417</td>\n",
       "      <td>3.706750</td>\n",
       "      <td>3.637667</td>\n",
       "      <td>3.666000</td>\n",
       "      <td>3.209317</td>\n",
       "      <td>1.285128e+07</td>\n",
       "      <td>-0.001974</td>\n",
       "      <td>-0.002038</td>\n",
       "      <td>CABK.MC</td>\n",
       "    </tr>\n",
       "    <tr>\n",
       "      <th>2018-12-31 00:00:00+00:00</th>\n",
       "      <td>3.340526</td>\n",
       "      <td>3.373579</td>\n",
       "      <td>3.292895</td>\n",
       "      <td>3.316737</td>\n",
       "      <td>2.903568</td>\n",
       "      <td>1.373718e+07</td>\n",
       "      <td>-0.007108</td>\n",
       "      <td>-0.007303</td>\n",
       "      <td>CABK.MC</td>\n",
       "    </tr>\n",
       "    <tr>\n",
       "      <th>2019-01-31 00:00:00+00:00</th>\n",
       "      <td>3.267478</td>\n",
       "      <td>3.308435</td>\n",
       "      <td>3.231522</td>\n",
       "      <td>3.273174</td>\n",
       "      <td>2.865426</td>\n",
       "      <td>1.642768e+07</td>\n",
       "      <td>-0.001203</td>\n",
       "      <td>-0.001454</td>\n",
       "      <td>CABK.MC</td>\n",
       "    </tr>\n",
       "    <tr>\n",
       "      <th>2019-02-28 00:00:00+00:00</th>\n",
       "      <td>2.999800</td>\n",
       "      <td>3.029600</td>\n",
       "      <td>2.961500</td>\n",
       "      <td>2.997700</td>\n",
       "      <td>2.624265</td>\n",
       "      <td>1.883823e+07</td>\n",
       "      <td>0.000842</td>\n",
       "      <td>0.000713</td>\n",
       "      <td>CABK.MC</td>\n",
       "    </tr>\n",
       "    <tr>\n",
       "      <th>2019-03-29 00:00:00+00:00</th>\n",
       "      <td>2.941750</td>\n",
       "      <td>2.969050</td>\n",
       "      <td>2.900100</td>\n",
       "      <td>2.923250</td>\n",
       "      <td>2.559100</td>\n",
       "      <td>1.597695e+07</td>\n",
       "      <td>-0.005284</td>\n",
       "      <td>-0.005439</td>\n",
       "      <td>CABK.MC</td>\n",
       "    </tr>\n",
       "    <tr>\n",
       "      <th>...</th>\n",
       "      <td>...</td>\n",
       "      <td>...</td>\n",
       "      <td>...</td>\n",
       "      <td>...</td>\n",
       "      <td>...</td>\n",
       "      <td>...</td>\n",
       "      <td>...</td>\n",
       "      <td>...</td>\n",
       "      <td>...</td>\n",
       "    </tr>\n",
       "    <tr>\n",
       "      <th>2022-07-29 00:00:00+00:00</th>\n",
       "      <td>0.658850</td>\n",
       "      <td>0.672680</td>\n",
       "      <td>0.633870</td>\n",
       "      <td>0.649850</td>\n",
       "      <td>0.649850</td>\n",
       "      <td>4.466109e+07</td>\n",
       "      <td>-0.009058</td>\n",
       "      <td>-0.009837</td>\n",
       "      <td>SAB.MC</td>\n",
       "    </tr>\n",
       "    <tr>\n",
       "      <th>2022-08-31 00:00:00+00:00</th>\n",
       "      <td>0.657350</td>\n",
       "      <td>0.668433</td>\n",
       "      <td>0.648733</td>\n",
       "      <td>0.658692</td>\n",
       "      <td>0.658692</td>\n",
       "      <td>2.336608e+07</td>\n",
       "      <td>0.003069</td>\n",
       "      <td>0.002886</td>\n",
       "      <td>SAB.MC</td>\n",
       "    </tr>\n",
       "    <tr>\n",
       "      <th>2022-09-30 00:00:00+00:00</th>\n",
       "      <td>0.730286</td>\n",
       "      <td>0.746143</td>\n",
       "      <td>0.715495</td>\n",
       "      <td>0.731610</td>\n",
       "      <td>0.731610</td>\n",
       "      <td>3.883716e+07</td>\n",
       "      <td>0.001805</td>\n",
       "      <td>0.001333</td>\n",
       "      <td>SAB.MC</td>\n",
       "    </tr>\n",
       "    <tr>\n",
       "      <th>2022-10-31 00:00:00+00:00</th>\n",
       "      <td>0.749400</td>\n",
       "      <td>0.762945</td>\n",
       "      <td>0.737482</td>\n",
       "      <td>0.752745</td>\n",
       "      <td>0.752745</td>\n",
       "      <td>2.938024e+07</td>\n",
       "      <td>0.007786</td>\n",
       "      <td>0.007607</td>\n",
       "      <td>SAB.MC</td>\n",
       "    </tr>\n",
       "    <tr>\n",
       "      <th>2022-11-30 00:00:00+00:00</th>\n",
       "      <td>0.805080</td>\n",
       "      <td>0.816620</td>\n",
       "      <td>0.793680</td>\n",
       "      <td>0.803240</td>\n",
       "      <td>0.803240</td>\n",
       "      <td>2.800426e+07</td>\n",
       "      <td>-0.000508</td>\n",
       "      <td>-0.000592</td>\n",
       "      <td>SAB.MC</td>\n",
       "    </tr>\n",
       "  </tbody>\n",
       "</table>\n",
       "<p>245 rows × 9 columns</p>\n",
       "</div>"
      ],
      "text/plain": [
       "                               Open      High       Low     Close  Adj_Close  \\\n",
       "Date                                                                           \n",
       "2018-11-30 00:00:00+00:00  3.681417  3.706750  3.637667  3.666000   3.209317   \n",
       "2018-12-31 00:00:00+00:00  3.340526  3.373579  3.292895  3.316737   2.903568   \n",
       "2019-01-31 00:00:00+00:00  3.267478  3.308435  3.231522  3.273174   2.865426   \n",
       "2019-02-28 00:00:00+00:00  2.999800  3.029600  2.961500  2.997700   2.624265   \n",
       "2019-03-29 00:00:00+00:00  2.941750  2.969050  2.900100  2.923250   2.559100   \n",
       "...                             ...       ...       ...       ...        ...   \n",
       "2022-07-29 00:00:00+00:00  0.658850  0.672680  0.633870  0.649850   0.649850   \n",
       "2022-08-31 00:00:00+00:00  0.657350  0.668433  0.648733  0.658692   0.658692   \n",
       "2022-09-30 00:00:00+00:00  0.730286  0.746143  0.715495  0.731610   0.731610   \n",
       "2022-10-31 00:00:00+00:00  0.749400  0.762945  0.737482  0.752745   0.752745   \n",
       "2022-11-30 00:00:00+00:00  0.805080  0.816620  0.793680  0.803240   0.803240   \n",
       "\n",
       "                                 Volume   Retorno  Retorno_log Codigo empresa  \n",
       "Date                                                                           \n",
       "2018-11-30 00:00:00+00:00  1.285128e+07 -0.001974    -0.002038        CABK.MC  \n",
       "2018-12-31 00:00:00+00:00  1.373718e+07 -0.007108    -0.007303        CABK.MC  \n",
       "2019-01-31 00:00:00+00:00  1.642768e+07 -0.001203    -0.001454        CABK.MC  \n",
       "2019-02-28 00:00:00+00:00  1.883823e+07  0.000842     0.000713        CABK.MC  \n",
       "2019-03-29 00:00:00+00:00  1.597695e+07 -0.005284    -0.005439        CABK.MC  \n",
       "...                                 ...       ...          ...            ...  \n",
       "2022-07-29 00:00:00+00:00  4.466109e+07 -0.009058    -0.009837         SAB.MC  \n",
       "2022-08-31 00:00:00+00:00  2.336608e+07  0.003069     0.002886         SAB.MC  \n",
       "2022-09-30 00:00:00+00:00  3.883716e+07  0.001805     0.001333         SAB.MC  \n",
       "2022-10-31 00:00:00+00:00  2.938024e+07  0.007786     0.007607         SAB.MC  \n",
       "2022-11-30 00:00:00+00:00  2.800426e+07 -0.000508    -0.000592         SAB.MC  \n",
       "\n",
       "[245 rows x 9 columns]"
      ]
     },
     "execution_count": 46,
     "metadata": {},
     "output_type": "execute_result"
    }
   ],
   "source": [
    "df1"
   ]
  },
  {
   "cell_type": "code",
   "execution_count": 118,
   "metadata": {},
   "outputs": [],
   "source": [
    "df2 = df.groupby(by= ['Codigo empresa']).mean()"
   ]
  },
  {
   "cell_type": "code",
   "execution_count": 123,
   "metadata": {},
   "outputs": [],
   "source": [
    "df2[['Volume']]= df2[['Volume']].round()"
   ]
  },
  {
   "cell_type": "code",
   "execution_count": 124,
   "metadata": {},
   "outputs": [
    {
     "data": {
      "text/html": [
       "<div>\n",
       "<style scoped>\n",
       "    .dataframe tbody tr th:only-of-type {\n",
       "        vertical-align: middle;\n",
       "    }\n",
       "\n",
       "    .dataframe tbody tr th {\n",
       "        vertical-align: top;\n",
       "    }\n",
       "\n",
       "    .dataframe thead th {\n",
       "        text-align: right;\n",
       "    }\n",
       "</style>\n",
       "<table border=\"1\" class=\"dataframe\">\n",
       "  <thead>\n",
       "    <tr style=\"text-align: right;\">\n",
       "      <th></th>\n",
       "      <th>Open</th>\n",
       "      <th>High</th>\n",
       "      <th>Low</th>\n",
       "      <th>Close</th>\n",
       "      <th>Adj_Close</th>\n",
       "      <th>Volume</th>\n",
       "      <th>Retorno</th>\n",
       "      <th>Retorno_log</th>\n",
       "    </tr>\n",
       "    <tr>\n",
       "      <th>Codigo empresa</th>\n",
       "      <th></th>\n",
       "      <th></th>\n",
       "      <th></th>\n",
       "      <th></th>\n",
       "      <th></th>\n",
       "      <th></th>\n",
       "      <th></th>\n",
       "      <th></th>\n",
       "    </tr>\n",
       "  </thead>\n",
       "  <tbody>\n",
       "    <tr>\n",
       "      <th>BBVA.MC</th>\n",
       "      <td>4.557388</td>\n",
       "      <td>4.621121</td>\n",
       "      <td>4.492641</td>\n",
       "      <td>4.557242</td>\n",
       "      <td>4.097193</td>\n",
       "      <td>28088407.0</td>\n",
       "      <td>0.000591</td>\n",
       "      <td>0.000272</td>\n",
       "    </tr>\n",
       "    <tr>\n",
       "      <th>BKT.MC</th>\n",
       "      <td>5.034698</td>\n",
       "      <td>5.101608</td>\n",
       "      <td>4.960653</td>\n",
       "      <td>5.029201</td>\n",
       "      <td>4.605702</td>\n",
       "      <td>3711940.0</td>\n",
       "      <td>0.000215</td>\n",
       "      <td>-0.000135</td>\n",
       "    </tr>\n",
       "    <tr>\n",
       "      <th>CABK.MC</th>\n",
       "      <td>2.603269</td>\n",
       "      <td>2.640839</td>\n",
       "      <td>2.563727</td>\n",
       "      <td>2.600818</td>\n",
       "      <td>2.441814</td>\n",
       "      <td>17672685.0</td>\n",
       "      <td>0.000272</td>\n",
       "      <td>-0.000029</td>\n",
       "    </tr>\n",
       "    <tr>\n",
       "      <th>SAB.MC</th>\n",
       "      <td>0.681065</td>\n",
       "      <td>0.693382</td>\n",
       "      <td>0.667477</td>\n",
       "      <td>0.679892</td>\n",
       "      <td>0.639792</td>\n",
       "      <td>40954330.0</td>\n",
       "      <td>0.000299</td>\n",
       "      <td>-0.000251</td>\n",
       "    </tr>\n",
       "    <tr>\n",
       "      <th>SAN.MC</th>\n",
       "      <td>3.023879</td>\n",
       "      <td>3.064347</td>\n",
       "      <td>2.979195</td>\n",
       "      <td>3.020909</td>\n",
       "      <td>2.771478</td>\n",
       "      <td>65968277.0</td>\n",
       "      <td>0.000012</td>\n",
       "      <td>-0.000288</td>\n",
       "    </tr>\n",
       "  </tbody>\n",
       "</table>\n",
       "</div>"
      ],
      "text/plain": [
       "                    Open      High       Low     Close  Adj_Close      Volume  \\\n",
       "Codigo empresa                                                                  \n",
       "BBVA.MC         4.557388  4.621121  4.492641  4.557242   4.097193  28088407.0   \n",
       "BKT.MC          5.034698  5.101608  4.960653  5.029201   4.605702   3711940.0   \n",
       "CABK.MC         2.603269  2.640839  2.563727  2.600818   2.441814  17672685.0   \n",
       "SAB.MC          0.681065  0.693382  0.667477  0.679892   0.639792  40954330.0   \n",
       "SAN.MC          3.023879  3.064347  2.979195  3.020909   2.771478  65968277.0   \n",
       "\n",
       "                 Retorno  Retorno_log  \n",
       "Codigo empresa                         \n",
       "BBVA.MC         0.000591     0.000272  \n",
       "BKT.MC          0.000215    -0.000135  \n",
       "CABK.MC         0.000272    -0.000029  \n",
       "SAB.MC          0.000299    -0.000251  \n",
       "SAN.MC          0.000012    -0.000288  "
      ]
     },
     "execution_count": 124,
     "metadata": {},
     "output_type": "execute_result"
    }
   ],
   "source": [
    "df2"
   ]
  },
  {
   "cell_type": "code",
   "execution_count": 134,
   "metadata": {},
   "outputs": [
    {
     "data": {
      "text/plain": [
       "37260303"
      ]
     },
     "execution_count": 134,
     "metadata": {},
     "output_type": "execute_result"
    }
   ],
   "source": [
    "df.Volume.iloc[-1]"
   ]
  }
 ],
 "metadata": {
  "kernelspec": {
   "display_name": "Python 3.7.4 64-bit",
   "language": "python",
   "name": "python3"
  },
  "language_info": {
   "codemirror_mode": {
    "name": "ipython",
    "version": 3
   },
   "file_extension": ".py",
   "mimetype": "text/x-python",
   "name": "python",
   "nbconvert_exporter": "python",
   "pygments_lexer": "ipython3",
   "version": "3.7.4"
  },
  "orig_nbformat": 4,
  "vscode": {
   "interpreter": {
    "hash": "aee8b7b246df8f9039afb4144a1f6fd8d2ca17a180786b69acc140d282b71a49"
   }
  }
 },
 "nbformat": 4,
 "nbformat_minor": 2
}
